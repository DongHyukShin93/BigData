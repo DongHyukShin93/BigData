{
 "cells": [
  {
   "cell_type": "code",
   "execution_count": 1,
   "metadata": {},
   "outputs": [
    {
     "name": "stdout",
     "output_type": "stream",
     "text": [
      "3\n",
      "7\n"
     ]
    }
   ],
   "source": [
    "result = 0\n",
    "\n",
    "def add(num) :\n",
    "    global result\n",
    "    result += num\n",
    "    return result\n",
    "print(add(3))\n",
    "print(add(4))"
   ]
  },
  {
   "cell_type": "code",
   "execution_count": 3,
   "metadata": {},
   "outputs": [
    {
     "name": "stdout",
     "output_type": "stream",
     "text": [
      "3\n",
      "7\n",
      "4\n",
      "9\n"
     ]
    }
   ],
   "source": [
    "result01 = 0\n",
    "result02 = 0\n",
    "def add1(num) :\n",
    "    global result01\n",
    "    result01 += num\n",
    "    return result01\n",
    "def add2(num) :\n",
    "    global result02\n",
    "    result02 += num\n",
    "    return result02\n",
    "print(add1(3))\n",
    "print(add1(4))\n",
    "print(add2(4))\n",
    "print(add2(5))"
   ]
  },
  {
   "cell_type": "code",
   "execution_count": 8,
   "metadata": {},
   "outputs": [
    {
     "name": "stdout",
     "output_type": "stream",
     "text": [
      "3\n",
      "7\n",
      "3\n",
      "10\n",
      "2\n",
      "-2\n"
     ]
    }
   ],
   "source": [
    "class Calculator :\n",
    "    def __init__(self) :\n",
    "        pass\n",
    "    def __init__(self) :\n",
    "        self.result = 0\n",
    "    def add(self,num) :\n",
    "        self.result += num\n",
    "        return self.result\n",
    "    def sub(self,num) :\n",
    "        self.result -= num\n",
    "        return self.result\n",
    "cal1 = Calculator()\n",
    "cal2 = Calculator()\n",
    "print(cal1.add(3))\n",
    "print(cal1.add(4))\n",
    "print(cal2.add(3))\n",
    "print(cal2.add(7))\n",
    "print(cal1.sub(5)) # 15라인의 print(cal1.add(4))의 값을 기억하고 있다. Why? 같은 객체인 cal1을 썼기때문에\n",
    "print(cal1.sub(4))"
   ]
  },
  {
   "cell_type": "code",
   "execution_count": 17,
   "metadata": {},
   "outputs": [
    {
     "name": "stdout",
     "output_type": "stream",
     "text": [
      "<class '__main__.Cookie'>\n"
     ]
    },
    {
     "data": {
      "text/plain": [
       "type"
      ]
     },
     "execution_count": 17,
     "metadata": {},
     "output_type": "execute_result"
    }
   ],
   "source": [
    "class Cookie :\n",
    "    pass\n",
    "a = Cookie()\n",
    "b = Cookie # 괄호 빼먹으면 안되요\n",
    "print(type(a))\n",
    "type(b)"
   ]
  },
  {
   "cell_type": "code",
   "execution_count": 18,
   "metadata": {
    "scrolled": true
   },
   "outputs": [
    {
     "data": {
      "text/plain": [
       "__main__.FourCal"
      ]
     },
     "execution_count": 18,
     "metadata": {},
     "output_type": "execute_result"
    }
   ],
   "source": [
    "class FourCal :\n",
    "    pass\n",
    "a = FourCal()\n",
    "type(a)"
   ]
  },
  {
   "cell_type": "code",
   "execution_count": 19,
   "metadata": {},
   "outputs": [
    {
     "name": "stdout",
     "output_type": "stream",
     "text": [
      "7\n",
      "2\n"
     ]
    }
   ],
   "source": [
    "class FourCal :\n",
    "    def setdata(self, first, second) :\n",
    "        self.first = first\n",
    "        self.second = second\n",
    "a = FourCal()\n",
    "a.setdata(7,5) # '객체 . 메서드' 형태로 출력할 때는 첫 번째 매개변수 self를 반드시 생략\n",
    "print(a.first)\n",
    "FourCal.setdata(a,4,2) # '클래스이름 . 메서드' 형태로 출력할 때 객체 a를 첫 번째 매개변수 self에 꼭 전달\n",
    "print(a.second)"
   ]
  },
  {
   "cell_type": "code",
   "execution_count": 20,
   "metadata": {},
   "outputs": [
    {
     "name": "stdout",
     "output_type": "stream",
     "text": [
      "3\n",
      "9\n"
     ]
    }
   ],
   "source": [
    "class FourCal :\n",
    "    def setdata(self, first, second) :\n",
    "        self.first = first\n",
    "        self.second = second\n",
    "a = FourCal()\n",
    "b = FourCal()\n",
    "a.setdata(5,3)\n",
    "b.setdata(9,2)\n",
    "print(a.second)\n",
    "print(b.first)"
   ]
  },
  {
   "cell_type": "code",
   "execution_count": 27,
   "metadata": {},
   "outputs": [
    {
     "name": "stdout",
     "output_type": "stream",
     "text": [
      "1662479616\n",
      "1662479616\n"
     ]
    }
   ],
   "source": [
    "class FourCal :\n",
    "    def setdata(self, first, second) :\n",
    "        self.first = first\n",
    "        self.second = second\n",
    "a = FourCal() # 괄호 빼먹지 않기\n",
    "b = FourCal() # 괄호 빼먹지 않기\n",
    "a.setdata(7,3)\n",
    "b.setdata(7,4)\n",
    "print(id(a.first))\n",
    "print(id(b.first))"
   ]
  },
  {
   "cell_type": "code",
   "execution_count": 28,
   "metadata": {},
   "outputs": [
    {
     "name": "stdout",
     "output_type": "stream",
     "text": [
      "14\n"
     ]
    }
   ],
   "source": [
    "class FourCal :\n",
    "    def setdata(self, first, second) :\n",
    "        self.first = first\n",
    "        self.second = second\n",
    "    def add(self) :\n",
    "        result = self.first + self.second\n",
    "        return result\n",
    "a = FourCal() # 또 또 또 괄호 빼먹음\n",
    "a.setdata(9,5)\n",
    "print(a.add())"
   ]
  },
  {
   "cell_type": "code",
   "execution_count": 31,
   "metadata": {},
   "outputs": [
    {
     "name": "stdout",
     "output_type": "stream",
     "text": [
      "7\n",
      "3\n",
      "10\n",
      "2.5\n",
      "15\n",
      "3\n",
      "54\n",
      "1.5\n"
     ]
    }
   ],
   "source": [
    "class FourCal :\n",
    "    def setdata(self, first, second) :\n",
    "        self.first = first\n",
    "        self.second = second\n",
    "    def add(self) :\n",
    "        result = self.first + self.second\n",
    "        return result\n",
    "    def sub(self) :\n",
    "        result = self.first - self.second\n",
    "        return result\n",
    "    def mul(self) :\n",
    "        result = self.first * self.second\n",
    "        return result\n",
    "    def div(self) :\n",
    "        result = self.first / self.second\n",
    "        return result\n",
    "a = FourCal()\n",
    "b = FourCal()\n",
    "a.setdata(5,2)\n",
    "b.setdata(9,6)\n",
    "print(a.add())\n",
    "print(a.sub())\n",
    "print(a.mul())\n",
    "print(a.div())\n",
    "print(b.add())\n",
    "print(b.sub())\n",
    "print(b.mul())\n",
    "print(b.div())"
   ]
  },
  {
   "cell_type": "code",
   "execution_count": 32,
   "metadata": {},
   "outputs": [
    {
     "name": "stdout",
     "output_type": "stream",
     "text": [
      "9\n",
      "4\n",
      "13\n",
      "5\n",
      "36\n",
      "2.25\n"
     ]
    }
   ],
   "source": [
    "class FourCal :\n",
    "    def __init__(self) :\n",
    "        pass\n",
    "    def __init__(self, first, second) :\n",
    "        self.first = first\n",
    "        self.second = second\n",
    "    def setdata(self, first, second) :\n",
    "        self.first = first\n",
    "        self.second = second\n",
    "    def add(self) :\n",
    "        result = self.first + self.second\n",
    "        return result\n",
    "    def sub(self) :\n",
    "        result = self.first - self.second\n",
    "        return result\n",
    "    def mul(self) :\n",
    "        result = self.first * self.second\n",
    "        return result\n",
    "    def div(self) :\n",
    "        result = self.first / self.second\n",
    "        return result\n",
    "a = FourCal(9,4)\n",
    "print(a.first)\n",
    "print(a.second)\n",
    "print(a.add())\n",
    "print(a.sub())\n",
    "print(a.mul())\n",
    "print(a.div())"
   ]
  },
  {
   "cell_type": "code",
   "execution_count": 33,
   "metadata": {},
   "outputs": [
    {
     "name": "stdout",
     "output_type": "stream",
     "text": [
      "12\n",
      "27\n",
      "3.0\n",
      "6\n"
     ]
    }
   ],
   "source": [
    "class FourCal :\n",
    "    def __init__(self, first, second) :\n",
    "        self.first = first\n",
    "        self.second = second\n",
    "    def add(self) :\n",
    "        result = self.first + self.second\n",
    "        return result\n",
    "    def sub(self) :\n",
    "        result = self.first - self.second\n",
    "        return result\n",
    "    def mul(self) :\n",
    "        result = self.first * self.second\n",
    "        return result\n",
    "    def div(self) :\n",
    "        result = self.first / self.second\n",
    "        return result\n",
    "class MoreFourCal(FourCal) :\n",
    "    pass\n",
    "a = MoreFourCal(9,3)\n",
    "print(a.add())\n",
    "print(a.mul())\n",
    "print(a.div())\n",
    "print(a.sub())"
   ]
  },
  {
   "cell_type": "code",
   "execution_count": 35,
   "metadata": {},
   "outputs": [
    {
     "name": "stdout",
     "output_type": "stream",
     "text": [
      "16\n"
     ]
    }
   ],
   "source": [
    "class FourCal :\n",
    "    def __init__(self) :\n",
    "        pass\n",
    "    def __init__(self, first, second) :\n",
    "        self.first = first\n",
    "        self.second = second\n",
    "    def mul(self) :\n",
    "        result = self.first * self.second\n",
    "        return result\n",
    "    def sub(self) :\n",
    "        result = self.first - self.second\n",
    "        return result\n",
    "    def div(self) :\n",
    "        result = self.first / self.second\n",
    "        return result\n",
    "    def add(self) :\n",
    "        result = self.first + self.seconf\n",
    "        return result\n",
    "class MoreFourCal(FourCal) :\n",
    "    def pow(self) :\n",
    "        result = self.first ** self.second\n",
    "        return result\n",
    "a = MoreFourCal(4,2)\n",
    "print(a.pow())"
   ]
  },
  {
   "cell_type": "code",
   "execution_count": 8,
   "metadata": {},
   "outputs": [
    {
     "name": "stdout",
     "output_type": "stream",
     "text": [
      "2.0\n",
      "0\n"
     ]
    }
   ],
   "source": [
    "class FourCal :\n",
    "    def __init__(self) :\n",
    "        pass\n",
    "    def __init__(self, first, second) :\n",
    "        self.first = first\n",
    "        self.second = second\n",
    "    def add(self) :\n",
    "        result = self.first + self.second\n",
    "        return result\n",
    "    def div(self) :\n",
    "        result = self.first / self.second\n",
    "        return result\n",
    "    def sub(self) :\n",
    "        result = self.first - self.second\n",
    "        return result\n",
    "    def mul(self) :\n",
    "        result = self.first * self.second\n",
    "        return result\n",
    "# a = FourCal(4,0)\n",
    "# print(a.div())\n",
    "class SafeFourCal(FourCal) : # a = FourCal(4,0) 실행하면 오류가 발생하기 때문에 Override 했다.\n",
    "    def div(self) :\n",
    "        if self.second == 0  :\n",
    "            return 0\n",
    "        else :\n",
    "            result = self.first / self.second # 간단하게 return self.first / self.second 라고 작성할 수 있다.\n",
    "            return result\n",
    "a = SafeFourCal(4,2)\n",
    "b = SafeFourCal(5,0)\n",
    "print(a.div())\n",
    "print(b.div())"
   ]
  }
 ],
 "metadata": {
  "kernelspec": {
   "display_name": "Python 3",
   "language": "python",
   "name": "python3"
  },
  "language_info": {
   "codemirror_mode": {
    "name": "ipython",
    "version": 3
   },
   "file_extension": ".py",
   "mimetype": "text/x-python",
   "name": "python",
   "nbconvert_exporter": "python",
   "pygments_lexer": "ipython3",
   "version": "3.6.5"
  }
 },
 "nbformat": 4,
 "nbformat_minor": 2
}
