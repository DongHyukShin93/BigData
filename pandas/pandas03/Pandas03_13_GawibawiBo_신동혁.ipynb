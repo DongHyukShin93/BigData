{
 "cells": [
  {
   "cell_type": "code",
   "execution_count": null,
   "metadata": {},
   "outputs": [],
   "source": [
    "import sys\n",
    "import random\n",
    "menuList = [\"가위\", \"바위\", \"보\", \"횟수 입력\", \"종료\"]\n",
    "menuChk = [1, 2, 3, 4, 9]\n",
    "rspDic = {}\n",
    "for i in range(3) :\n",
    "    rspDic[menuChk[i]] = menuList[i]\n",
    "userNum = input(\"\\t번호를 선택하세요. \")\n",
    "print(\"Com : %s / User : %s\" %(rspDic[comNum], rspDic[userNum]), end=\"\\t\")\n",
    "if comNum == 2 :\n",
    "    print(\"Com Win ! 컴퓨터가 이겼습니다 !\")\n",
    "    comwin += 1\n",
    "elif comNum == 3 :\n",
    "    print(\"You Win ! 당신이 이겼습니다 !\")\n",
    "    userwin += 1\n",
    "print(\"\\n=> 현재 스코어 %d : %d (컴퓨터 : 당신) 입니다.\" %(comwin, userwin))"
   ]
  }
 ],
 "metadata": {
  "kernelspec": {
   "display_name": "Python 3",
   "language": "python",
   "name": "python3"
  },
  "language_info": {
   "codemirror_mode": {
    "name": "ipython",
    "version": 3
   },
   "file_extension": ".py",
   "mimetype": "text/x-python",
   "name": "python",
   "nbconvert_exporter": "python",
   "pygments_lexer": "ipython3",
   "version": "3.6.5"
  }
 },
 "nbformat": 4,
 "nbformat_minor": 2
}
