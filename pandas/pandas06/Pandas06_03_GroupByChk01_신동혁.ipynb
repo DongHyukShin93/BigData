{
 "cells": [
  {
   "cell_type": "code",
   "execution_count": 1,
   "metadata": {},
   "outputs": [],
   "source": [
    "import pandas as pd"
   ]
  },
  {
   "cell_type": "code",
   "execution_count": 2,
   "metadata": {},
   "outputs": [],
   "source": [
    "df = pd.read_csv(\"./../../DoItPandas/data/gapminder.tsv\",sep=\"\\t\")"
   ]
  },
  {
   "cell_type": "code",
   "execution_count": 3,
   "metadata": {},
   "outputs": [
    {
     "data": {
      "text/plain": [
       "pandas.core.frame.DataFrame"
      ]
     },
     "execution_count": 3,
     "metadata": {},
     "output_type": "execute_result"
    }
   ],
   "source": [
    "type(df)"
   ]
  },
  {
   "cell_type": "code",
   "execution_count": 4,
   "metadata": {},
   "outputs": [
    {
     "data": {
      "text/plain": [
       "pandas.core.series.Series"
      ]
     },
     "execution_count": 4,
     "metadata": {},
     "output_type": "execute_result"
    }
   ],
   "source": [
    "type(df[\"pop\"])"
   ]
  },
  {
   "cell_type": "code",
   "execution_count": 6,
   "metadata": {},
   "outputs": [
    {
     "name": "stdout",
     "output_type": "stream",
     "text": [
      "<class 'pandas.core.groupby.groupby.DataFrameGroupBy'>\n",
      "<pandas.core.groupby.groupby.SeriesGroupBy object at 0x000002CD19EC86A0>\n"
     ]
    }
   ],
   "source": [
    "grouped_year_df = df.groupby(\"year\")\n",
    "print(type(grouped_year_df))\n",
    "print(grouped_year_df[\"pop\"])"
   ]
  },
  {
   "cell_type": "code",
   "execution_count": 7,
   "metadata": {},
   "outputs": [
    {
     "data": {
      "text/plain": [
       "year\n",
       "1952    1.695040e+07\n",
       "1957    1.876341e+07\n",
       "1962    2.042101e+07\n",
       "1967    2.265830e+07\n",
       "1972    2.518998e+07\n",
       "1977    2.767638e+07\n",
       "1982    3.020730e+07\n",
       "1987    3.303857e+07\n",
       "1992    3.599092e+07\n",
       "1997    3.883947e+07\n",
       "2002    4.145759e+07\n",
       "2007    4.402122e+07\n",
       "Name: pop, dtype: float64"
      ]
     },
     "execution_count": 7,
     "metadata": {},
     "output_type": "execute_result"
    }
   ],
   "source": [
    "grouped_year_df[\"pop\"].mean() # e+0a 이면 10의 a승을 의미한다"
   ]
  }
 ],
 "metadata": {
  "kernelspec": {
   "display_name": "Python 3",
   "language": "python",
   "name": "python3"
  },
  "language_info": {
   "codemirror_mode": {
    "name": "ipython",
    "version": 3
   },
   "file_extension": ".py",
   "mimetype": "text/x-python",
   "name": "python",
   "nbconvert_exporter": "python",
   "pygments_lexer": "ipython3",
   "version": "3.6.5"
  }
 },
 "nbformat": 4,
 "nbformat_minor": 2
}
