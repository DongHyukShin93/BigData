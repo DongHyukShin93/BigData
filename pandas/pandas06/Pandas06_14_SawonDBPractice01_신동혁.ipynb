{
 "cells": [
  {
   "cell_type": "code",
   "execution_count": 2,
   "metadata": {},
   "outputs": [],
   "source": [
    "import pandas as pd"
   ]
  },
  {
   "cell_type": "code",
   "execution_count": 3,
   "metadata": {},
   "outputs": [],
   "source": [
    "deptDB = pd.read_csv(\"./../../DoItPandas/data/sawonDB/deptDB.csv\",header=None,names=[\"deptno\", \"dname\", \"loc\"]) # deptno(부서번호), dname(부서이름), loc()\n",
    "sawonDB = pd.read_csv(\"./../../DoItPandas/data/sawonDB/sawonDB.csv\",header=None,names=[\"sabun\", \"saname\", \"deptno\", \"sajob\", \"sapay\",\"sahire\",\"sasex\",\"samgr\"]) # sahire(입사일), samgr(매니져) \n",
    "gogekDB = pd.read_csv(\"./../../DoItPandas/data/sawonDB/gogekDB.csv\",header=None,names=[\"gobun\", \"goname\", \"gotel\", 'gojumin', \"godam\"]) # godam(고객담당)"
   ]
  },
  {
   "cell_type": "code",
   "execution_count": 4,
   "metadata": {},
   "outputs": [],
   "source": [
    "deptDB = deptDB.replace(\"\\'\",\"\",regex=True)\n",
    "sawonDB = sawonDB.replace(\"\\'\",\"\",regex=True)\n",
    "gogekDB = gogekDB.replace(\"\\'\",\"\",regex=True)"
   ]
  },
  {
   "cell_type": "markdown",
   "metadata": {},
   "source": [
    "## Q01. SawonDB 데이터에서 입사년도가 88년도인 레코드 출력"
   ]
  },
  {
   "cell_type": "markdown",
   "metadata": {},
   "source": [
    "### 방법 1."
   ]
  },
  {
   "cell_type": "code",
   "execution_count": 5,
   "metadata": {},
   "outputs": [
    {
     "name": "stdout",
     "output_type": "stream",
     "text": [
      "   sabun saname  deptno sajob  sapay       sahire sasex samgr\n",
      "1      2    한국남      20    부장   3000   1988/11/01    남자     1\n",
      "   sabun saname  deptno sajob  sapay       sahire sasex samgr\n",
      "9     19    임꺽정      20    사원   2200   1988/04/01    남자     7\n",
      "    sabun saname  deptno sajob  sapay       sahire sasex samgr\n",
      "14     10    공부해      30    사원   1303   1988/11/01    남자     4\n"
     ]
    }
   ],
   "source": [
    "for i in range(len(sawonDB)) :\n",
    "    if sawonDB[\"sahire\"][i][1:5] == '1988' : # if sawonDB.iloc[:,5][i][3:5] == \"88\"\n",
    "        #print(sawonDB['saname'][i])\n",
    "        print(sawonDB.iloc[[i]])"
   ]
  },
  {
   "cell_type": "markdown",
   "metadata": {},
   "source": [
    "### 방법 2."
   ]
  },
  {
   "cell_type": "code",
   "execution_count": 9,
   "metadata": {},
   "outputs": [],
   "source": [
    "sawon_sahire = (sawonDB.iloc[:,5][1:5]== \"1988\") #sawonDB.iloc[:,5] == sawonDB[\"sahire\"]\n",
    "# sawon_sahire\n",
    "# print(sawonDB.loc[[True,False,True]])"
   ]
  },
  {
   "cell_type": "markdown",
   "metadata": {},
   "source": [
    "## Q02. SawonDB 데이터에서 4월에 입사한 사원을 출력."
   ]
  },
  {
   "cell_type": "code",
   "execution_count": 10,
   "metadata": {},
   "outputs": [
    {
     "name": "stdout",
     "output_type": "stream",
     "text": [
      "   sabun saname  deptno sajob  sapay       sahire sasex samgr\n",
      "9     19    임꺽정      20    사원   2200   1988/04/01    남자     7\n",
      "    sabun saname  deptno sajob  sapay       sahire sasex samgr\n",
      "13      4    이미라      30    대리   2503   1983/04/01    여자    17\n",
      "    sabun saname  deptno sajob  sapay       sahire sasex samgr\n",
      "17     15    최진실      10    사원   2000   1991/04/01    여자    12\n",
      "    sabun saname  deptno sajob  sapay       sahire sasex samgr\n",
      "18     16    김유신      30    사원    400   1981/04/01    남자     4\n"
     ]
    }
   ],
   "source": [
    "for i in range(len(sawonDB)) :\n",
    "    if sawonDB[\"sahire\"][i][6:8] == \"04\" :\n",
    "        #print(sawonDB[\"saname\"][i])\n",
    "        print(sawonDB.iloc[[i]])"
   ]
  },
  {
   "cell_type": "markdown",
   "metadata": {},
   "source": [
    "## Q03. SawonDB 데이터에서 사원번호가 짝수인 사람 출력."
   ]
  },
  {
   "cell_type": "markdown",
   "metadata": {},
   "source": [
    "### 방법 1."
   ]
  },
  {
   "cell_type": "code",
   "execution_count": 11,
   "metadata": {},
   "outputs": [
    {
     "name": "stdout",
     "output_type": "stream",
     "text": [
      "   sabun saname  deptno sajob  sapay       sahire sasex samgr\n",
      "1      2    한국남      20    부장   3000   1988/11/01    남자     1\n",
      "   sabun saname  deptno sajob  sapay       sahire sasex samgr\n",
      "6     14    채시라      20    사원   3400   1993/10/01    여자     3\n",
      "    sabun saname  deptno sajob  sapay       sahire sasex samgr\n",
      "10     20    깨똥이      10    과장   4500   1990/05/01    남자    13\n",
      "    sabun saname  deptno sajob  sapay       sahire sasex samgr\n",
      "11      6    공부만      30    과장   4003   1995/05/01    남자    17\n",
      "    sabun saname  deptno sajob  sapay       sahire sasex samgr\n",
      "12      8    채송화      30    대리   1703   1992/06/01    여자    17\n",
      "    sabun saname  deptno sajob  sapay       sahire sasex samgr\n",
      "13      4    이미라      30    대리   2503   1983/04/01    여자    17\n",
      "    sabun saname  deptno sajob  sapay       sahire sasex samgr\n",
      "14     10    공부해      30    사원   1303   1988/11/01    남자     4\n",
      "    sabun saname  deptno sajob  sapay       sahire sasex samgr\n",
      "15     12    뷰명한      10    대리   1800   1990/10/01    남자    20\n",
      "    sabun saname  deptno sajob  sapay       sahire sasex samgr\n",
      "18     16    김유신      30    사원    400   1981/04/01    남자     4\n",
      "    sabun saname  deptno sajob  sapay       sahire sasex samgr\n",
      "19     18    강감찬      30    사원   1003   1986/07/01    남자     4\n"
     ]
    },
    {
     "data": {
      "text/plain": [
       "pandas.core.series.Series"
      ]
     },
     "execution_count": 11,
     "metadata": {},
     "output_type": "execute_result"
    }
   ],
   "source": [
    "for i in range(len(sawonDB)) :\n",
    "    if sawonDB[\"sabun\"][i] % 2 == 0 :\n",
    "        #print(sawonDB[\"saname\"][i])\n",
    "        print(sawonDB.iloc[[i]])\n",
    "# type(sawonDB[\"sabun\"])"
   ]
  },
  {
   "cell_type": "markdown",
   "metadata": {},
   "source": [
    "### 방법 2"
   ]
  },
  {
   "cell_type": "code",
   "execution_count": 13,
   "metadata": {},
   "outputs": [],
   "source": [
    "aaa = sawonDB[sawonDB[\"sabun\"] % 2 == 0]"
   ]
  },
  {
   "cell_type": "markdown",
   "metadata": {},
   "source": [
    "## Q04. SawonDB 데이터에서 직위별 급여 평균을 출력."
   ]
  },
  {
   "cell_type": "code",
   "execution_count": 14,
   "metadata": {},
   "outputs": [
    {
     "name": "stdout",
     "output_type": "stream",
     "text": [
      "sajob\n",
      " 과장    3180.600000\n",
      " 대리    2002.000000\n",
      " 부장    2934.333333\n",
      " 사원    1575.750000\n",
      " 회장    5000.000000\n",
      "Name: sapay, dtype: float64\n"
     ]
    }
   ],
   "source": [
    "group_sajob = sawonDB.groupby(\"sajob\") # sawonDB.groupby('sajob')['sapay'].mena()\n",
    "print(group_sajob['sapay'].mean())"
   ]
  },
  {
   "cell_type": "markdown",
   "metadata": {},
   "source": [
    "## Q05. SawonDB 데이터에서 직위별, 성별 급여평균을 출력"
   ]
  },
  {
   "cell_type": "markdown",
   "metadata": {},
   "source": [
    "### 방법 1."
   ]
  },
  {
   "cell_type": "code",
   "execution_count": 15,
   "metadata": {},
   "outputs": [
    {
     "name": "stdout",
     "output_type": "stream",
     "text": [
      "sajob  sasex\n",
      " 과장     남자      4001.0\n",
      "        여자      1950.0\n",
      " 대리     남자      1800.0\n",
      "        여자      2103.0\n",
      " 부장     남자      2901.5\n",
      "        여자      3000.0\n",
      " 사원     남자      1226.5\n",
      "        여자      1925.0\n",
      " 회장     남자      5000.0\n",
      "Name: sapay, dtype: float64\n"
     ]
    }
   ],
   "source": [
    "group_sajob_sasex = sawonDB.groupby([\"sajob\",\"sasex\"])\n",
    "print(group_sajob_sasex[\"sapay\"].mean())"
   ]
  },
  {
   "cell_type": "markdown",
   "metadata": {},
   "source": [
    "### 방법 2."
   ]
  },
  {
   "cell_type": "code",
   "execution_count": 24,
   "metadata": {},
   "outputs": [
    {
     "name": "stdout",
     "output_type": "stream",
     "text": [
      " 회장 중  남자의 급여 평균 : 5000.0만원\n",
      " 회장 중  여자의 급여 평균 : nan만원\n",
      " 부장 중  남자의 급여 평균 : 2901.5만원\n",
      " 부장 중  여자의 급여 평균 : 3000.0만원\n",
      " 과장 중  남자의 급여 평균 : 4001.0만원\n",
      " 과장 중  여자의 급여 평균 : 1950.0만원\n",
      " 사원 중  남자의 급여 평균 : 1226.5만원\n",
      " 사원 중  여자의 급여 평균 : 1925.0만원\n",
      " 대리 중  남자의 급여 평균 : 1800.0만원\n",
      " 대리 중  여자의 급여 평균 : 2103.0만원\n"
     ]
    }
   ],
   "source": [
    "unique_sajob = sawonDB['sajob'].unique()\n",
    "unique_sasex = sawonDB['sasex'].unique()\n",
    "for i in unique_sajob :\n",
    "    sajob_list = sawonDB[sawonDB['sajob'] == i ]\n",
    "    # print(i, end=\" \")\n",
    "    for j in unique_sasex :\n",
    "        sajob_sasex = sajob_list[sajob_list['sasex'] == j ]\n",
    "        print(f\"{i} 중 {j}의 급여 평균 : {sajob_sasex['sapay'].mean()}만원\")"
   ]
  }
 ],
 "metadata": {
  "kernelspec": {
   "display_name": "Python 3",
   "language": "python",
   "name": "python3"
  },
  "language_info": {
   "codemirror_mode": {
    "name": "ipython",
    "version": 3
   },
   "file_extension": ".py",
   "mimetype": "text/x-python",
   "name": "python",
   "nbconvert_exporter": "python",
   "pygments_lexer": "ipython3",
   "version": "3.6.5"
  }
 },
 "nbformat": 4,
 "nbformat_minor": 2
}
