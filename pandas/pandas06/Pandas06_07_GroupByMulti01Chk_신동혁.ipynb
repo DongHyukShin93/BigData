{
 "cells": [
  {
   "cell_type": "code",
   "execution_count": 46,
   "metadata": {},
   "outputs": [],
   "source": [
    "import pandas as pd"
   ]
  },
  {
   "cell_type": "code",
   "execution_count": 47,
   "metadata": {},
   "outputs": [],
   "source": [
    "df = pd.read_csv(\"./../../DoItPandas/data/gapminder.tsv\",sep=\"\\t\")"
   ]
  },
  {
   "cell_type": "code",
   "execution_count": 53,
   "metadata": {
    "scrolled": true
   },
   "outputs": [
    {
     "name": "stdout",
     "output_type": "stream",
     "text": [
      "1952년 Asia의 기대 수명 평균 : 46.3144\n",
      "1952년 Europe의 기대 수명 평균 : 64.4085\n",
      "1952년 Africa의 기대 수명 평균 : 39.1355\n",
      "1952년 Americas의 기대 수명 평균 : 53.2798\n",
      "1952년 Oceania의 기대 수명 평균 : 69.2550\n",
      "\n",
      "1957년 Asia의 기대 수명 평균 : 49.3185\n",
      "1957년 Europe의 기대 수명 평균 : 66.7031\n",
      "1957년 Africa의 기대 수명 평균 : 41.2663\n",
      "1957년 Americas의 기대 수명 평균 : 55.9603\n",
      "1957년 Oceania의 기대 수명 평균 : 70.2950\n",
      "\n",
      "1962년 Asia의 기대 수명 평균 : 51.5632\n",
      "1962년 Europe의 기대 수명 평균 : 68.5392\n",
      "1962년 Africa의 기대 수명 평균 : 43.3194\n",
      "1962년 Americas의 기대 수명 평균 : 58.3988\n",
      "1962년 Oceania의 기대 수명 평균 : 71.0850\n",
      "\n",
      "1967년 Asia의 기대 수명 평균 : 54.6636\n",
      "1967년 Europe의 기대 수명 평균 : 69.7376\n",
      "1967년 Africa의 기대 수명 평균 : 45.3345\n",
      "1967년 Americas의 기대 수명 평균 : 60.4109\n",
      "1967년 Oceania의 기대 수명 평균 : 71.3100\n",
      "\n",
      "1972년 Asia의 기대 수명 평균 : 57.3193\n",
      "1972년 Europe의 기대 수명 평균 : 70.7750\n",
      "1972년 Africa의 기대 수명 평균 : 47.4509\n",
      "1972년 Americas의 기대 수명 평균 : 62.3949\n",
      "1972년 Oceania의 기대 수명 평균 : 71.9100\n",
      "\n",
      "1977년 Asia의 기대 수명 평균 : 59.6106\n",
      "1977년 Europe의 기대 수명 평균 : 71.9378\n",
      "1977년 Africa의 기대 수명 평균 : 49.5804\n",
      "1977년 Americas의 기대 수명 평균 : 64.3916\n",
      "1977년 Oceania의 기대 수명 평균 : 72.8550\n",
      "\n",
      "1982년 Asia의 기대 수명 평균 : 62.6179\n",
      "1982년 Europe의 기대 수명 평균 : 72.8064\n",
      "1982년 Africa의 기대 수명 평균 : 51.5929\n",
      "1982년 Americas의 기대 수명 평균 : 66.2288\n",
      "1982년 Oceania의 기대 수명 평균 : 74.2900\n",
      "\n",
      "1987년 Asia의 기대 수명 평균 : 64.8512\n",
      "1987년 Europe의 기대 수명 평균 : 73.6422\n",
      "1987년 Africa의 기대 수명 평균 : 53.3448\n",
      "1987년 Americas의 기대 수명 평균 : 68.0907\n",
      "1987년 Oceania의 기대 수명 평균 : 75.3200\n",
      "\n",
      "1992년 Asia의 기대 수명 평균 : 66.5372\n",
      "1992년 Europe의 기대 수명 평균 : 74.4401\n",
      "1992년 Africa의 기대 수명 평균 : 53.6296\n",
      "1992년 Americas의 기대 수명 평균 : 69.5684\n",
      "1992년 Oceania의 기대 수명 평균 : 76.9450\n",
      "\n",
      "1997년 Asia의 기대 수명 평균 : 68.0205\n",
      "1997년 Europe의 기대 수명 평균 : 75.5052\n",
      "1997년 Africa의 기대 수명 평균 : 53.5983\n",
      "1997년 Americas의 기대 수명 평균 : 71.1505\n",
      "1997년 Oceania의 기대 수명 평균 : 78.1900\n",
      "\n",
      "2002년 Asia의 기대 수명 평균 : 69.2339\n",
      "2002년 Europe의 기대 수명 평균 : 76.7006\n",
      "2002년 Africa의 기대 수명 평균 : 53.3252\n",
      "2002년 Americas의 기대 수명 평균 : 72.4220\n",
      "2002년 Oceania의 기대 수명 평균 : 79.7400\n",
      "\n",
      "2007년 Asia의 기대 수명 평균 : 70.7285\n",
      "2007년 Europe의 기대 수명 평균 : 77.6486\n",
      "2007년 Africa의 기대 수명 평균 : 54.8060\n",
      "2007년 Americas의 기대 수명 평균 : 73.6081\n",
      "2007년 Oceania의 기대 수명 평균 : 80.7195\n",
      "\n"
     ]
    },
    {
     "name": "stderr",
     "output_type": "stream",
     "text": [
      "C:\\Anaconda3_5_2\\lib\\site-packages\\ipykernel_launcher.py:7: UserWarning: Boolean Series key will be reindexed to match DataFrame index.\n",
      "  import sys\n"
     ]
    }
   ],
   "source": [
    "# lifeExp, gdpPercap열의 평균값을 연도, 지역별로 그룹화하여 한 번에 계산하기\n",
    "uniqueList1 = df[\"year\"].unique() # 12개\n",
    "uniqueList2 = df[\"continent\"].unique() # 5개\n",
    "for i in uniqueList1 :\n",
    "    yearList = df[df[\"year\"] == i]# uniqueList2 = df[\"year\",\"continent\"].unique() # year로 그룹화한 다음에 그 안에서 다시 '대륙'으로 그룹화\n",
    "    for j in uniqueList2 :\n",
    "        continentList = yearList[df[\"continent\"] == j] # groupby 사용안할 때 이중 그룹 묶는 법 df X / yearList O\n",
    "        print(\"%d년 %s의 기대 수명 평균 : %0.4f\" %(i, j, continentList[\"lifeExp\"].mean()))\n",
    "        # print(f\"{i}년 {j:^9}지역의 기대 수명 평균 : {continentList['lifeExp'].mean():.2f}\") # f포매팅 사용시 {} 중괄호 바깥을 \"\" 큰따옴표로 묶어주면 {} 중괄호 안쪽은 '' 작은따옴표로 묶어줘야한다.\n",
    "    print()"
   ]
  },
  {
   "cell_type": "code",
   "execution_count": null,
   "metadata": {},
   "outputs": [],
   "source": []
  }
 ],
 "metadata": {
  "kernelspec": {
   "display_name": "Python 3",
   "language": "python",
   "name": "python3"
  },
  "language_info": {
   "codemirror_mode": {
    "name": "ipython",
    "version": 3
   },
   "file_extension": ".py",
   "mimetype": "text/x-python",
   "name": "python",
   "nbconvert_exporter": "python",
   "pygments_lexer": "ipython3",
   "version": "3.6.5"
  }
 },
 "nbformat": 4,
 "nbformat_minor": 2
}
