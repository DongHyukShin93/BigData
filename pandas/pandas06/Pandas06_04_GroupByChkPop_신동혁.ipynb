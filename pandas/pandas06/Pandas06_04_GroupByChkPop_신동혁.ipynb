{
 "cells": [
  {
   "cell_type": "code",
   "execution_count": 1,
   "metadata": {},
   "outputs": [],
   "source": [
    "import pandas as pd"
   ]
  },
  {
   "cell_type": "code",
   "execution_count": 2,
   "metadata": {},
   "outputs": [],
   "source": [
    "df = pd.read_csv(\"./../../DoItPandas/data/gapminder.tsv\",sep=\"\\t\")"
   ]
  },
  {
   "cell_type": "code",
   "execution_count": 5,
   "metadata": {},
   "outputs": [],
   "source": [
    "uniqueList = df[\"year\"].unique()"
   ]
  },
  {
   "cell_type": "code",
   "execution_count": 12,
   "metadata": {},
   "outputs": [
    {
     "name": "stdout",
     "output_type": "stream",
     "text": [
      "1952년의 인구 수 평균 : 16950402.465\n",
      "1957년의 인구 수 평균 : 18763412.535\n",
      "1962년의 인구 수 평균 : 20421006.859\n",
      "1967년의 인구 수 평균 : 22658298.479\n",
      "1972년의 인구 수 평균 : 25189979.986\n",
      "1977년의 인구 수 평균 : 27676378.923\n",
      "1982년의 인구 수 평균 : 30207301.690\n",
      "1987년의 인구 수 평균 : 33038573.366\n",
      "1992년의 인구 수 평균 : 35990917.324\n",
      "1997년의 인구 수 평균 : 38839468.113\n",
      "2002년의 인구 수 평균 : 41457588.585\n",
      "2007년의 인구 수 평균 : 44021219.570\n"
     ]
    }
   ],
   "source": [
    "# 날짜별로 그룹화한 후, 인구 수의 평균을 구하시오\n",
    "for idx in uniqueList :\n",
    "    yearList = df[df[\"year\"] == idx]\n",
    "    print(\"%d년의 인구 수 평균 : %0.3f\" %(idx, yearList[\"pop\"].mean()))"
   ]
  }
 ],
 "metadata": {
  "kernelspec": {
   "display_name": "Python 3",
   "language": "python",
   "name": "python3"
  },
  "language_info": {
   "codemirror_mode": {
    "name": "ipython",
    "version": 3
   },
   "file_extension": ".py",
   "mimetype": "text/x-python",
   "name": "python",
   "nbconvert_exporter": "python",
   "pygments_lexer": "ipython3",
   "version": "3.6.5"
  }
 },
 "nbformat": 4,
 "nbformat_minor": 2
}
