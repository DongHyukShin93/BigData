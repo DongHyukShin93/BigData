{
 "cells": [
  {
   "cell_type": "code",
   "execution_count": 12,
   "metadata": {},
   "outputs": [],
   "source": [
    "import pandas as pd"
   ]
  },
  {
   "cell_type": "code",
   "execution_count": 13,
   "metadata": {},
   "outputs": [],
   "source": [
    "df = pd.read_csv(\"./../../DoItPandas/data/gapminder.tsv\",sep=\"\\t\")"
   ]
  },
  {
   "cell_type": "code",
   "execution_count": 32,
   "metadata": {},
   "outputs": [
    {
     "name": "stdout",
     "output_type": "stream",
     "text": [
      "Asia : 33\n",
      "Europe : 30\n",
      "Africa : 52\n",
      "Americas : 25\n",
      "Oceania : 2\n"
     ]
    }
   ],
   "source": [
    "# print(df.groupby(\"continent\")[\"country\"].nunique(),\"\\n\")\n",
    "continentList = df[\"continent\"].unique()\n",
    "for i in continentList :\n",
    "    group_continent = df[df[\"continent\"] == i]\n",
    "    #group_continent_country = \n",
    "    print(i,\":\",len(group_continent[\"country\"].unique()))"
   ]
  },
  {
   "cell_type": "code",
   "execution_count": 34,
   "metadata": {},
   "outputs": [
    {
     "name": "stdout",
     "output_type": "stream",
     "text": [
      "Asia : ['Afghanistan' 'Bahrain' 'Bangladesh' 'Cambodia' 'China'\n",
      " 'Hong Kong, China' 'India' 'Indonesia' 'Iran' 'Iraq' 'Israel' 'Japan'\n",
      " 'Jordan' 'Korea, Dem. Rep.' 'Korea, Rep.' 'Kuwait' 'Lebanon' 'Malaysia'\n",
      " 'Mongolia' 'Myanmar' 'Nepal' 'Oman' 'Pakistan' 'Philippines'\n",
      " 'Saudi Arabia' 'Singapore' 'Sri Lanka' 'Syria' 'Taiwan' 'Thailand'\n",
      " 'Vietnam' 'West Bank and Gaza' 'Yemen, Rep.']\n",
      "Europe : ['Albania' 'Austria' 'Belgium' 'Bosnia and Herzegovina' 'Bulgaria'\n",
      " 'Croatia' 'Czech Republic' 'Denmark' 'Finland' 'France' 'Germany'\n",
      " 'Greece' 'Hungary' 'Iceland' 'Ireland' 'Italy' 'Montenegro' 'Netherlands'\n",
      " 'Norway' 'Poland' 'Portugal' 'Romania' 'Serbia' 'Slovak Republic'\n",
      " 'Slovenia' 'Spain' 'Sweden' 'Switzerland' 'Turkey' 'United Kingdom']\n",
      "Africa : ['Algeria' 'Angola' 'Benin' 'Botswana' 'Burkina Faso' 'Burundi' 'Cameroon'\n",
      " 'Central African Republic' 'Chad' 'Comoros' 'Congo, Dem. Rep.'\n",
      " 'Congo, Rep.' \"Cote d'Ivoire\" 'Djibouti' 'Egypt' 'Equatorial Guinea'\n",
      " 'Eritrea' 'Ethiopia' 'Gabon' 'Gambia' 'Ghana' 'Guinea' 'Guinea-Bissau'\n",
      " 'Kenya' 'Lesotho' 'Liberia' 'Libya' 'Madagascar' 'Malawi' 'Mali'\n",
      " 'Mauritania' 'Mauritius' 'Morocco' 'Mozambique' 'Namibia' 'Niger'\n",
      " 'Nigeria' 'Reunion' 'Rwanda' 'Sao Tome and Principe' 'Senegal'\n",
      " 'Sierra Leone' 'Somalia' 'South Africa' 'Sudan' 'Swaziland' 'Tanzania'\n",
      " 'Togo' 'Tunisia' 'Uganda' 'Zambia' 'Zimbabwe']\n",
      "Americas : ['Argentina' 'Bolivia' 'Brazil' 'Canada' 'Chile' 'Colombia' 'Costa Rica'\n",
      " 'Cuba' 'Dominican Republic' 'Ecuador' 'El Salvador' 'Guatemala' 'Haiti'\n",
      " 'Honduras' 'Jamaica' 'Mexico' 'Nicaragua' 'Panama' 'Paraguay' 'Peru'\n",
      " 'Puerto Rico' 'Trinidad and Tobago' 'United States' 'Uruguay' 'Venezuela']\n",
      "Oceania : ['Australia' 'New Zealand']\n"
     ]
    }
   ],
   "source": [
    "# print(df.groupby(\"continent\")[\"country\"].unique(),\"\\n\")\n",
    "continentList = df[\"continent\"].unique()\n",
    "for i in continentList :\n",
    "    group_continent = df[df[\"continent\"] == i]\n",
    "    print(i,\":\",group_continent['country'].unique())"
   ]
  },
  {
   "cell_type": "code",
   "execution_count": 55,
   "metadata": {},
   "outputs": [
    {
     "name": "stdout",
     "output_type": "stream",
     "text": [
      "['Australia' 'New Zealand'] \n",
      "\n",
      "Oceania ['Australia' 'New Zealand']\n"
     ]
    }
   ],
   "source": [
    "# print(df.groupby(\"continent\")[\"country\"].unique()[\"Oceania\"],\"\\n\")\n",
    "continentList = df[\"continent\"].unique()\n",
    "for i in continentList :\n",
    "    group_continent = df[df[\"continent\"] == i ]\n",
    "    if i == \"Oceania\" :\n",
    "        print(i,group_continent[\"country\"].unique())"
   ]
  },
  {
   "cell_type": "code",
   "execution_count": 47,
   "metadata": {},
   "outputs": [
    {
     "name": "stdout",
     "output_type": "stream",
     "text": [
      "Asia 396\n",
      "Europe 360\n",
      "Africa 624\n",
      "Americas 300\n",
      "Oceania 24\n"
     ]
    }
   ],
   "source": [
    "# print(df.groupby(\"continent\")[\"country\"].count(),\"\\n\")\n",
    "continentList = df[\"continent\"].unique()\n",
    "for i in continentList :\n",
    "    group_continent = df[df[\"continent\"] == i ]\n",
    "    print(i, group_continent[\"continent\"].count())"
   ]
  },
  {
   "cell_type": "code",
   "execution_count": 54,
   "metadata": {},
   "outputs": [
    {
     "name": "stdout",
     "output_type": "stream",
     "text": [
      "624\n"
     ]
    }
   ],
   "source": [
    "# print(df.groupby(\"continent\")[\"country\"].count()[\"Africa\"])\n",
    "continentList = df[\"continent\"].unique()\n",
    "for i in continentList :\n",
    "    if i == \"Africa\" :\n",
    "        group_continent = df[df[\"continent\"] == i ]\n",
    "        print(group_continent[\"continent\"].count())"
   ]
  }
 ],
 "metadata": {
  "kernelspec": {
   "display_name": "Python 3",
   "language": "python",
   "name": "python3"
  },
  "language_info": {
   "codemirror_mode": {
    "name": "ipython",
    "version": 3
   },
   "file_extension": ".py",
   "mimetype": "text/x-python",
   "name": "python",
   "nbconvert_exporter": "python",
   "pygments_lexer": "ipython3",
   "version": "3.6.5"
  }
 },
 "nbformat": 4,
 "nbformat_minor": 2
}
