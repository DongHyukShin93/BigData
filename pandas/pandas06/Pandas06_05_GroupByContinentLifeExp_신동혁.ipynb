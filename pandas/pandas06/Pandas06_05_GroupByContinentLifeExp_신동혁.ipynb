{
 "cells": [
  {
   "cell_type": "code",
   "execution_count": 5,
   "metadata": {},
   "outputs": [],
   "source": [
    "import pandas as pd"
   ]
  },
  {
   "cell_type": "code",
   "execution_count": 6,
   "metadata": {},
   "outputs": [],
   "source": [
    "df = pd.read_csv(\"./../../DoItPandas/data/gapminder.tsv\",sep=\"\\t\")"
   ]
  },
  {
   "cell_type": "code",
   "execution_count": 12,
   "metadata": {},
   "outputs": [
    {
     "name": "stdout",
     "output_type": "stream",
     "text": [
      "Asia의 기대 수명 : 60.065\n",
      "Europe의 기대 수명 : 71.904\n",
      "Africa의 기대 수명 : 48.865\n",
      "Americas의 기대 수명 : 64.659\n",
      "Oceania의 기대 수명 : 74.326\n"
     ]
    }
   ],
   "source": [
    "# 대륙별 기대수명의 평균을 확인하시오.\n",
    "uniqueList = df[\"continent\"].unique()\n",
    "for idx in uniqueList :\n",
    "    continentList = df[df[\"continent\"] == idx]\n",
    "    print(\"%s의 기대 수명 : %0.3f\" %(idx, continentList[\"lifeExp\"].mean()))"
   ]
  },
  {
   "cell_type": "code",
   "execution_count": 22,
   "metadata": {},
   "outputs": [
    {
     "name": "stdout",
     "output_type": "stream",
     "text": [
      "continent\n",
      "Africa      48.865330\n",
      "Americas    64.658737\n",
      "Asia        60.064903\n",
      "Europe      71.903686\n",
      "Oceania     74.326208\n",
      "Name: lifeExp, dtype: float64\n"
     ]
    }
   ],
   "source": [
    "# groupby()함수를 사용해서 대륙별 기대수명의 평균을 구하시오.\n",
    "grouped_continent_df = df.groupby(\"continent\")\n",
    "print(grouped_continent_df[\"lifeExp\"].mean())"
   ]
  }
 ],
 "metadata": {
  "kernelspec": {
   "display_name": "Python 3",
   "language": "python",
   "name": "python3"
  },
  "language_info": {
   "codemirror_mode": {
    "name": "ipython",
    "version": 3
   },
   "file_extension": ".py",
   "mimetype": "text/x-python",
   "name": "python",
   "nbconvert_exporter": "python",
   "pygments_lexer": "ipython3",
   "version": "3.6.5"
  }
 },
 "nbformat": 4,
 "nbformat_minor": 2
}
