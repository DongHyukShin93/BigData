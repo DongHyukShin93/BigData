{
 "cells": [
  {
   "cell_type": "code",
   "execution_count": 23,
   "metadata": {},
   "outputs": [],
   "source": [
    "numList = [28,31,24,25,30,32,20,30,31,26,31]"
   ]
  },
  {
   "cell_type": "code",
   "execution_count": 24,
   "metadata": {},
   "outputs": [],
   "source": [
    "# 편차 == (관측값 - 관측값들의 평균)\n",
    "def mDeviation() :\n",
    "    for i in range(len(numList)-1) :\n",
    "        for j in range(i+1,len(numList)) :\n",
    "            if numList[i] > numList[j] :\n",
    "                numList[i], numList[j] = numList[j], numList[i]\n",
    "            else :\n",
    "                continue # 2~7번 라인을 numList.sort()로 간단히 할 수 있다.\n",
    "    mean = sum(numList)/len(numList)\n",
    "    result = [ i - mean for i in numList]\n",
    "    return result"
   ]
  },
  {
   "cell_type": "code",
   "execution_count": 25,
   "metadata": {},
   "outputs": [],
   "source": [
    "# 분산 == 편차의 제곱을 관측수-1을 나눈 값\n",
    "def mVariance() :\n",
    "    result = 0\n",
    "    for i in mDeviation() :\n",
    "        result += i**2\n",
    "    lastresult = result/(len(numList)-1)\n",
    "    return lastresult"
   ]
  },
  {
   "cell_type": "code",
   "execution_count": 26,
   "metadata": {},
   "outputs": [],
   "source": [
    "# 표준편차 (Standard Deviation) : 분산의 제곱근 == √ 루트 씌운것과 같다\n",
    "def mStandardDeviation() :\n",
    "    result = mVariance()**(1/2) # 어떤 수에 ½(0.5)을 제곱(?)(이걸 제곱근이라고 부른다)\n",
    "    return result"
   ]
  },
  {
   "cell_type": "code",
   "execution_count": 27,
   "metadata": {},
   "outputs": [
    {
     "name": "stdout",
     "output_type": "stream",
     "text": [
      "numList의 표준편차 : 3.795\n"
     ]
    }
   ],
   "source": [
    "print(\"numList의 표준편차 : %0.3f\" %mStandardDeviation())"
   ]
  },
  {
   "cell_type": "code",
   "execution_count": 28,
   "metadata": {},
   "outputs": [],
   "source": [
    "# 범위 (Range) : 최댓값과 최솟값의 차이\n",
    "def mRange() :\n",
    "    for i in range(len(numList)-1) : # 범위에서 -1안해도 되나\n",
    "        for j in range(i+1, len(numList)) :\n",
    "            if numList[i] > numList[j] :\n",
    "                tmp = numList[j]\n",
    "                numList[j] = numList[i]\n",
    "                numList[i] = tmp\n",
    "            else :\n",
    "                continue\n",
    "    result = numList[-1] - numList[0] # == max(numList) - min(numList) 이렇게 간단하게 할 수 있다\n",
    "    return result"
   ]
  },
  {
   "cell_type": "code",
   "execution_count": 29,
   "metadata": {},
   "outputs": [
    {
     "name": "stdout",
     "output_type": "stream",
     "text": [
      "12\n"
     ]
    }
   ],
   "source": [
    "print(mRange())"
   ]
  }
 ],
 "metadata": {
  "kernelspec": {
   "display_name": "Python 3",
   "language": "python",
   "name": "python3"
  },
  "language_info": {
   "codemirror_mode": {
    "name": "ipython",
    "version": 3
   },
   "file_extension": ".py",
   "mimetype": "text/x-python",
   "name": "python",
   "nbconvert_exporter": "python",
   "pygments_lexer": "ipython3",
   "version": "3.6.5"
  }
 },
 "nbformat": 4,
 "nbformat_minor": 2
}
