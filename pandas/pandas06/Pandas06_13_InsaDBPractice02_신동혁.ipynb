{
 "cells": [
  {
   "cell_type": "code",
   "execution_count": 57,
   "metadata": {},
   "outputs": [],
   "source": [
    "import pandas as pd"
   ]
  },
  {
   "cell_type": "code",
   "execution_count": 58,
   "metadata": {},
   "outputs": [],
   "source": [
    "deptDB = pd.read_csv(\"./../../DoItPandas/data/sawonDB/deptDB.csv\",header=None,names=[\"deptno\", \"dname\", \"loc\"]) # deptno(부서번호), dname(부서이름), loc()\n",
    "sawonDB = pd.read_csv(\"./../../DoItPandas/data/sawonDB/sawonDB.csv\",header=None,names=[\"sabun\", \"saname\", \"deptno\", \"sajob\", \"sapay\",\"sahire\",\"sasex\",\"samgr\"]) # sajob, sapay, sahire(입사일), sasex, samgr(매니져) \n",
    "gogekDB = pd.read_csv(\"./../../DoItPandas/data/sawonDB/gogekDB.csv\",header=None,names=[\"gobun\", \"goname\", \"gotel\", 'gojumin', \"godam\"]) # gobun, goname, gotel, gojumin, godam(고객담당)"
   ]
  },
  {
   "cell_type": "code",
   "execution_count": 65,
   "metadata": {},
   "outputs": [],
   "source": [
    "# deptDB['dname'] = deptDB['dname'].str.lstrip(\" '\")"
   ]
  },
  {
   "cell_type": "code",
   "execution_count": 66,
   "metadata": {},
   "outputs": [],
   "source": [
    "deptDB = deptDB.replace(\"\\'\",\"\",regex=True)\n",
    "sawonDB = sawonDB.replace(\"\\'\",\"\",regex=True)\n",
    "gogekDB = gogekDB.replace(\"\\'\",\"\",regex=True)"
   ]
  }
 ],
 "metadata": {
  "kernelspec": {
   "display_name": "Python 3",
   "language": "python",
   "name": "python3"
  },
  "language_info": {
   "codemirror_mode": {
    "name": "ipython",
    "version": 3
   },
   "file_extension": ".py",
   "mimetype": "text/x-python",
   "name": "python",
   "nbconvert_exporter": "python",
   "pygments_lexer": "ipython3",
   "version": "3.6.5"
  }
 },
 "nbformat": 4,
 "nbformat_minor": 2
}
