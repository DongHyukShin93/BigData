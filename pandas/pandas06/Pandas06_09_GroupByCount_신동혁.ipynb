{
 "cells": [
  {
   "cell_type": "code",
   "execution_count": 1,
   "metadata": {},
   "outputs": [],
   "source": [
    "import pandas as pd"
   ]
  },
  {
   "cell_type": "code",
   "execution_count": 2,
   "metadata": {},
   "outputs": [],
   "source": [
    "df = pd.read_csv(\"./../../DoItPandas/data/gapminder.tsv\",sep=\"\\t\")"
   ]
  },
  {
   "cell_type": "code",
   "execution_count": 6,
   "metadata": {},
   "outputs": [
    {
     "name": "stdout",
     "output_type": "stream",
     "text": [
      "<pandas.core.groupby.groupby.SeriesGroupBy object at 0x000001C4E5FBF390> \n",
      "\n",
      "continent\n",
      "Africa      52\n",
      "Americas    25\n",
      "Asia        33\n",
      "Europe      30\n",
      "Oceania      2\n",
      "Name: country, dtype: int64 \n",
      "\n",
      "continent\n",
      "Africa      [Algeria, Angola, Benin, Botswana, Burkina Fas...\n",
      "Americas    [Argentina, Bolivia, Brazil, Canada, Chile, Co...\n",
      "Asia        [Afghanistan, Bahrain, Bangladesh, Cambodia, C...\n",
      "Europe      [Albania, Austria, Belgium, Bosnia and Herzego...\n",
      "Oceania                              [Australia, New Zealand]\n",
      "Name: country, dtype: object \n",
      "\n",
      "['Australia' 'New Zealand'] \n",
      "\n",
      "continent\n",
      "Africa      624\n",
      "Americas    300\n",
      "Asia        396\n",
      "Europe      360\n",
      "Oceania      24\n",
      "Name: country, dtype: int64 \n",
      "\n",
      "624\n"
     ]
    }
   ],
   "source": [
    "print(df.groupby(\"continent\")[\"country\"],\"\\n\") # group으로 묶었을뿐 아무 값도 없다\n",
    "print(df.groupby(\"continent\")[\"country\"].nunique(),\"\\n\") # 중복되지 않은 값들의 갯수\n",
    "print(df.groupby(\"continent\")[\"country\"].unique(),\"\\n\")\n",
    "print(df.groupby(\"continent\")[\"country\"].unique()[\"Oceania\"],\"\\n\")\n",
    "print(df.groupby(\"continent\")[\"country\"].count(),\"\\n\")\n",
    "print(df.groupby(\"continent\")[\"country\"].count()[\"Africa\"])"
   ]
  }
 ],
 "metadata": {
  "kernelspec": {
   "display_name": "Python 3",
   "language": "python",
   "name": "python3"
  },
  "language_info": {
   "codemirror_mode": {
    "name": "ipython",
    "version": 3
   },
   "file_extension": ".py",
   "mimetype": "text/x-python",
   "name": "python",
   "nbconvert_exporter": "python",
   "pygments_lexer": "ipython3",
   "version": "3.6.5"
  }
 },
 "nbformat": 4,
 "nbformat_minor": 2
}
