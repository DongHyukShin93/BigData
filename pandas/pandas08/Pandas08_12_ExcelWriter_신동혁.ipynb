{
 "cells": [
  {
   "cell_type": "code",
   "execution_count": 1,
   "metadata": {},
   "outputs": [],
   "source": [
    "import pandas as pd"
   ]
  },
  {
   "cell_type": "code",
   "execution_count": 2,
   "metadata": {},
   "outputs": [],
   "source": [
    "data = {'name' : [ 'Jerry','Riah','Paul'],\n",
    "       'algol' : [\"A\",\"A+\",\"B\"],\n",
    "       \"basic\" : [\"C\",\"B\",\"B+\"],\n",
    "       \"c++\" : [\"B+\",\"C\",\"C+\"]\n",
    "       }\n",
    "df = pd.DataFrame(data)\n",
    "df.set_index('name', inplace=True) # 'name' 열을 인덱스로 지정"
   ]
  },
  {
   "cell_type": "code",
   "execution_count": 3,
   "metadata": {},
   "outputs": [],
   "source": [
    "# to_json() 메소드를 사용하여 JSON 파일로 내보내기. 파일명은 df_sample.json으로 지정\n",
    "df.to_json(\"./../../Test_Sample/df_sample.json\")"
   ]
  },
  {
   "cell_type": "code",
   "execution_count": 4,
   "metadata": {},
   "outputs": [],
   "source": [
    "# to_excel() 메소드를 사용하여 엑셀 파일로 내보내기. 파일명은 df_sample.xlsx로 저장\n",
    "df.to_excel(\"./../../Test_Sample/df_sample.xlsx\")"
   ]
  },
  {
   "cell_type": "markdown",
   "metadata": {},
   "source": [
    "### 2.10_excelWriter"
   ]
  },
  {
   "cell_type": "code",
   "execution_count": 5,
   "metadata": {},
   "outputs": [],
   "source": [
    "data2 = {'c0':[1,2,3],\n",
    "        'c1':[4,5,6],\n",
    "        'c2':[7,8,9],\n",
    "        'c3':[10,11,12],\n",
    "        'c4':[13,14,15]}\n",
    "df2 = pd.DataFrame(data2)\n",
    "df2.set_index('c0',inplace=True) # c0 열을 인덱스로 지정"
   ]
  },
  {
   "cell_type": "code",
   "execution_count": 6,
   "metadata": {},
   "outputs": [],
   "source": [
    "# df를 'sheet1'으로, df2를 'sheet2'로 저장(엑셀파일명은 'df_excelwriter.xlsx')\n",
    "writer = pd.ExcelWriter(\"./../../Test_Sample/df_excelwriter.xlsx\")\n",
    "df.to_excel(writer, sheet_name='시트1')\n",
    "df2.to_excel(writer, sheet_name='시트2')\n",
    "writer.save()"
   ]
  }
 ],
 "metadata": {
  "kernelspec": {
   "display_name": "Python 3",
   "language": "python",
   "name": "python3"
  },
  "language_info": {
   "codemirror_mode": {
    "name": "ipython",
    "version": 3
   },
   "file_extension": ".py",
   "mimetype": "text/x-python",
   "name": "python",
   "nbconvert_exporter": "python",
   "pygments_lexer": "ipython3",
   "version": "3.6.5"
  }
 },
 "nbformat": 4,
 "nbformat_minor": 2
}
