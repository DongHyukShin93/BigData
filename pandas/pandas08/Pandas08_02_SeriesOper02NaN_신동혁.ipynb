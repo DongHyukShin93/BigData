{
 "cells": [
  {
   "cell_type": "markdown",
   "metadata": {},
   "source": [
    "## 1.23_Series_to_Series2"
   ]
  },
  {
   "cell_type": "code",
   "execution_count": 1,
   "metadata": {},
   "outputs": [],
   "source": [
    "import pandas as pd\n",
    "import numpy as np"
   ]
  },
  {
   "cell_type": "code",
   "execution_count": 2,
   "metadata": {},
   "outputs": [],
   "source": [
    "# 딕셔너리로 시리즈 만들기\n",
    "student1 = pd.Series({\"국어\":np.nan,\"영어\":80,\"수학\":90})\n",
    "student2 = pd.Series({\"수학\":80,\"국어\":90})"
   ]
  },
  {
   "cell_type": "code",
   "execution_count": 3,
   "metadata": {},
   "outputs": [
    {
     "name": "stdout",
     "output_type": "stream",
     "text": [
      "국어     NaN\n",
      "영어    80.0\n",
      "수학    90.0\n",
      "dtype: float64 \n",
      "\n",
      "수학    80\n",
      "국어    90\n",
      "dtype: int64\n"
     ]
    }
   ],
   "source": [
    "print(student1,\"\\n\")\n",
    "print(student2)"
   ]
  },
  {
   "cell_type": "code",
   "execution_count": 4,
   "metadata": {},
   "outputs": [],
   "source": [
    "# 두 학생의 과목별 점수로 사칙연산 수행\n",
    "addition = student1 + student2\n",
    "subtraction = student1 - student2\n",
    "multiplication = student1 * student2\n",
    "division = student1 / student2"
   ]
  },
  {
   "cell_type": "code",
   "execution_count": 5,
   "metadata": {},
   "outputs": [
    {
     "name": "stdout",
     "output_type": "stream",
     "text": [
      "<class 'pandas.core.series.Series'>\n"
     ]
    }
   ],
   "source": [
    "print(type(subtraction))"
   ]
  },
  {
   "cell_type": "code",
   "execution_count": 6,
   "metadata": {},
   "outputs": [],
   "source": [
    "# 사칙연산 결과를 데이터프레임으로 합치기 (Series -> DataFrame)\n",
    "result = pd.DataFrame([addition,subtraction,multiplication,division],\n",
    "                     index = [\"덧셈\",'뺄셈','곱셈',\"나눗셈\"])"
   ]
  },
  {
   "cell_type": "code",
   "execution_count": 11,
   "metadata": {},
   "outputs": [
    {
     "name": "stdout",
     "output_type": "stream",
     "text": [
      "       국어        수학         영어\n",
      "덧셈   90.0   170.000  80.000000\n",
      "뺄셈  -90.0    10.000  80.000000\n",
      "곱셈    0.0  7200.000   0.000000\n",
      "나눗셈   0.0     1.125        inf\n"
     ]
    }
   ],
   "source": [
    "print(result)"
   ]
  },
  {
   "cell_type": "markdown",
   "metadata": {},
   "source": [
    "## 1.24_Series_to_Series3"
   ]
  },
  {
   "cell_type": "code",
   "execution_count": 8,
   "metadata": {},
   "outputs": [],
   "source": [
    "# 두 학생의 과목별 점수로 사칙연산 수행 (연산 메소드 사용)\n",
    "sr_add = student1.add(student2,fill_value=0)\n",
    "sr_sub = student1.sub(student2, fill_value=0)\n",
    "sr_mul = student1.mul(student2,fill_value=0)\n",
    "sr_div = student1.div(student2,fill_value=0)"
   ]
  },
  {
   "cell_type": "code",
   "execution_count": 9,
   "metadata": {},
   "outputs": [],
   "source": [
    "# # 사칙연산 결과를 데이터프레임으로 합치기 (Series -> DataFrame)\n",
    "result = pd.DataFrame([sr_add,sr_sub,sr_mul,sr_div],\n",
    "                     index = [\"덧셈\",'뺄셈','곱셈',\"나눗셈\"])"
   ]
  },
  {
   "cell_type": "code",
   "execution_count": 10,
   "metadata": {},
   "outputs": [
    {
     "name": "stdout",
     "output_type": "stream",
     "text": [
      "       국어        수학         영어\n",
      "덧셈   90.0   170.000  80.000000\n",
      "뺄셈  -90.0    10.000  80.000000\n",
      "곱셈    0.0  7200.000   0.000000\n",
      "나눗셈   0.0     1.125        inf\n"
     ]
    }
   ],
   "source": [
    "print(result)"
   ]
  }
 ],
 "metadata": {
  "kernelspec": {
   "display_name": "Python 3",
   "language": "python",
   "name": "python3"
  },
  "language_info": {
   "codemirror_mode": {
    "name": "ipython",
    "version": 3
   },
   "file_extension": ".py",
   "mimetype": "text/x-python",
   "name": "python",
   "nbconvert_exporter": "python",
   "pygments_lexer": "ipython3",
   "version": "3.6.5"
  }
 },
 "nbformat": 4,
 "nbformat_minor": 2
}
