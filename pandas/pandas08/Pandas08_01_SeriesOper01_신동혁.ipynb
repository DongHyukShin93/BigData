{
 "cells": [
  {
   "cell_type": "markdown",
   "metadata": {},
   "source": [
    "## 1.21_series_to_number"
   ]
  },
  {
   "cell_type": "code",
   "execution_count": 1,
   "metadata": {},
   "outputs": [],
   "source": [
    "import pandas as pd"
   ]
  },
  {
   "cell_type": "code",
   "execution_count": 2,
   "metadata": {},
   "outputs": [],
   "source": [
    "# 딕셔너리로 시리즈 만들기\n",
    "student1 = pd.Series({\"국어\":100,\"영어\":80,\"수학\":90})\n",
    "student2 = pd.Series({\"수학\":80,\"국어\":90,\"영어\":80})"
   ]
  },
  {
   "cell_type": "code",
   "execution_count": 7,
   "metadata": {},
   "outputs": [
    {
     "name": "stdout",
     "output_type": "stream",
     "text": [
      "국어    100\n",
      "영어     80\n",
      "수학     90\n",
      "dtype: int64 \n",
      "\n",
      "수학    80\n",
      "국어    90\n",
      "영어    80\n",
      "dtype: int64 \n",
      "\n"
     ]
    }
   ],
   "source": [
    "print(student1,'\\n')\n",
    "print(student2,\"\\n\")"
   ]
  },
  {
   "cell_type": "code",
   "execution_count": 8,
   "metadata": {},
   "outputs": [],
   "source": [
    "# 학생의 과목별 점수를 20으로 나누기\n",
    "percentage = student1 / 20"
   ]
  },
  {
   "cell_type": "code",
   "execution_count": 11,
   "metadata": {},
   "outputs": [
    {
     "name": "stdout",
     "output_type": "stream",
     "text": [
      "<class 'pandas.core.series.Series'>\n",
      "국어    5.0\n",
      "영어    4.0\n",
      "수학    4.5\n",
      "dtype: float64\n"
     ]
    }
   ],
   "source": [
    "print(type(percentage))\n",
    "print(percentage)"
   ]
  },
  {
   "cell_type": "markdown",
   "metadata": {},
   "source": [
    "## 1.21_series_to_series"
   ]
  },
  {
   "cell_type": "code",
   "execution_count": 6,
   "metadata": {},
   "outputs": [
    {
     "name": "stdout",
     "output_type": "stream",
     "text": [
      "<class 'pandas.core.series.Series'> \n",
      "\n"
     ]
    }
   ],
   "source": [
    "# 두 학생의 과목별 점수로 사칙연산 수행\n",
    "addition = student1 + student2\n",
    "subtraction = student1 - student2\n",
    "multiplication = student1 * student2\n",
    "division = student1 / student2\n",
    "print(type(division),\"\\n\")"
   ]
  },
  {
   "cell_type": "code",
   "execution_count": 17,
   "metadata": {},
   "outputs": [
    {
     "name": "stdout",
     "output_type": "stream",
     "text": [
      "<class 'pandas.core.frame.DataFrame'>\n",
      "              국어        수학      영어\n",
      "덧셈    190.000000   170.000   160.0\n",
      "뺄셈     10.000000    10.000     0.0\n",
      "곱셈   9000.000000  7200.000  6400.0\n",
      "나눗셈     1.111111     1.125     1.0 \n",
      "\n",
      "국어    10\n",
      "수학    10\n",
      "영어     0\n",
      "dtype: int64 \n",
      " 국어    190\n",
      "수학    170\n",
      "영어    160\n",
      "dtype: int64 \n",
      " 국어    9000\n",
      "수학    7200\n",
      "영어    6400\n",
      "dtype: int64 \n",
      " 국어    1.111111\n",
      "수학    1.125000\n",
      "영어    1.000000\n",
      "dtype: float64\n"
     ]
    }
   ],
   "source": [
    "# 사칙연산 결과를 DataFrame으로 합치기 (Series -> DataFrame)\n",
    "result = pd.DataFrame([addition, subtraction,multiplication,division],\n",
    "                     index = [\"덧셈\",\"뺄셈\",\"곱셈\",\"나눗셈\"])\n",
    "print(type(result))\n",
    "print(result,\"\\n\")\n",
    "print(addition,\"\\n\",subtraction,\"\\n\",multiplication,\"\\n\",division)"
   ]
  }
 ],
 "metadata": {
  "kernelspec": {
   "display_name": "Python 3",
   "language": "python",
   "name": "python3"
  },
  "language_info": {
   "codemirror_mode": {
    "name": "ipython",
    "version": 3
   },
   "file_extension": ".py",
   "mimetype": "text/x-python",
   "name": "python",
   "nbconvert_exporter": "python",
   "pygments_lexer": "ipython3",
   "version": "3.6.5"
  }
 },
 "nbformat": 4,
 "nbformat_minor": 2
}
