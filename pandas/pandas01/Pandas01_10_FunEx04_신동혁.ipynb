{
 "cells": [
  {
   "cell_type": "code",
   "execution_count": 2,
   "metadata": {},
   "outputs": [
    {
     "name": "stdout",
     "output_type": "stream",
     "text": [
      "{'a': 1}\n",
      "{'name': 'SDH', 'age': 29}\n"
     ]
    }
   ],
   "source": [
    "# ** 딕셔너리로 만들어져서 출력\n",
    "# Key = Value 형태의 결괏값이 그 딕셔너리에 저장된다.\n",
    "def print_kwargs(**kwargs) :\n",
    "    print(kwargs)\n",
    "print_kwargs(a=1)\n",
    "print_kwargs(name=\"SDH\", age=29)"
   ]
  }
 ],
 "metadata": {
  "kernelspec": {
   "display_name": "Python 3",
   "language": "python",
   "name": "python3"
  },
  "language_info": {
   "codemirror_mode": {
    "name": "ipython",
    "version": 3
   },
   "file_extension": ".py",
   "mimetype": "text/x-python",
   "name": "python",
   "nbconvert_exporter": "python",
   "pygments_lexer": "ipython3",
   "version": "3.6.5"
  }
 },
 "nbformat": 4,
 "nbformat_minor": 2
}
