{
 "cells": [
  {
   "cell_type": "code",
   "execution_count": 20,
   "metadata": {},
   "outputs": [
    {
     "data": {
      "text/plain": [
       "{'Orange': [47, 58, 85],\n",
       " 'Red': [12, 75, 84],\n",
       " 'Yellow': [57, 75, 84],\n",
       " 'Green': [36, 86, 87],\n",
       " 'Blue': [89, 67, 46],\n",
       " 'Navy': [45, 86, 46],\n",
       " 'Purple': [68, 47, 98]}"
      ]
     },
     "execution_count": 20,
     "metadata": {},
     "output_type": "execute_result"
    }
   ],
   "source": [
    "idList = [\"Orange\", \"Red\", \"Yellow\", \"Green\", \"Blue\", \"Navy\", \"Purple\"];\n",
    "scoreList = [[47, 58, 85],[12, 75, 84],[57, 75, 84],[36, 86, 87],\n",
    "      [89, 67, 46],[45, 86, 46],[68, 47, 98]];\n",
    "\n",
    "def inputData() :\n",
    "    dic = {}\n",
    "    for i in range(len(idList)) :\n",
    "        dic[idList[i]] = scoreList[i]\n",
    "    return dic\n",
    "inputData()"
   ]
  }
 ],
 "metadata": {
  "kernelspec": {
   "display_name": "Python 3",
   "language": "python",
   "name": "python3"
  },
  "language_info": {
   "codemirror_mode": {
    "name": "ipython",
    "version": 3
   },
   "file_extension": ".py",
   "mimetype": "text/x-python",
   "name": "python",
   "nbconvert_exporter": "python",
   "pygments_lexer": "ipython3",
   "version": "3.6.5"
  }
 },
 "nbformat": 4,
 "nbformat_minor": 2
}
