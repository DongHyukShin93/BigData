{
 "cells": [
  {
   "cell_type": "code",
   "execution_count": 1,
   "metadata": {},
   "outputs": [
    {
     "name": "stdout",
     "output_type": "stream",
     "text": [
      "(7, 12)\n",
      "7 12\n"
     ]
    }
   ],
   "source": [
    "# 함수의 결괏값은 언제나 하나이다.\n",
    "# 튜플값 하나인 (a+b, a*b)로 돌려준다.\n",
    "def add_and_mul(a,b) :\n",
    "    return a+b, a*b\n",
    "result = add_and_mul(3,4)\n",
    "print(result)\n",
    "# 튜플 값을 2개의 결괏값처럼 받고 싶다면,\n",
    "result1, result2 = add_and_mul(3,4)\n",
    "print(result1, result2)"
   ]
  }
 ],
 "metadata": {
  "kernelspec": {
   "display_name": "Python 3",
   "language": "python",
   "name": "python3"
  },
  "language_info": {
   "codemirror_mode": {
    "name": "ipython",
    "version": 3
   },
   "file_extension": ".py",
   "mimetype": "text/x-python",
   "name": "python",
   "nbconvert_exporter": "python",
   "pygments_lexer": "ipython3",
   "version": "3.6.5"
  }
 },
 "nbformat": 4,
 "nbformat_minor": 2
}
