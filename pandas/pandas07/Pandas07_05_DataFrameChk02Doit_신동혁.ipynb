{
 "cells": [
  {
   "cell_type": "code",
   "execution_count": 1,
   "metadata": {},
   "outputs": [],
   "source": [
    "import pandas as pd"
   ]
  },
  {
   "cell_type": "code",
   "execution_count": 2,
   "metadata": {},
   "outputs": [
    {
     "name": "stdout",
     "output_type": "stream",
     "text": [
      "                Name Occupation        Born        Died  Age\n",
      "0  Rosaline Franklin    Chemist  1920-07-25  1958-04-16   37\n",
      "1    Willliam Gosset  Statician  1876-06-13  1937-10-16   61\n"
     ]
    }
   ],
   "source": [
    "scientists = pd.DataFrame({\n",
    "    \"Name\" : [\"Rosaline Franklin\",\"Willliam Gosset\"],\n",
    "    \"Occupation\" :[\"Chemist\",\"Statician\"],\n",
    "    \"Born\" : [\"1920-07-25\",\"1876-06-13\"],\n",
    "    \"Died\" : [\"1958-04-16\",\"1937-10-16\"],\n",
    "    \"Age\" : [37,61]})\n",
    "print(scientists)"
   ]
  },
  {
   "cell_type": "code",
   "execution_count": 3,
   "metadata": {},
   "outputs": [
    {
     "name": "stdout",
     "output_type": "stream",
     "text": [
      "                  Occupation        Born        Died  Age\n",
      "Rosaline Franklin    Chemist  1920-07-25  1958-04-16   37\n",
      "Willliam Gosset    Statician  1876-06-13  1937-10-16   61\n"
     ]
    }
   ],
   "source": [
    "scientists = pd.DataFrame(\n",
    "data={\"Occupation\" :[\"Chemist\",\"Statician\"],\n",
    "    \"Born\" : [\"1920-07-25\",\"1876-06-13\"],\n",
    "    \"Died\" : [\"1958-04-16\",\"1937-10-16\"],\n",
    "    \"Age\" : [37,61]},\n",
    "index=[\"Rosaline Franklin\",\"Willliam Gosset\"],\n",
    "columns=[\"Occupation\",\"Born\",\"Died\",\"Age\"])\n",
    "print(scientists)"
   ]
  },
  {
   "cell_type": "code",
   "execution_count": 8,
   "metadata": {},
   "outputs": [
    {
     "name": "stdout",
     "output_type": "stream",
     "text": [
      "            0                                     1\n",
      "0        Name  [Rosaline Franklin, Willliam Gosset]\n",
      "1  Occupation               [Occupation, Statician]\n",
      "2        Born              [1920-07-25, 1876-06-13]\n",
      "3        Died              [1958-04-16, 1937-10-16]\n",
      "4         Age                              [37, 61]\n",
      "<class 'pandas.core.series.Series'>\n"
     ]
    }
   ],
   "source": [
    "from collections import OrderedDict\n",
    "\n",
    "scientists = pd.DataFrame([\n",
    "    (\"Name\",[\"Rosaline Franklin\",\"Willliam Gosset\"]),\n",
    "    (\"Occupation\",[\"Occupation\",\"Statician\"]),\n",
    "    (\"Born\",[\"1920-07-25\",\"1876-06-13\"]),\n",
    "    (\"Died\",[\"1958-04-16\",\"1937-10-16\"]),\n",
    "    (\"Age\",[37,61])\n",
    "])\n",
    "print(scientists)\n",
    "print(type(scientists[0])) # dataframe의 인덱스값은 column 기준"
   ]
  },
  {
   "cell_type": "code",
   "execution_count": 9,
   "metadata": {},
   "outputs": [
    {
     "name": "stdout",
     "output_type": "stream",
     "text": [
      "                Name  Occupation        Born        Died  Age\n",
      "0  Rosaline Franklin  Occupation  1920-07-25  1958-04-16   37\n",
      "1    Willliam Gosset   Statician  1876-06-13  1937-10-16   61\n"
     ]
    }
   ],
   "source": [
    "# set형을 딕셔너리형과 같은 형태로 출력\n",
    "scientists = pd.DataFrame(OrderedDict([\n",
    "    (\"Name\",[\"Rosaline Franklin\",\"Willliam Gosset\"]),\n",
    "    (\"Occupation\",[\"Occupation\",\"Statician\"]),\n",
    "    (\"Born\",[\"1920-07-25\",\"1876-06-13\"]),\n",
    "    (\"Died\",[\"1958-04-16\",\"1937-10-16\"]),\n",
    "    (\"Age\",[37,61])\n",
    "]))\n",
    "print(scientists)"
   ]
  }
 ],
 "metadata": {
  "kernelspec": {
   "display_name": "Python 3",
   "language": "python",
   "name": "python3"
  },
  "language_info": {
   "codemirror_mode": {
    "name": "ipython",
    "version": 3
   },
   "file_extension": ".py",
   "mimetype": "text/x-python",
   "name": "python",
   "nbconvert_exporter": "python",
   "pygments_lexer": "ipython3",
   "version": "3.6.5"
  }
 },
 "nbformat": 4,
 "nbformat_minor": 2
}
