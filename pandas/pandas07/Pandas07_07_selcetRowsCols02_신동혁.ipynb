{
 "cells": [
  {
   "cell_type": "markdown",
   "metadata": {},
   "source": [
    "## 1.11_select_element01"
   ]
  },
  {
   "cell_type": "code",
   "execution_count": null,
   "metadata": {},
   "outputs": [],
   "source": [
    "import pandas as pd"
   ]
  },
  {
   "cell_type": "code",
   "execution_count": null,
   "metadata": {},
   "outputs": [],
   "source": [
    "exam_data = {\"이름\" : [\"서준\",\"우현\",\"인아\"],\n",
    "            \"수학\" : [90,80,70],\n",
    "            \"영어\" : [98,89,95],\n",
    "            \"음악\" : [85,95,100],\n",
    "            \"체육\" : [100,90,90]}\n",
    "df = pd.DataFrame(exam_data)\n",
    "df"
   ]
  },
  {
   "cell_type": "code",
   "execution_count": null,
   "metadata": {},
   "outputs": [],
   "source": [
    "# \"이름\" 열을 새로운 인덱스로 지정하고, df 객체에 변경사항 반영\n",
    "df.set_index(\"이름\",inplace=True)\n",
    "df"
   ]
  },
  {
   "cell_type": "code",
   "execution_count": null,
   "metadata": {},
   "outputs": [],
   "source": [
    "# 데이터프레임 df의 특정 원소 1개 선택 (\"서준\"의 \"음악\"점수)\n",
    "a = df.loc[\"서준\",\"음악\"]\n",
    "print(a)\n",
    "b = df.iloc[0,2]\n",
    "b"
   ]
  },
  {
   "cell_type": "markdown",
   "metadata": {},
   "source": [
    "## 1.11_select_element02"
   ]
  },
  {
   "cell_type": "code",
   "execution_count": null,
   "metadata": {},
   "outputs": [],
   "source": [
    "# 데이터프레임 df의 특정 원소 2개 이상 선택(\"서준\"의 \"음악\"과 \"체육\" 점수)\n",
    "c = df.loc[\"서준\",[\"음악\",\"체육\"]]\n",
    "print(c,\"\\n\")\n",
    "d = df.iloc[0,[2,3]]\n",
    "print(d,\"\\n\")\n",
    "e = df.loc[\"서준\",\"음악\":\"체육\"]\n",
    "print(e,\"\\n\")\n",
    "f = df.iloc[0,2:]\n",
    "f"
   ]
  },
  {
   "cell_type": "code",
   "execution_count": null,
   "metadata": {},
   "outputs": [],
   "source": [
    "# df의 2개 이상의 행과 열로부터 원소 선택 (\"서준\",\"우현\"의 \"음악\",\"체육\"점수)\n",
    "g = df.loc[[\"서준\",\"우현\"],[\"음악\",\"체육\"]]\n",
    "print(g,\"\\n\")\n",
    "h = df.iloc[[0,1],[2,3]]\n",
    "print(h,\"\\n\")\n",
    "i = df.loc[\"서준\":\"우현\",\"음악\":\"체육\"]\n",
    "print(i,\"\\n\")\n",
    "j = df.iloc[0:2,2:]\n",
    "j"
   ]
  },
  {
   "cell_type": "code",
   "execution_count": null,
   "metadata": {},
   "outputs": [],
   "source": [
    "df.loc[:,[\"음악\",\"체육\"]]"
   ]
  },
  {
   "cell_type": "code",
   "execution_count": null,
   "metadata": {},
   "outputs": [],
   "source": [
    "df.iloc[:,[2,3]]"
   ]
  },
  {
   "cell_type": "code",
   "execution_count": null,
   "metadata": {},
   "outputs": [],
   "source": [
    "df.iloc[:,2:4]"
   ]
  }
 ],
 "metadata": {
  "kernelspec": {
   "display_name": "Python 3",
   "language": "python",
   "name": "python3"
  },
  "language_info": {
   "codemirror_mode": {
    "name": "ipython",
    "version": 3
   },
   "file_extension": ".py",
   "mimetype": "text/x-python",
   "name": "python",
   "nbconvert_exporter": "python",
   "pygments_lexer": "ipython3",
   "version": "3.6.5"
  }
 },
 "nbformat": 4,
 "nbformat_minor": 2
}
