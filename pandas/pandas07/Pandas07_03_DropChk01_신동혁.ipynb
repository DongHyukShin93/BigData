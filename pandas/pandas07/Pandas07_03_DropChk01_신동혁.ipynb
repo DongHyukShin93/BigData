{
 "cells": [
  {
   "cell_type": "markdown",
   "metadata": {},
   "source": [
    "## 1.07_remove_row"
   ]
  },
  {
   "cell_type": "code",
   "execution_count": null,
   "metadata": {},
   "outputs": [],
   "source": [
    "import pandas as pd"
   ]
  },
  {
   "cell_type": "code",
   "execution_count": null,
   "metadata": {},
   "outputs": [],
   "source": [
    "# DataFrame() 함수로 데이터프레임 변환, 변수 df에 저장\n",
    "exam_data = {\"수학\":[90,80,70],\"영어\":[98,89,95],\n",
    "            \"음악\":[85,95,100],\"체육\":[100,90,90]}\n",
    "df = pd.DataFrame(exam_data)\n",
    "print(df,\"\\n\")\n",
    "df = pd.DataFrame(exam_data,index=[\"서준\",\"우현\",\"인아\"])\n",
    "print(df)"
   ]
  },
  {
   "cell_type": "code",
   "execution_count": null,
   "metadata": {},
   "outputs": [],
   "source": [
    "# 데이터프레임 df를 복제하여 변수 df2에 저장. df2의 1개 row을 삭제\n",
    "df2 = df[:]\n",
    "df2.drop(\"우현\",inplace=True)\n",
    "print(df2)"
   ]
  },
  {
   "cell_type": "code",
   "execution_count": null,
   "metadata": {},
   "outputs": [],
   "source": [
    "# 데이터프레임 df를 복제하요 변수 df3에 저장. df3의 2개 row를 삭제\n",
    "df3 = df[:]\n",
    "df3.drop([\"우현\",\"인아\"],axis=0,inplace=True)\n",
    "print(df3)"
   ]
  },
  {
   "cell_type": "markdown",
   "metadata": {},
   "source": [
    "## 1.08_remove_column"
   ]
  },
  {
   "cell_type": "code",
   "execution_count": null,
   "metadata": {},
   "outputs": [],
   "source": [
    "# 데이터프레임 df4에 저장. df4의 1개 column을 삭제\n",
    "df4 = df[:]\n",
    "df4.drop(\"수학\",axis=1,inplace=True)\n",
    "print(df4)"
   ]
  },
  {
   "cell_type": "code",
   "execution_count": null,
   "metadata": {},
   "outputs": [],
   "source": [
    "# 데이터프레임 df를 복제하여 변수 df5에  저장. df5의 2개 column을 삭제\n",
    "df5 = df[:]\n",
    "df5.drop([\"영어\",\"음악\"],axis=1,inplace=True)\n",
    "print(df5)"
   ]
  }
 ],
 "metadata": {
  "kernelspec": {
   "display_name": "Python 3",
   "language": "python",
   "name": "python3"
  },
  "language_info": {
   "codemirror_mode": {
    "name": "ipython",
    "version": 3
   },
   "file_extension": ".py",
   "mimetype": "text/x-python",
   "name": "python",
   "nbconvert_exporter": "python",
   "pygments_lexer": "ipython3",
   "version": "3.6.5"
  }
 },
 "nbformat": 4,
 "nbformat_minor": 2
}
