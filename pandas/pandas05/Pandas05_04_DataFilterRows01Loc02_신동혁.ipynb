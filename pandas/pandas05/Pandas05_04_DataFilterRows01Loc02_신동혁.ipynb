{
 "cells": [
  {
   "cell_type": "code",
   "execution_count": null,
   "metadata": {},
   "outputs": [],
   "source": [
    "import pandas as pd"
   ]
  },
  {
   "cell_type": "code",
   "execution_count": null,
   "metadata": {},
   "outputs": [],
   "source": [
    "df = pd.DataFrame([[1,2],[4 ,5],[7,8]], # outer 대괄호의 갯수는 행의 갯수, inner 대괄호의 갯수는 열의 갯수\n",
    "                  index = [\"cobra\",\"viper\",\"sidewinder\"],\n",
    "                  columns=[\"max_speed\",\"shield\"])"
   ]
  },
  {
   "cell_type": "code",
   "execution_count": null,
   "metadata": {},
   "outputs": [],
   "source": [
    "df.loc[[\"viper\",\"sidewinder\"],[\"shield\"]] = 50\n",
    "df"
   ]
  },
  {
   "cell_type": "code",
   "execution_count": null,
   "metadata": {},
   "outputs": [],
   "source": [
    "df.loc[\"cobra\"] = 10 # cobra라는 행의 모든 값을 10으로 바꿈.\n",
    "df"
   ]
  },
  {
   "cell_type": "code",
   "execution_count": null,
   "metadata": {},
   "outputs": [],
   "source": [
    "df.loc[:,\"max_speed\"] = 30 # 모든 행에서 max_speed라는 열에 해당하는 값을 모두 30으로 바꿈.\n",
    "df"
   ]
  },
  {
   "cell_type": "code",
   "execution_count": null,
   "metadata": {},
   "outputs": [],
   "source": [
    "df.loc[df[\"shield\"] > 30] = 0 # shield열 값이 30보다 큰 행의 모든 값을 0으로 바꿈\n",
    "df"
   ]
  },
  {
   "cell_type": "code",
   "execution_count": null,
   "metadata": {},
   "outputs": [],
   "source": [
    "df = pd.DataFrame([[1,2],[4,5],[7,8]],\n",
    "                 index=[7,8,9], columns=[\"max_speed\",\"shield\"])\n",
    "df"
   ]
  },
  {
   "cell_type": "code",
   "execution_count": null,
   "metadata": {},
   "outputs": [],
   "source": [
    "df.loc[7:9] # 보통 슬라이싱 [a:b]을 하게 되면 b까지가 아니라 b-1까지이지만, loc에서는 마지막 label값까지 포함"
   ]
  }
 ],
 "metadata": {
  "kernelspec": {
   "display_name": "Python 3",
   "language": "python",
   "name": "python3"
  },
  "language_info": {
   "codemirror_mode": {
    "name": "ipython",
    "version": 3
   },
   "file_extension": ".py",
   "mimetype": "text/x-python",
   "name": "python",
   "nbconvert_exporter": "python",
   "pygments_lexer": "ipython3",
   "version": "3.6.5"
  }
 },
 "nbformat": 4,
 "nbformat_minor": 2
}
