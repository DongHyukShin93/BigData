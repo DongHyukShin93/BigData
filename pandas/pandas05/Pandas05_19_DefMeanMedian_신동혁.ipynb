{
 "cells": [
  {
   "cell_type": "code",
   "execution_count": 36,
   "metadata": {},
   "outputs": [],
   "source": [
    "import pandas as pd\n",
    "import numpy as np"
   ]
  },
  {
   "cell_type": "code",
   "execution_count": 37,
   "metadata": {},
   "outputs": [],
   "source": [
    "numList = [28,31,24,25,30,32,20,30,31,26,31]"
   ]
  },
  {
   "cell_type": "code",
   "execution_count": 38,
   "metadata": {},
   "outputs": [
    {
     "name": "stdout",
     "output_type": "stream",
     "text": [
      "28.0\n",
      "30\n"
     ]
    }
   ],
   "source": [
    "def mMean() :\n",
    "    # result = sum(numList)/len(numList)\n",
    "    result = 0\n",
    "    for i in numList :\n",
    "        result += i\n",
    "    lastresult = result/len(numList)\n",
    "    return round(lastresult,2) # round(실수, a) 요소를 소수 a 번째 자리까지만 나타내는 함수\n",
    "    \n",
    "def mMedian() :\n",
    "    # numList.sort()\n",
    "    for i in range(len(numList)) : # range(len(numList)-1) 이렇게 설정하면 리스트의 마지막 값은 비교?하지 않아도 됨\n",
    "        for j in range(i+1,len(numList)) : # range 범위를 벗어나서 오류가 났다.\n",
    "            if numList[i] > numList[j] :\n",
    "                temp = numList[j] # python에서는 쉽게 a,b=b,a 형식으로 바꾸어줄 수 있다.\n",
    "                numList[j] = numList[i]\n",
    "                numList[i] = temp\n",
    "            else :\n",
    "                continue\n",
    "    half = int(len(numList)/2)\n",
    "    if len(numList) % 2 == 0 :\n",
    "        midresult = numList[half-1] + numList[half] # midresult = numList[half-1:half+1]\n",
    "        result = midresult/2                           # result = sum(midresult) / len(midresult)\n",
    "        return result\n",
    "    elif len(numList) % 2 == 1 :\n",
    "        result = numList[half]\n",
    "        return result\n",
    "print(mMean())\n",
    "print(mMedian())"
   ]
  },
  {
   "cell_type": "code",
   "execution_count": 39,
   "metadata": {},
   "outputs": [
    {
     "name": "stdout",
     "output_type": "stream",
     "text": [
      "28.0\n",
      "30.0\n"
     ]
    }
   ],
   "source": [
    "array1 = np.array(numList)\n",
    "print(array1.mean())\n",
    "print(np.median(array1))"
   ]
  },
  {
   "cell_type": "code",
   "execution_count": 40,
   "metadata": {},
   "outputs": [
    {
     "name": "stdout",
     "output_type": "stream",
     "text": [
      "[20, 24, 25, 26, 28, 30, 30, 31, 31, 31, 32]\n"
     ]
    }
   ],
   "source": [
    "# sort() 함수 안쓰고 차순 정리하기\n",
    "for i in range(len(numList)) :\n",
    "    for j in range(i+1,len(numList)) : # range 범위를 벗어나서 오류가 났다.\n",
    "        if numList[i] > numList[j] :\n",
    "            temp = numList[j] # python에서는 쉽게 a,b=b,a 형식으로 바꾸어줄 수 있다.\n",
    "            numList[j] = numList[i]\n",
    "            numList[i] = temp\n",
    "        else :\n",
    "            continue\n",
    "print(numList)"
   ]
  }
 ],
 "metadata": {
  "kernelspec": {
   "display_name": "Python 3",
   "language": "python",
   "name": "python3"
  },
  "language_info": {
   "codemirror_mode": {
    "name": "ipython",
    "version": 3
   },
   "file_extension": ".py",
   "mimetype": "text/x-python",
   "name": "python",
   "nbconvert_exporter": "python",
   "pygments_lexer": "ipython3",
   "version": "3.6.5"
  }
 },
 "nbformat": 4,
 "nbformat_minor": 2
}
