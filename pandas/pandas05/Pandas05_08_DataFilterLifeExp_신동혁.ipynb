{
 "cells": [
  {
   "cell_type": "code",
   "execution_count": null,
   "metadata": {},
   "outputs": [],
   "source": [
    "import pandas as pd"
   ]
  },
  {
   "cell_type": "code",
   "execution_count": null,
   "metadata": {},
   "outputs": [],
   "source": [
    "df = pd.read_csv(\"./../../DoItPandas/data/gapminder.tsv\",sep=\"\\t\")"
   ]
  },
  {
   "cell_type": "code",
   "execution_count": null,
   "metadata": {},
   "outputs": [],
   "source": [
    "lifeExp_row = df[\"lifeExp\"] # 열 기준으로 추출 / loc, iloc 필요없어"
   ]
  },
  {
   "cell_type": "code",
   "execution_count": null,
   "metadata": {
    "scrolled": true
   },
   "outputs": [],
   "source": [
    "print(\"최대 기대 수명 : %0.3f\" %max(lifeExp_row))\n",
    "print(\"최소 기대 수명 : %0.3f\" %lifeExp_row.min())"
   ]
  },
  {
   "cell_type": "code",
   "execution_count": null,
   "metadata": {},
   "outputs": [],
   "source": [
    "# 최대 기대 수명 loc 버젼\n",
    "df.loc[df[\"lifeExp\"] == lifeExp_row.max()]"
   ]
  },
  {
   "cell_type": "code",
   "execution_count": null,
   "metadata": {},
   "outputs": [],
   "source": [
    "# 최소 기대 수명 loc 버젼\n",
    "df.loc[df['lifeExp'] == lifeExp_row.min()]"
   ]
  },
  {
   "cell_type": "code",
   "execution_count": null,
   "metadata": {},
   "outputs": [],
   "source": [
    "# 최대 기대 수명 iloc 버젼\n",
    "print(df.iloc[803],\"\\n\") # 인덱스값을 모를때 어떻게 할까요?\n",
    "df.iloc[[803]]"
   ]
  },
  {
   "cell_type": "code",
   "execution_count": null,
   "metadata": {},
   "outputs": [],
   "source": [
    "# 최소 기대 수명 iloc 버젼\n",
    "print(df.iloc[1292],\"\\n\")\n",
    "df.iloc[[1292]]"
   ]
  },
  {
   "cell_type": "code",
   "execution_count": null,
   "metadata": {},
   "outputs": [],
   "source": [
    "# sample 보고 연습하기\n",
    "print(max(df[\"lifeExp\"]))\n",
    "print(min(df[\"lifeExp\"]))\n",
    "print(\"=\"*10)\n",
    "print(max(df.loc[:,\"lifeExp\"])) # loc를 사용했으니 label 값을 가져와야한다. 그 label의 범위가 전체이다\n",
    "print(min(df.loc[:,\"lifeExp\"]))\n",
    "print(\"=\"*10)\n",
    "print(max(df.iloc[:,3])) # 범위를 지정할 때, \n",
    "print(min(df.iloc[:,3]))\n",
    "print(\"=\"*10)\n",
    "print(len(df))\n",
    "print(df.tail(1)) # 어떤 형식으로 나올까요?"
   ]
  }
 ],
 "metadata": {
  "kernelspec": {
   "display_name": "Python 3",
   "language": "python",
   "name": "python3"
  },
  "language_info": {
   "codemirror_mode": {
    "name": "ipython",
    "version": 3
   },
   "file_extension": ".py",
   "mimetype": "text/x-python",
   "name": "python",
   "nbconvert_exporter": "python",
   "pygments_lexer": "ipython3",
   "version": "3.6.5"
  }
 },
 "nbformat": 4,
 "nbformat_minor": 2
}
