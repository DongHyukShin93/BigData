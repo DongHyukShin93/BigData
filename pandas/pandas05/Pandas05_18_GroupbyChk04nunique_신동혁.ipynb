{
 "cells": [
  {
   "cell_type": "code",
   "execution_count": 2,
   "metadata": {},
   "outputs": [],
   "source": [
    "import pandas as pd"
   ]
  },
  {
   "cell_type": "code",
   "execution_count": 3,
   "metadata": {},
   "outputs": [],
   "source": [
    "df = pd.read_csv(\"./../..//DoItPandas/data/gapminder.tsv\",sep=\"\\t\")"
   ]
  },
  {
   "cell_type": "code",
   "execution_count": 7,
   "metadata": {},
   "outputs": [
    {
     "name": "stdout",
     "output_type": "stream",
     "text": [
      "continent\n",
      "Africa      52\n",
      "Americas    25\n",
      "Asia        33\n",
      "Europe      30\n",
      "Oceania      2\n",
      "Name: country, dtype: int64 \n",
      "=====>\n",
      "continent\n",
      "Africa      [1952, 1957, 1962, 1967, 1972, 1977, 1982, 198...\n",
      "Americas    [1952, 1957, 1962, 1967, 1972, 1977, 1982, 198...\n",
      "Asia        [1952, 1957, 1962, 1967, 1972, 1977, 1982, 198...\n",
      "Europe      [1952, 1957, 1962, 1967, 1972, 1977, 1982, 198...\n",
      "Oceania     [1952, 1957, 1962, 1967, 1972, 1977, 1982, 198...\n",
      "Name: year, dtype: object \n",
      "=====>\n",
      "['Afghanistan' 'Bahrain' 'Bangladesh' 'Cambodia' 'China'\n",
      " 'Hong Kong, China' 'India' 'Indonesia' 'Iran' 'Iraq' 'Israel' 'Japan'\n",
      " 'Jordan' 'Korea, Dem. Rep.' 'Korea, Rep.' 'Kuwait' 'Lebanon' 'Malaysia'\n",
      " 'Mongolia' 'Myanmar' 'Nepal' 'Oman' 'Pakistan' 'Philippines'\n",
      " 'Saudi Arabia' 'Singapore' 'Sri Lanka' 'Syria' 'Taiwan' 'Thailand'\n",
      " 'Vietnam' 'West Bank and Gaza' 'Yemen, Rep.']\n"
     ]
    }
   ],
   "source": [
    "print(df.groupby(\"continent\")[\"country\"].nunique(),\"\\n=====>\")\n",
    "print(df.groupby(\"continent\")[\"year\"].unique(),\"\\n=====>\")\n",
    "print(df.groupby(\"continent\")[\"country\"].unique()[\"Asia\"])"
   ]
  }
 ],
 "metadata": {
  "kernelspec": {
   "display_name": "Python 3",
   "language": "python",
   "name": "python3"
  },
  "language_info": {
   "codemirror_mode": {
    "name": "ipython",
    "version": 3
   },
   "file_extension": ".py",
   "mimetype": "text/x-python",
   "name": "python",
   "nbconvert_exporter": "python",
   "pygments_lexer": "ipython3",
   "version": "3.6.5"
  }
 },
 "nbformat": 4,
 "nbformat_minor": 2
}
