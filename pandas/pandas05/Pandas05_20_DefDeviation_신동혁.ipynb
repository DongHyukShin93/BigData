{
 "cells": [
  {
   "cell_type": "code",
   "execution_count": 9,
   "metadata": {},
   "outputs": [],
   "source": [
    "numList = [28,31,24,25,30,32,20,30,31,26,31]"
   ]
  },
  {
   "cell_type": "code",
   "execution_count": 10,
   "metadata": {},
   "outputs": [],
   "source": [
    "# 편차 == (관측값 - 관측값들의 평균)\n",
    "def mDeviation() :\n",
    "    for i in range(len(numList)) :\n",
    "        for j in range(i+1,len(numList)) :\n",
    "            if numList[i] > numList[j] :\n",
    "                numList[i], numList[j] = numList[j], numList[i]\n",
    "            else :\n",
    "                continue # 2~7번 라인을 numList.sort()로 간단히 할 수 있다.\n",
    "    mean = sum(numList)/len(numList)\n",
    "    result = [ i - mean for i in numList]\n",
    "    return result"
   ]
  },
  {
   "cell_type": "code",
   "execution_count": 12,
   "metadata": {},
   "outputs": [
    {
     "name": "stdout",
     "output_type": "stream",
     "text": [
      "[-8.0, -4.0, -3.0, -2.0, 0.0, 2.0, 2.0, 3.0, 3.0, 3.0, 4.0]\n"
     ]
    }
   ],
   "source": [
    "print(mDeviation())"
   ]
  },
  {
   "cell_type": "code",
   "execution_count": 15,
   "metadata": {},
   "outputs": [],
   "source": [
    "# 분산 == 편차들을 제곱한 후 그 값들을 모두 더해서 관측수-1로 나눈 값\n",
    "def mVariance() :\n",
    "    result = 0 # 변수를 하나 만들지 않고 바로 리스트에 담아서 sum()을 이용할 수 있다.\n",
    "    for i in mDeviation() :\n",
    "        result += i**2\n",
    "    lastresult = result/(len(numList)-1)\n",
    "    return lastresult"
   ]
  },
  {
   "cell_type": "code",
   "execution_count": 17,
   "metadata": {},
   "outputs": [
    {
     "name": "stdout",
     "output_type": "stream",
     "text": [
      "numList의 분산 : 14.400\n"
     ]
    }
   ],
   "source": [
    "print(\"numList의 분산 : %0.3f\" %mVariance())"
   ]
  }
 ],
 "metadata": {
  "kernelspec": {
   "display_name": "Python 3",
   "language": "python",
   "name": "python3"
  },
  "language_info": {
   "codemirror_mode": {
    "name": "ipython",
    "version": 3
   },
   "file_extension": ".py",
   "mimetype": "text/x-python",
   "name": "python",
   "nbconvert_exporter": "python",
   "pygments_lexer": "ipython3",
   "version": "3.6.5"
  }
 },
 "nbformat": 4,
 "nbformat_minor": 2
}
