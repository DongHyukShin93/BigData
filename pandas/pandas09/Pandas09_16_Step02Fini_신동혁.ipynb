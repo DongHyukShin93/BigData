{
 "cells": [
  {
   "cell_type": "code",
   "execution_count": 2,
   "metadata": {},
   "outputs": [],
   "source": [
    "import pandas as pd"
   ]
  },
  {
   "cell_type": "code",
   "execution_count": 3,
   "metadata": {},
   "outputs": [],
   "source": [
    "sawonDB = pd.read_csv(\"./../../DoItPandas/data/sawonDB/sawonDB.csv\",\n",
    "                      header=None,\n",
    "                      names=[\"sabun\", \"saname\", \"deptno\", \"sajob\", \"sapay\",\"sahire\",\"sasex\",\"samgr\"])\n",
    "sawonDB = sawonDB.replace(\"\\'\",\"\",regex=True)\n",
    "sawonDB['saname'] = sawonDB['saname'].str.strip()\n",
    "sawonDB['sajob'] = sawonDB['sajob'].str.strip()\n",
    "sawonDB['sahire'] = sawonDB['sahire'].str.strip()\n",
    "sawonDB['sasex'] = sawonDB['sasex'].str.strip()"
   ]
  },
  {
   "cell_type": "code",
   "execution_count": 4,
   "metadata": {},
   "outputs": [],
   "source": [
    "sajobChk = sawonDB[(sawonDB['sajob'] == '대리') | (sawonDB['sajob'] == '사원')]"
   ]
  },
  {
   "cell_type": "code",
   "execution_count": 13,
   "metadata": {},
   "outputs": [
    {
     "data": {
      "text/plain": [
       "sajob\n",
       "과장    5\n",
       "대리    3\n",
       "부장    3\n",
       "사원    8\n",
       "회장    1\n",
       "Name: sabun, dtype: int64"
      ]
     },
     "execution_count": 13,
     "metadata": {},
     "output_type": "execute_result"
    }
   ],
   "source": [
    "sawonDB.groupby('sajob')['sabun'].count()"
   ]
  },
  {
   "cell_type": "code",
   "execution_count": 14,
   "metadata": {},
   "outputs": [
    {
     "data": {
      "text/plain": [
       "sajob\n",
       "대리    False\n",
       "사원     True\n",
       "Name: sabun, dtype: bool"
      ]
     },
     "execution_count": 14,
     "metadata": {},
     "output_type": "execute_result"
    }
   ],
   "source": [
    "sajobChk.groupby('sajob')['sabun'].count() >= 4"
   ]
  },
  {
   "cell_type": "code",
   "execution_count": 9,
   "metadata": {},
   "outputs": [
    {
     "data": {
      "text/plain": [
       "array([False,  True])"
      ]
     },
     "execution_count": 9,
     "metadata": {},
     "output_type": "execute_result"
    }
   ],
   "source": [
    "(sajobChk.groupby(['sajob'])['sabun'].count() >= 4 ).values"
   ]
  },
  {
   "cell_type": "code",
   "execution_count": 16,
   "metadata": {},
   "outputs": [
    {
     "data": {
      "text/plain": [
       "sajob\n",
       "대리    False\n",
       "사원     True\n",
       "Name: sabun, dtype: bool"
      ]
     },
     "execution_count": 16,
     "metadata": {},
     "output_type": "execute_result"
    }
   ],
   "source": [
    "sajobCntChk = (sajobChk.groupby(['sajob'])['sabun'].count() >= 4)\n",
    "sajobCntChk"
   ]
  },
  {
   "cell_type": "code",
   "execution_count": 18,
   "metadata": {},
   "outputs": [
    {
     "data": {
      "text/plain": [
       "sajob\n",
       "사원    True\n",
       "Name: sabun, dtype: bool"
      ]
     },
     "execution_count": 18,
     "metadata": {},
     "output_type": "execute_result"
    }
   ],
   "source": [
    "sajobChkResult = sajobCntChk[sajobCntChk.values]\n",
    "sajobChkResult"
   ]
  },
  {
   "cell_type": "code",
   "execution_count": 27,
   "metadata": {},
   "outputs": [
    {
     "name": "stdout",
     "output_type": "stream",
     "text": [
      "sajob\n",
      "과장    3180.6\n",
      "Name: sapay, dtype: float64\n",
      "sajob\n",
      "사원    1575.75\n",
      "Name: sapay, dtype: float64\n"
     ]
    }
   ],
   "source": [
    "sajobChk = sawonDB[(sawonDB['sajob'] == '과장') | (sawonDB['sajob'] == '사원')]\n",
    "sajobCntChk = ( sajobChk.groupby('sajob')['sabun'].count() >= 4 )\n",
    "\n",
    "sajobChkResult = sajobCntChk[sajobCntChk.values]\n",
    "\n",
    "for i, value in enumerate(sajobChkResult.index) :\n",
    "    cal = sawonDB[sawonDB['sajob'] == value]\n",
    "    print(cal.groupby('sajob')['sapay'].mean())"
   ]
  },
  {
   "cell_type": "code",
   "execution_count": null,
   "metadata": {},
   "outputs": [],
   "source": []
  }
 ],
 "metadata": {
  "kernelspec": {
   "display_name": "Python 3",
   "language": "python",
   "name": "python3"
  },
  "language_info": {
   "codemirror_mode": {
    "name": "ipython",
    "version": 3
   },
   "file_extension": ".py",
   "mimetype": "text/x-python",
   "name": "python",
   "nbconvert_exporter": "python",
   "pygments_lexer": "ipython3",
   "version": "3.6.5"
  }
 },
 "nbformat": 4,
 "nbformat_minor": 2
}
