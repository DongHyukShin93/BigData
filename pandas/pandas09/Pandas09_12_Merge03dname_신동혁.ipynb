{
 "cells": [
  {
   "cell_type": "code",
   "execution_count": 1,
   "metadata": {},
   "outputs": [],
   "source": [
    "import pandas as pd"
   ]
  },
  {
   "cell_type": "code",
   "execution_count": 2,
   "metadata": {},
   "outputs": [],
   "source": [
    "deptDB = pd.read_csv(\"./../../DoItPandas/data/sawonDB/deptDB.csv\",\n",
    "                     header=None,\n",
    "                     names=[\"deptno\", \"dname\", \"loc\"]) # deptno(부서번호), dname(부서이름), loc(부서 지역)\n",
    "sawonDB = pd.read_csv(\"./../../DoItPandas/data/sawonDB/sawonDB.csv\",\n",
    "                      header=None,\n",
    "                      names=[\"sabun\", \"saname\", \"deptno\", \"sajob\", \"sapay\",\"sahire\",\"sasex\",\"samgr\"]) # sahire(입사일), samgr(매니저) \n",
    "gogekDB = pd.read_csv(\"./../../DoItPandas/data/sawonDB/gogekDB.csv\",\n",
    "                      header=None,\n",
    "                      names=[\"gobun\", \"goname\", \"gotel\", 'gojumin', \"godam\"]) # godam(고객담당)\n",
    "# ' 작은 따옴표를 공백으로 바꿔주기'\n",
    "# ex) deptDB = deptDB.replace(\"\\'\",\"\",regex=True)\n",
    "# =~ deptDB['dname'].str.strip(\"'\") & deptDB['loc'].str.strip(\"'\") # 'deptno'는 int값이라 str.속성이 안된다.\n",
    "deptDB = deptDB.replace(\"\\'\",\"\",regex=True)\n",
    "sawonDB = sawonDB.replace(\"\\'\",\"\",regex=True)\n",
    "gogekDB = gogekDB.replace(\"\\'\",\"\",regex=True)\n",
    "\n",
    "# 공백을 잘라주기 (문자열에만 사용가능)\n",
    "deptDB['dname'] = deptDB['dname'].str.strip()\n",
    "deptDB['loc'] = deptDB['loc'].str.strip()\n",
    "\n",
    "sawonDB['saname'] = sawonDB['saname'].str.strip()\n",
    "sawonDB['sajob'] = sawonDB['sajob'].str.strip()\n",
    "sawonDB['sahire'] = sawonDB['sahire'].str.strip()\n",
    "sawonDB['sasex'] = sawonDB['sasex'].str.strip()\n",
    "sawonDB['sajob'] = sawonDB['sajob'].str.strip()\n",
    "sawonDB['samgr'] = sawonDB['samgr'].str.strip() # 다 숫자값인데 첫번째 값이 null이라 str. 속성이 적용가능 한 거 같다.\n",
    "\n",
    "gogekDB['goname'] = gogekDB['goname'].str.strip()\n",
    "gogekDB['gotel'] = gogekDB['gotel'].str.strip()\n",
    "gogekDB['gojumin'] = gogekDB['gojumin'].str.strip()"
   ]
  },
  {
   "cell_type": "code",
   "execution_count": 3,
   "metadata": {},
   "outputs": [],
   "source": [
    "deptSawon = deptDB.merge(sawonDB, how='inner', on='deptno')"
   ]
  },
  {
   "cell_type": "markdown",
   "metadata": {},
   "source": [
    "## Q7. sawonDB에서 전산부 직원의 평균연봉 출력"
   ]
  },
  {
   "cell_type": "code",
   "execution_count": 7,
   "metadata": {},
   "outputs": [
    {
     "name": "stdout",
     "output_type": "stream",
     "text": [
      "전산부 직원의 평균 연봉 : 1959.7만원\n"
     ]
    }
   ],
   "source": [
    "sawon_cv = deptSawon[deptSawon['dname'] == '전산부' ]\n",
    "print(f\"전산부 직원의 평균 연봉 :{sawon_cv['sapay'].mean() : .1f}만원\")"
   ]
  }
 ],
 "metadata": {
  "kernelspec": {
   "display_name": "Python 3",
   "language": "python",
   "name": "python3"
  },
  "language_info": {
   "codemirror_mode": {
    "name": "ipython",
    "version": 3
   },
   "file_extension": ".py",
   "mimetype": "text/x-python",
   "name": "python",
   "nbconvert_exporter": "python",
   "pygments_lexer": "ipython3",
   "version": "3.6.5"
  }
 },
 "nbformat": 4,
 "nbformat_minor": 2
}
