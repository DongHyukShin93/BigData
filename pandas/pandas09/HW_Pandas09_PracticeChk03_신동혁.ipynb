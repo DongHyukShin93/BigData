{
 "cells": [
  {
   "cell_type": "code",
   "execution_count": 39,
   "metadata": {},
   "outputs": [],
   "source": [
    "import pandas as pd\n",
    "import numpy as np"
   ]
  },
  {
   "cell_type": "code",
   "execution_count": 55,
   "metadata": {
    "scrolled": false
   },
   "outputs": [],
   "source": [
    "deptDB = pd.read_csv(\"./../../DoItPandas/data/sawonDB/deptDB.csv\",\n",
    "                     header=None,\n",
    "                     names=[\"deptno\", \"dname\", \"loc\"]) # deptno(부서번호), dname(부서이름), loc(부서 지역)\n",
    "sawonDB = pd.read_csv(\"./../../DoItPandas/data/sawonDB/sawonDB.csv\",\n",
    "                      header=None,\n",
    "                      names=[\"sabun\", \"saname\", \"deptno\", \"sajob\", \"sapay\",\"sahire\",\"sasex\",\"samgr\"]) # sahire(입사일), samgr(매니저) \n",
    "gogekDB = pd.read_csv(\"./../../DoItPandas/data/sawonDB/gogekDB.csv\",\n",
    "                      header=None,\n",
    "                      names=[\"gobun\", \"goname\", \"gotel\", 'gojumin', \"godam\"]) # godam(고객담당)\n",
    "# ' 작은 따옴표를 공백으로 바꿔주기\n",
    "deptDB = deptDB.replace(\"\\'\",\"\",regex=True) \n",
    "sawonDB = sawonDB.replace(\"\\'\",\"\",regex=True)\n",
    "gogekDB = gogekDB.replace(\"\\'\",\"\",regex=True)\n",
    "\n",
    "# 공백을 잘라주기 (문자열에만 사용가능)\n",
    "deptDB['dname'] = deptDB['dname'].str.strip()\n",
    "deptDB['loc'] = deptDB['loc'].str.strip()\n",
    "\n",
    "sawonDB['saname'] = sawonDB['saname'].str.strip()\n",
    "sawonDB['sajob'] = sawonDB['sajob'].str.strip()\n",
    "sawonDB['sahire'] = sawonDB['sahire'].str.strip()\n",
    "sawonDB['sasex'] = sawonDB['sasex'].str.strip()\n",
    "sawonDB['sajob'] = sawonDB['sajob'].str.strip()\n",
    "sawonDB['samgr'] = sawonDB['samgr'].str.strip() # 다 숫자값인데 첫번째 값이 null 값이라 str. 속성이 적용가능 한 거 같다.\n",
    "\n",
    "gogekDB['goname'] = gogekDB['goname'].str.strip()\n",
    "gogekDB['gotel'] = gogekDB['gotel'].str.strip()\n",
    "gogekDB['gojumin'] = gogekDB['gojumin'].str.strip()"
   ]
  },
  {
   "cell_type": "markdown",
   "metadata": {},
   "source": [
    "## Q01. SawonDB 데이터에서 입사년도가 88년도인 레코드 출력"
   ]
  },
  {
   "cell_type": "code",
   "execution_count": 56,
   "metadata": {},
   "outputs": [
    {
     "name": "stdout",
     "output_type": "stream",
     "text": [
      "   sabun saname  deptno sajob  sapay      sahire sasex samgr\n",
      "1      2    한국남      20    부장   3000  1988/11/01    남자     1\n",
      "   sabun saname  deptno sajob  sapay      sahire sasex samgr\n",
      "9     19    임꺽정      20    사원   2200  1988/04/01    남자     7\n",
      "    sabun saname  deptno sajob  sapay      sahire sasex samgr\n",
      "14     10    공부해      30    사원   1303  1988/11/01    남자     4\n"
     ]
    }
   ],
   "source": [
    "for i in range(len(sawonDB)) :\n",
    "    if sawonDB['sahire'][i][0:4] == '1988' :\n",
    "        print(sawonDB.iloc[[i]])"
   ]
  }
 ],
 "metadata": {
  "kernelspec": {
   "display_name": "Python 3",
   "language": "python",
   "name": "python3"
  },
  "language_info": {
   "codemirror_mode": {
    "name": "ipython",
    "version": 3
   },
   "file_extension": ".py",
   "mimetype": "text/x-python",
   "name": "python",
   "nbconvert_exporter": "python",
   "pygments_lexer": "ipython3",
   "version": "3.6.5"
  }
 },
 "nbformat": 4,
 "nbformat_minor": 2
}
