{
 "cells": [
  {
   "cell_type": "code",
   "execution_count": 1,
   "metadata": {},
   "outputs": [],
   "source": [
    "import pandas as pd\n",
    "import numpy as np"
   ]
  },
  {
   "cell_type": "code",
   "execution_count": 15,
   "metadata": {},
   "outputs": [],
   "source": [
    "deptDB = pd.read_csv(\"./../../DoItPandas/data/sawonDB/deptDB.csv\",\n",
    "                     header=None,\n",
    "                     names=[\"deptno\", \"dname\", \"loc\"]) # deptno(부서번호), dname(부서이름), loc(부서 지역)\n",
    "sawonDB = pd.read_csv(\"./../../DoItPandas/data/sawonDB/sawonDB.csv\",\n",
    "                      header=None,\n",
    "                      names=[\"sabun\", \"saname\", \"deptno\", \"sajob\", \"sapay\",\"sahire\",\"sasex\",\"samgr\"]) # sahire(입사일), samgr(매니저) \n",
    "gogekDB = pd.read_csv(\"./../../DoItPandas/data/sawonDB/gogekDB.csv\",\n",
    "                      header=None,\n",
    "                      names=[\"gobun\", \"goname\", \"gotel\", 'gojumin', \"godam\"]) # godam(고객담당)\n",
    "# ' 작은 따옴표를 공백으로 바꿔주기'\n",
    "# ex) deptDB = deptDB.replace(\"\\'\",\"\",regex=True)\n",
    "# =~ deptDB['dname'].str.strip(\"'\") & deptDB['loc'].str.strip(\"'\") # 'deptno'는 int값이라 str.속성이 안된다.\n",
    "deptDB = deptDB.replace(\"\\'\",\"\",regex=True)\n",
    "sawonDB = sawonDB.replace(\"\\'\",\"\",regex=True)\n",
    "gogekDB = gogekDB.replace(\"\\'\",\"\",regex=True)\n",
    "\n",
    "# 공백을 잘라주기 (문자열에만 사용가능)\n",
    "deptDB['dname'] = deptDB['dname'].str.strip()\n",
    "deptDB['loc'] = deptDB['loc'].str.strip()\n",
    "\n",
    "sawonDB['saname'] = sawonDB['saname'].str.strip()\n",
    "sawonDB['sajob'] = sawonDB['sajob'].str.strip()\n",
    "sawonDB['sahire'] = sawonDB['sahire'].str.strip()\n",
    "sawonDB['sasex'] = sawonDB['sasex'].str.strip()\n",
    "sawonDB['sajob'] = sawonDB['sajob'].str.strip()\n",
    "sawonDB['samgr'] = sawonDB['samgr'].str.strip() # 다 숫자값인데 첫번째 값이 null이라 str. 속성이 적용가능 한 거 같다.\n",
    "\n",
    "gogekDB['goname'] = gogekDB['goname'].str.strip()\n",
    "gogekDB['gotel'] = gogekDB['gotel'].str.strip()\n",
    "gogekDB['gojumin'] = gogekDB['gojumin'].str.strip()"
   ]
  },
  {
   "cell_type": "code",
   "execution_count": 26,
   "metadata": {},
   "outputs": [
    {
     "data": {
      "text/plain": [
       "'1'"
      ]
     },
     "execution_count": 26,
     "metadata": {},
     "output_type": "execute_result"
    }
   ],
   "source": [
    "sawonDB.iloc[0,5][0]"
   ]
  },
  {
   "cell_type": "code",
   "execution_count": 27,
   "metadata": {},
   "outputs": [
    {
     "data": {
      "text/plain": [
       "'1'"
      ]
     },
     "execution_count": 27,
     "metadata": {},
     "output_type": "execute_result"
    }
   ],
   "source": [
    "sawonDB.iloc[0,5][-1]"
   ]
  },
  {
   "cell_type": "code",
   "execution_count": 28,
   "metadata": {},
   "outputs": [
    {
     "data": {
      "text/plain": [
       "'강'"
      ]
     },
     "execution_count": 28,
     "metadata": {},
     "output_type": "execute_result"
    }
   ],
   "source": [
    "gogekDB.loc[1,'goname'][0]"
   ]
  },
  {
   "cell_type": "code",
   "execution_count": 29,
   "metadata": {},
   "outputs": [
    {
     "data": {
      "text/plain": [
       "'부'"
      ]
     },
     "execution_count": 29,
     "metadata": {},
     "output_type": "execute_result"
    }
   ],
   "source": [
    "deptDB['dname'][0][-1]"
   ]
  },
  {
   "cell_type": "markdown",
   "metadata": {},
   "source": [
    "## Q02. SawonDB 데이터에서 4월에 입사한 사원을 출력."
   ]
  },
  {
   "cell_type": "code",
   "execution_count": 33,
   "metadata": {},
   "outputs": [
    {
     "name": "stdout",
     "output_type": "stream",
     "text": [
      "   sabun saname  deptno sajob  sapay      sahire sasex samgr\n",
      "9     19    임꺽정      20    사원   2200  1988/04/01    남자     7\n",
      "    sabun saname  deptno sajob  sapay      sahire sasex samgr\n",
      "13      4    이미라      30    대리   2503  1983/04/01    여자    17\n",
      "    sabun saname  deptno sajob  sapay      sahire sasex samgr\n",
      "17     15    최진실      10    사원   2000  1991/04/01    여자    12\n",
      "    sabun saname  deptno sajob  sapay      sahire sasex samgr\n",
      "18     16    김유신      30    사원    400  1981/04/01    남자     4\n"
     ]
    }
   ],
   "source": [
    "for i in range(len(sawonDB)) :\n",
    "    if sawonDB[\"sahire\"][i][5:7] == \"04\" :\n",
    "        # print(sawonDB[\"saname\"][i])\n",
    "        print(sawonDB.iloc[[i]])"
   ]
  },
  {
   "cell_type": "code",
   "execution_count": null,
   "metadata": {},
   "outputs": [],
   "source": []
  }
 ],
 "metadata": {
  "kernelspec": {
   "display_name": "Python 3",
   "language": "python",
   "name": "python3"
  },
  "language_info": {
   "codemirror_mode": {
    "name": "ipython",
    "version": 3
   },
   "file_extension": ".py",
   "mimetype": "text/x-python",
   "name": "python",
   "nbconvert_exporter": "python",
   "pygments_lexer": "ipython3",
   "version": "3.6.5"
  }
 },
 "nbformat": 4,
 "nbformat_minor": 2
}
