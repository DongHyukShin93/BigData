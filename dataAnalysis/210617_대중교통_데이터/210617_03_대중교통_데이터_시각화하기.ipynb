{
  "nbformat": 4,
  "nbformat_minor": 0,
  "metadata": {
    "colab": {
      "name": "210617_03_대중교통 데이터 시각화하기.ipynb",
      "provenance": []
    },
    "kernelspec": {
      "name": "python3",
      "display_name": "Python 3"
    },
    "language_info": {
      "name": "python"
    }
  },
  "cells": [
    {
      "cell_type": "code",
      "metadata": {
        "colab": {
          "base_uri": "https://localhost:8080/"
        },
        "id": "FzTKc7BLq7ih",
        "outputId": "5bd2552c-27a8-4571-80bb-44c0140dabb6"
      },
      "source": [
        "import matplotlib as mpl\n",
        "import matplotlib.pyplot as plt\n",
        " \n",
        "%config InlineBackend.figure_format = 'retina'\n",
        " \n",
        "!apt -qq -y install fonts-nanum\n",
        " \n",
        "import matplotlib.font_manager as fm\n",
        "\n",
        "fontpath = '/usr/share/fonts/truetype/nanum/NanumBarunGothic.ttf'\n",
        "font = fm.FontProperties(fname=fontpath, size=9)\n",
        "plt.rc('font', family='NanumBarunGothic') \n",
        "mpl.font_manager._rebuild()"
      ],
      "execution_count": null,
      "outputs": [
        {
          "output_type": "stream",
          "text": [
            "fonts-nanum is already the newest version (20170925-1).\n",
            "0 upgraded, 0 newly installed, 0 to remove and 39 not upgraded.\n"
          ],
          "name": "stdout"
        }
      ]
    },
    {
      "cell_type": "markdown",
      "metadata": {
        "id": "E-rMEth8rKGo"
      },
      "source": [
        "모든 역의 유무임 승하차 비율을 파이 차트로 나타내기"
      ]
    },
    {
      "cell_type": "code",
      "metadata": {
        "colab": {
          "base_uri": "https://localhost:8080/",
          "height": 1000
        },
        "id": "VX3jXdkErCq5",
        "outputId": "b2f23925-5a32-43a4-a766-53c5c73aaed6"
      },
      "source": [
        "import csv\n",
        "\n",
        "f = open('/content/subwayfee.csv')\n",
        "data = csv.reader(f)\n",
        "next(data)\n",
        "\n",
        "# 전역 변수 선언\n",
        "mx = [0] * 4 # 최대 유임승차, 유임하차, 무임승차, 무임하차 인원수 [ , , , ]\n",
        "min_station = [''] * 4 # 최대 최대 유임승차, 유임하차, 무임승차, 무임하차 역 정보 # ['', '', '', '']\n",
        "\n",
        "label = ['유임승차', '유임하차', '무임승차', '무임하차']\n",
        "\n",
        "for row in data :\n",
        "  for i in range(4,8) :\n",
        "    row[i] = int(row[i]) # 4, 5, 6, 7 인덱스 데이터 정수로 변경\n",
        "  if '.' not in row[3] :\n",
        "    plt.figure(dpi=150)\n",
        "    plt.title(row[1] + ' ' + row[3] + '역') # title을 (호선, 역이름)으로 지정\n",
        "    plt.pie(row[4:8], labels=label, autopct='%.1f%%')\n",
        "    plt.axis('equal') \n",
        "    plt.savefig(row[1] + ' ' + row[3]) # 역이름으로 png 파일 저장하기\n",
        "    plt.show()"
      ],
      "execution_count": null,
      "outputs": []
    }
  ]
}