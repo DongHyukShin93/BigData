{
  "nbformat": 4,
  "nbformat_minor": 0,
  "metadata": {
    "colab": {
      "name": "210617_02_대중교통 데이터 시각화하기.ipynb",
      "provenance": [],
      "collapsed_sections": [],
      "authorship_tag": "ABX9TyPynuXH/3Vd2DSpTm4uiM15",
      "include_colab_link": true
    },
    "kernelspec": {
      "name": "python3",
      "display_name": "Python 3"
    },
    "language_info": {
      "name": "python"
    }
  },
  "cells": [
    {
      "cell_type": "markdown",
      "metadata": {
        "id": "view-in-github",
        "colab_type": "text"
      },
      "source": [
        "<a href=\"https://colab.research.google.com/github/DongHyukShin93/BigData/blob/main/210617_02_%EB%8C%80%EC%A4%91%EA%B5%90%ED%86%B5_%EB%8D%B0%EC%9D%B4%ED%84%B0_%EC%8B%9C%EA%B0%81%ED%99%94%ED%95%98%EA%B8%B0.ipynb\" target=\"_parent\"><img src=\"https://colab.research.google.com/assets/colab-badge.svg\" alt=\"Open In Colab\"/></a>"
      ]
    },
    {
      "cell_type": "markdown",
      "metadata": {
        "id": "ovBD6Rgi1zXZ"
      },
      "source": [
        "지하철 유무임별 이용현황 데이터 정제하기"
      ]
    },
    {
      "cell_type": "code",
      "metadata": {
        "id": "AXkbypxe1hKG"
      },
      "source": [
        "import csv\n",
        "\n",
        "f = open('/content/subwayfee.csv') # 원본데이터에서 utf-8로 인코딩했기 때문에, 따로 econding='cp949'를 쓰지않아도 된다\n",
        "data = csv.reader(f)\n",
        "# next(data)\n",
        "\n",
        "for row in data :\n",
        "  print(row)"
      ],
      "execution_count": null,
      "outputs": []
    },
    {
      "cell_type": "markdown",
      "metadata": {
        "id": "hpMzFxKL6z5H"
      },
      "source": [
        "유임승차 수 정수형으로 변환"
      ]
    },
    {
      "cell_type": "code",
      "metadata": {
        "id": "uGt36Nnc2J3U"
      },
      "source": [
        "import csv\n",
        "\n",
        "f = open('/content/subwayfee.csv') # 원본데이터에서 utf-8로 인코딩했기 때문에, 따로 econding='cp949'를 쓰지않아도 된다\n",
        "data = csv.reader(f)\n",
        "next(data)\n",
        "\n",
        "for row in data :\n",
        "  row[4] = int(row[4])\n",
        "  print(row)"
      ],
      "execution_count": null,
      "outputs": []
    },
    {
      "cell_type": "markdown",
      "metadata": {
        "id": "_8nTOESP7Q7z"
      },
      "source": [
        "인원 숫자 데이터 정수로 변경 (유임승차, 유임하차, 무임승차, 무임하자 - 4,5,6,7 인덱스)"
      ]
    },
    {
      "cell_type": "code",
      "metadata": {
        "id": "KTwa1-hj7doH"
      },
      "source": [
        "import csv\n",
        "\n",
        "f = open('/content/subwayfee.csv') # 원본데이터에서 utf-8로 인코딩했기 때문에, 따로 econding='cp949'를 쓰지않아도 된다\n",
        "data = csv.reader(f)\n",
        "next(data)\n",
        "\n",
        "for row in data :\n",
        "  for i in range(4,8) : # 4, 5, 6, 7 인덱스 데이터 정수로 변경\n",
        "    row[i] = int(row[i])\n",
        "  print(row)"
      ],
      "execution_count": null,
      "outputs": []
    },
    {
      "cell_type": "markdown",
      "metadata": {
        "id": "Q__Is0-G-RSW"
      },
      "source": [
        "유임승차 / 무임승차 비율의 최댓값 찾기 -> 기존 0 데이터가 '-' 데이터로 되어 있음<br>\n",
        "rate = 유임승차 인원 / 무임 승차 인원"
      ]
    },
    {
      "cell_type": "code",
      "metadata": {
        "colab": {
          "base_uri": "https://localhost:8080/"
        },
        "id": "rRFvLvHh7qNQ",
        "outputId": "3bc1ac71-8c5b-41fd-ac6e-aeccd91ca934"
      },
      "source": [
        "import csv\n",
        "\n",
        "f = open('/content/subwayfee.csv')\n",
        "data = csv.reader(f)\n",
        "next(data)\n",
        "\n",
        "mx = 0 # 최대 유임승차 비율\n",
        "rate = 0 # 유임승차 비율\n",
        "\n",
        "for row in data :\n",
        "  for i in range(4,8) :\n",
        "    row[i] = int(row[i]) # 4, 5, 6, 7 인덱스 데이터 정수로 변경\n",
        "\n",
        "  if row[4] != 0 and row[6] != 0 : # 유임승차과 무임승차의 인원수가 0이 아닐 때\n",
        "    rate = row[4] / row[6] # 유임승차 / 무임승차\n",
        "\n",
        "    if rate > mx :\n",
        "      mx = rate\n",
        "\n",
        "print(mx)"
      ],
      "execution_count": null,
      "outputs": [
        {
          "output_type": "stream",
          "text": [
            "27.5\n"
          ],
          "name": "stdout"
        }
      ]
    },
    {
      "cell_type": "markdown",
      "metadata": {
        "id": "IMsIdNNxAWvS"
      },
      "source": [
        "비율 계산 방식 변경 rate = 유임승차 인원 / 전체(유임+무임) 인원\n"
      ]
    },
    {
      "cell_type": "code",
      "metadata": {
        "colab": {
          "base_uri": "https://localhost:8080/"
        },
        "id": "vL3zZLzrAeDG",
        "outputId": "ed292700-35f0-4dc1-c9fb-72ec78c84c95"
      },
      "source": [
        "import csv\n",
        "\n",
        "f = open('/content/subwayfee.csv')\n",
        "data = csv.reader(f)\n",
        "next(data)\n",
        "\n",
        "# 전역 변수 선언\n",
        "mx = 0 # 최대 유임승차 비율\n",
        "rate = 0 # 유임승차 비율\n",
        "\n",
        "for row in data :\n",
        "  for i in range(4,8) :\n",
        "    row[i] = int(row[i]) # 4, 5, 6, 7 인덱스 데이터 정수로 변경\n",
        "\n",
        "  if row[4] != 0 and row[6] != 0 and (row[4] + row[6]) > 100000 : # 유임승차과 무임승차의 인원수가 0이 아니고, 전체 인원이 100,000명 이상일 때\n",
        "    rate = row[4] / (row[4] + row[6]) # 유임승차 / 전체(유임 + 무임)\n",
        "\n",
        "    if rate > mx :\n",
        "      mx = rate\n",
        "      mx_station = row[3] + ' ' + row[1] # 지하철 역 + 호선 정보 -> ex) 서울역 1호선\n",
        "      print(mx_station, round(mx * 100, 2),'%') # 퍼센트 형식으로 나타내기 위해 mx에 100을 곱한다"
      ],
      "execution_count": null,
      "outputs": [
        {
          "output_type": "stream",
          "text": [
            "서울역 1호선 87.27 %\n",
            "종각 1호선 88.43 %\n",
            "시청 2호선 92.04 %\n",
            "을지로입구 2호선 92.16 %\n",
            "한양대 2호선 93.83 %\n",
            "강남 2호선 94.42 %\n",
            "홍대입구 2호선 95.34 %\n"
          ],
          "name": "stdout"
        }
      ]
    },
    {
      "cell_type": "code",
      "metadata": {
        "colab": {
          "base_uri": "https://localhost:8080/"
        },
        "id": "KJES8dM7YkYI",
        "outputId": "0cbcb57f-da71-4c54-a896-71d6b07fc705"
      },
      "source": [
        "import csv\n",
        "\n",
        "f = open('/content/subwayfee.csv')\n",
        "data = csv.reader(f)\n",
        "next(data)\n",
        "\n",
        "# 전역 변수 선언\n",
        "mx = 0 # 최대 유임승차 비율\n",
        "rate = 0 # 유임승차 비율\n",
        "mx_station = '' # 최대 유임승차 비율 역 정보\n",
        "\n",
        "for row in data :\n",
        "  for i in range(4,8) :\n",
        "    row[i] = int(row[i]) # 4, 5, 6, 7 인덱스 데이터 정수로 변경\n",
        "\n",
        "  if row[4] != 0 and row[6] != 0 and (row[4] + row[6]) > 100000 : # 유임승차과 무임승차의 인원수가 0이 아니고, 전체 인원이 100,000명 이상일 때\n",
        "    rate = row[4] / (row[4] + row[6]) # 유임승차 / 전체(유임 + 무임)\n",
        "\n",
        "    if rate > mx :\n",
        "      mx = rate\n",
        "      mx_station = row[3] + ' ' + row[1] # 지하철 역 + 호선 정보 -> ex) 서울역 1호선\n",
        "      \n",
        "print(mx_station, round(mx * 100, 2),'%') # 퍼센트 형식으로 나타내기 위해 mx에 100을 곱한다"
      ],
      "execution_count": null,
      "outputs": [
        {
          "output_type": "stream",
          "text": [
            "홍대입구 2호선 95.34 %\n"
          ],
          "name": "stdout"
        }
      ]
    },
    {
      "cell_type": "markdown",
      "metadata": {
        "id": "3KhgS5mtZgl6"
      },
      "source": [
        "유무임 승하차 인원이 가장 많은 역 찾기"
      ]
    },
    {
      "cell_type": "code",
      "metadata": {
        "colab": {
          "base_uri": "https://localhost:8080/"
        },
        "id": "IkqYQo1LZg3m",
        "outputId": "bfba28c6-42f1-44e0-886a-2a1d81918eab"
      },
      "source": [
        "import csv\n",
        "\n",
        "f = open('/content/subwayfee.csv')\n",
        "data = csv.reader(f)\n",
        "next(data)\n",
        "\n",
        "# 전역 변수 선언\n",
        "mx = [0] * 4 # 최대 유임승차, 유임하차, 무임승차, 무임하차 인원수 # [0, 0, 0, 0]\n",
        "mx_station = [''] * 4 # 최대 최대 유임승차, 유임하차, 무임승차, 무임하차 역 정보 # ['', '', '', '']\n",
        "\n",
        "label = ['유임승차', '유임하차', '무임승차', '무임하자']\n",
        "\n",
        "for row in data :\n",
        "  for i in range(4,8) :\n",
        "    row[i] = int(row[i]) # 4, 5, 6, 7 인덱스 데이터 정수로 변경\n",
        "    if row[i] > mx[i-4] : # row[4] > mx[0] 유임승차 비교, row[5] > mx[1] 유임하차 비교, row[6] > mx[2] 무임승차 비교, row[7] > mx[3] 무임하차 비교\n",
        "      mx[i-4] = row[i]\n",
        "      mx_station[i-4] = row[1] + ' ' + row[3] # 지하철 역 + 호선 정보 -> ex) 서울역 1호선\n",
        "\n",
        "for i in range(4) :\n",
        "  print(label[i]+ '의 인원수가 가장 많은 역 : ' +mx_station[i], mx[i])"
      ],
      "execution_count": null,
      "outputs": [
        {
          "output_type": "stream",
          "text": [
            "유임승차의 인원수가 가장 많은 역 : 2호선 강남 3153418\n",
            "유임하차의 인원수가 가장 많은 역 : 2호선 강남 3210437\n",
            "무임승차의 인원수가 가장 많은 역 : 1호선 종로3가 387062\n",
            "무임하자의 인원수가 가장 많은 역 : 1호선 제기동 400607\n"
          ],
          "name": "stdout"
        }
      ]
    },
    {
      "cell_type": "markdown",
      "metadata": {
        "id": "tmH1JrEhdipY"
      },
      "source": [
        "유무임 승하차 인원이 가장 적은 역 찾기"
      ]
    },
    {
      "cell_type": "code",
      "metadata": {
        "colab": {
          "base_uri": "https://localhost:8080/"
        },
        "id": "9LeATWgXdkvr",
        "outputId": "8607b689-d826-482f-d971-10213d216d4d"
      },
      "source": [
        "import csv\n",
        "\n",
        "f = open('/content/subwayfee.csv')\n",
        "data = csv.reader(f)\n",
        "next(data)\n",
        "\n",
        "# 전역 변수 선언\n",
        "min = [5000] * 4 # 최대 유임승차, 유임하차, 무임승차, 무임하차 인원수 [ , , , ]\n",
        "min_station = [''] * 4 # 최대 최대 유임승차, 유임하차, 무임승차, 무임하차 역 정보 # ['', '', '', '']\n",
        "\n",
        "label = ['유임승차', '유임하차', '무임승차', '무임하자']\n",
        "\n",
        "for row in data :\n",
        "  for i in range(4,8) :\n",
        "    row[i] = int(row[i]) # 4, 5, 6, 7 인덱스 데이터 정수로 변경\n",
        "    if row[i] != 0 : # if row[i] > 0 \n",
        "      if row[i] < min[i-4] : # row[4] > mx[0] 유임승차 비교, row[5] > mx[1] 유임하차 비교, row[6] > mx[2] 무임승차 비교, row[7] > mx[3] 무임하차 비교\n",
        "        min[i-4] = row[i]\n",
        "        min_station[i-4] = row[1] + ' ' + row[3] + '역' # 지하철 역 + 호선 정보 -> ex) 서울역 1호선\n",
        "        print(label[i-4], min_station[i-4], min[i-4])\n",
        "print(\"-------최종결과------\")\n",
        "for i in range(4) :\n",
        "  print(label[i]+ '의 인원수가 가장 적은 역 : ' +min_station[i], min[i])"
      ],
      "execution_count": null,
      "outputs": [
        {
          "output_type": "stream",
          "text": [
            "유임승차 3호선 충무로역 55\n",
            "무임승차 3호선 충무로역 2\n",
            "무임하자 경부선 서울역역 1612\n",
            "유임하차 경원선 옥수역 788\n",
            "무임하자 경원선 옥수역 91\n",
            "유임승차 경원선 창동역 19\n",
            "유임승차 일산선 지축역 2\n",
            "유임하차 중앙선 지평역 566\n",
            "-------최종결과------\n",
            "유임승차의 인원수가 가장 적은 역 : 일산선 지축역 2\n",
            "유임하차의 인원수가 가장 적은 역 : 중앙선 지평역 566\n",
            "무임승차의 인원수가 가장 적은 역 : 3호선 충무로역 2\n",
            "무임하자의 인원수가 가장 적은 역 : 경원선 옥수역 91\n"
          ],
          "name": "stdout"
        }
      ]
    },
    {
      "cell_type": "code",
      "metadata": {
        "colab": {
          "base_uri": "https://localhost:8080/"
        },
        "id": "mGwBX0DkgAxQ",
        "outputId": "6128c2a3-dd79-423a-fc14-de2040491e06"
      },
      "source": [
        "import csv\n",
        "\n",
        "f = open('/content/subwayfee.csv')\n",
        "data = csv.reader(f)\n",
        "next(data)\n",
        "\n",
        "# 전역 변수 선언\n",
        "min = [60000000] * 4 # 최대 유임승차, 유임하차, 무임승차, 무임하차 인원수 [ , , , ]\n",
        "min_station = [''] * 4 # 최대 최대 유임승차, 유임하차, 무임승차, 무임하차 역 정보 # ['', '', '', '']\n",
        "\n",
        "label = ['유임승차', '유임하차', '무임승차', '무임하자']\n",
        "\n",
        "for row in data :\n",
        "  for i in range(4,8) :\n",
        "    row[i] = int(row[i]) # 4, 5, 6, 7 인덱스 데이터 정수로 변경\n",
        "    if row[i] <= min[i-4] : # row[4] > mx[0] 유임승차 비교, row[5] > mx[1] 유임하차 비교, row[6] > mx[2] 무임승차 비교, row[7] > mx[3] 무임하차 비교\n",
        "      min[i-4] = row[i]\n",
        "      min_station[i-4] = row[1] + ' ' + row[3] # 지하철 역 + 호선 정보 -> ex) 서울역 1호선\n",
        "\n",
        "for i in range(4) :\n",
        "  print(label[i]+ '의 인원수가 가장 적은 역 : ' +min_station[i], min[i])"
      ],
      "execution_count": null,
      "outputs": [
        {
          "output_type": "stream",
          "text": [
            "유임승차의 인원수가 가장 적은 역 : 경의선 홍대입구 2\n",
            "유임하차의 인원수가 가장 적은 역 : 6호선 연신내 0\n",
            "무임승차의 인원수가 가장 적은 역 : 경의선 검암 0\n",
            "무임하자의 인원수가 가장 적은 역 : 6호선 연신내 0\n"
          ],
          "name": "stdout"
        }
      ]
    }
  ]
}
