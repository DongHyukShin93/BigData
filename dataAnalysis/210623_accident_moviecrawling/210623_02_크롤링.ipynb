{
  "nbformat": 4,
  "nbformat_minor": 0,
  "metadata": {
    "colab": {
      "name": "210623_02_크롤링.ipynb",
      "provenance": [],
      "collapsed_sections": []
    },
    "kernelspec": {
      "name": "python3",
      "display_name": "Python 3"
    },
    "language_info": {
      "name": "python"
    }
  },
  "cells": [
    {
      "cell_type": "markdown",
      "metadata": {
        "id": "LbB61iMUnZIq"
      },
      "source": [
        "네이버 영화 TOP 100 데이터 크롤링하기"
      ]
    },
    {
      "cell_type": "markdown",
      "metadata": {
        "id": "S-XISpoentbS"
      },
      "source": [
        "라이브러리 설치"
      ]
    },
    {
      "cell_type": "code",
      "metadata": {
        "id": "5jmvONgPh3cG"
      },
      "source": [
        "!pip install selenium"
      ],
      "execution_count": null,
      "outputs": []
    },
    {
      "cell_type": "markdown",
      "metadata": {
        "id": "Yjgk7Oc1n2PX"
      },
      "source": [
        "라이브러리 import"
      ]
    },
    {
      "cell_type": "code",
      "metadata": {
        "id": "paOWZwqQnzLr"
      },
      "source": [
        "from bs4 import BeautifulSoup\n",
        "import requests\n",
        "from selenium import webdriver as wd\n",
        "from selenium.webdriver.common.keys import Keys\n",
        "import time\n",
        "import re\n",
        "import pandas as pd"
      ],
      "execution_count": null,
      "outputs": []
    },
    {
      "cell_type": "code",
      "metadata": {
        "id": "PJ_dhYF8oXMF"
      },
      "source": [
        "# install chromium, its driver, and selenium\n",
        "!apt-get update\n",
        "!apt install chromium-chromedriver\n",
        "!cp /usr/lib/chromium-browser/chromedriver /usr/bin\n",
        "!pip install selenium\n",
        "\n",
        "# set options to be headless, ..\n",
        "from selenium import webdriver\n",
        "options = webdriver.ChromeOptions()\n",
        "options.add_argument('--headless')\n",
        "options.add_argument('--no-sandbox')\n",
        "options.add_argument('--disable-dev-shm-usage')\n",
        "\n",
        "driver = webdriver.Chrome('chromedriver',options=options)"
      ],
      "execution_count": null,
      "outputs": []
    },
    {
      "cell_type": "markdown",
      "metadata": {
        "id": "fNCDw7HVrwib"
      },
      "source": [
        "분석할 데이터 모으기(크롤링)"
      ]
    },
    {
      "cell_type": "code",
      "metadata": {
        "id": "wHNZDqdCoeju"
      },
      "source": [
        "# https://serieson.naver.com/movie/top100List.nhn?&rankingTypeCode=PC_R&page=(1,5) 실시간\n",
        "# https://serieson.naver.com/movie/top100List.nhn?&rankingTypeCode=PC_D&page=(1,5) 일간\n",
        "# https://serieson.naver.com/movie/top100List.nhn?&rankingTypeCode=PC_W&page=(1,5) 주간\n",
        "# https://serieson.naver.com/movie/top100List.nhn?&rankingTypeCode=PC_M&page=(1,5) 월간\n",
        "\n",
        "def getPageLinksWantRange(startPageNo, lastPageNo) :\n",
        "  links = [] # 100개의 영화 링크를 수집할 리스트 변수 선언\n",
        "\n",
        "  for pageNo in range(startPageNo - 1, lastPageNo) :\n",
        "    # 실시간 TOP 100 영화 링크 수집\n",
        "    url = 'https://serieson.naver.com/movie/top100List.nhn?&rankingTypeCode=PC_M&page=' + str(pageNo + 1)\n",
        "\n",
        "    req = requests.get(url) # 페이지 접속\n",
        "    soup = BeautifulSoup(req.text, 'lxml') # html 파싱을 위한 객체 생성\n",
        "    movielinks = soup.select('div.lst_thum_wrap ul li a[href]') # <div class=\"lst_thum_wrap\"> -> <ul> -> <li> -> <a href =\"\">\n",
        "\n",
        "    for movielink in movielinks :\n",
        "      link = str(movielink.get('href'))\n",
        "      links.append('https://series.naver.com'+link) # 접속할 수 있는 전체 링크 형태로 변환해서 append\n",
        "\n",
        "  return links"
      ],
      "execution_count": null,
      "outputs": []
    },
    {
      "cell_type": "markdown",
      "metadata": {
        "id": "_KEkeuVEyeFk"
      },
      "source": [
        "네이버 영화 제목, 평점, 장르, 줄거리 크롤링"
      ]
    },
    {
      "cell_type": "code",
      "metadata": {
        "id": "dRdxYo8GxxAU"
      },
      "source": [
        "def getMovieDataFromNaverSeries(links) :\n",
        "  title_infos = [] # 제목\n",
        "  content_infos = [] # 줄거리\n",
        "  genre_infos = [] # 장르\n",
        "  score_infos = [] # 평점\n",
        "  date_infos = [] # 개봉일\n",
        "\n",
        "  url2 = \"http://www.naver.com\"\n",
        "\n",
        "  driver = webdriver.Chrome('chromedriver',options=options)\n",
        "  driver.get(url2)\n",
        "  time.sleep(3.0) # 3초 sleep\n",
        "\n",
        "  driver.find_element_by_css_selector('body').send_keys(Keys.CONTROL + 't')\n",
        "\n",
        "  for link in links :\n",
        "    print(link + ' 수집 중......')\n",
        "    driver.switch_to.window(driver.window_handles[-1]) # 새 탭 활성화\n",
        "    time.sleep(0.1)\n",
        "    driver.get(link)\n",
        "    time.sleep(0.1)\n",
        "    driver.switch_to.window(driver.window_handles[0])\n",
        "    time.sleep(3.0)\n",
        "\n",
        "    html_source = driver.page_source # req.text 같은 동작\n",
        "    html_soup = BeautifulSoup(html_source, 'lxml')\n",
        "\n",
        "    # 청소년관람불가 영화 크롤링할 경우 -> 인증 -> 수집 제외\n",
        "    flag = html_soup.text[0:10]\n",
        "\n",
        "    newflag = ''.join(flag)\n",
        "    newflag = newflag.replace('\\n', '')\n",
        "\n",
        "    if newflag == '네이버' :\n",
        "      time.sleep(1.0)\n",
        "\n",
        "      # 평점 수집\n",
        "      score = driver.find_element_by_css_selector('div.score_area > em ')\n",
        "      score = float(score.text)\n",
        "      score = int(score)\n",
        "      score_infos.append(score)\n",
        "      print(score)\n",
        "\n",
        "      # 장르 수집\n",
        "      genre = driver.find_element_by_css_selector('li.info_lst > ul > li:nth-child(4)').get_attribute('textContent')\n",
        "      genre = genre.replace('장르','')\n",
        "      genre = genre.replace('\\n','')\n",
        "      genre = genre.replace('\\t','')\n",
        "      genre_infos.append(genre)\n",
        "\n",
        "      # 제목, 줄거리\n",
        "      try :\n",
        "        movieInfoUrl = driver.find_element_by_css_selector('li.info_lst > ul > li:nth-child(7) > a').get_attribute('href')\n",
        "      except :\n",
        "        movieInfoUrl = driver.find_element_by_css_selector('li.info_lst > ul > li:nth-child(6) > a').get_attribute('href')\n",
        "      \n",
        "      # 영화 상세보기 페이지로 이동\n",
        "      movie_req = requests.get(movieInfoUrl)\n",
        "\n",
        "      # 제목 수집\n",
        "      movie_soup = BeautifulSoup(movie_req.text,'lxml')\n",
        "      title = movie_soup.head.find('meta',{'property':'og:title'}).get('content')\n",
        "      title_infos.append(title)\n",
        "\n",
        "      # 줄거리 수집\n",
        "      contents_texts = movie_soup.select('div.story_area > p.con_tx')\n",
        "\n",
        "      if len(contents_texts) == 0 :\n",
        "        content_infos.append('줄거리 오류')\n",
        "\n",
        "      else :\n",
        "        for contents in contents_texts :\n",
        "          # 줄거리 데이터 클렌징 작업\n",
        "          temp = contents.text\n",
        "          temp = temp.replace('\\r','') # 줄 바꿈 제거\n",
        "          temp = temp.replace('\\xa0','') # 공백 제거\n",
        "          content_infos.append(temp)\n",
        "    elif newflag == '' :\n",
        "      print('청불 영화로 데이터 수집하지 않습니다.')\n",
        "  print('수집 완료합니다......')\n",
        "  print(len(score_infos), len(genre_infos), len(content_infos))\n",
        "  driver.close()\n",
        "\n",
        "  movie_dic = {'제목':title_infos, '평점':score_infos, '장르':genre_infos, '줄거리':content_infos}\n",
        "    \n",
        "  # 딕셔너리 -> DataFrame\n",
        "  movie_df = pd.DataFrame(movie_dic)\n",
        "\n",
        "  # 수집된 정보 중에 중복 데이터 삭제\n",
        "  movie_df2 = movie_df.drop_duplicates('줄거리', keep='first') # 줄거리 비교해서, 중복된 영화를 삭제(첫번째 수집 영화만 남김)\n",
        "\n",
        "  return movie_df2"
      ],
      "execution_count": null,
      "outputs": []
    },
    {
      "cell_type": "markdown",
      "metadata": {
        "id": "7IX9skjvKjhc"
      },
      "source": [
        "csv 파일로 저장"
      ]
    },
    {
      "cell_type": "code",
      "metadata": {
        "id": "lOXeni5CHGCn"
      },
      "source": [
        "def dftocsv(movie_df, num) :\n",
        "  try :\n",
        "    movie_df.to_csv(('month_movie_my_data_'+ str(num) +'.csv'),\n",
        "                    sep=',', na_rep='NaN', encoding='euc-kr')\n",
        "  except :\n",
        "    print('Error')"
      ],
      "execution_count": null,
      "outputs": []
    },
    {
      "cell_type": "markdown",
      "metadata": {
        "id": "uS7oxGP0Lb1F"
      },
      "source": [
        "크롤링 실행"
      ]
    },
    {
      "cell_type": "code",
      "metadata": {
        "colab": {
          "base_uri": "https://localhost:8080/"
        },
        "id": "QYPYscXWLZBn",
        "outputId": "40c0f7eb-3412-4392-9869-d414fd3a94d7"
      },
      "source": [
        "# 1) 크롤링 할 링크 수집\n",
        "links = getPageLinksWantRange(1,5)\n",
        "\n",
        "# 2) 영화 상세 정보 수집\n",
        "movie_df2 = getMovieDataFromNaverSeries(links)\n",
        "\n",
        "# 3) csv 파일 저장\n",
        "dftocsv(movie_df2, len(movie_df2))"
      ],
      "execution_count": null,
      "outputs": [
        {
          "output_type": "stream",
          "text": [
            "https://series.naver.com/movie/detail.nhn?productNo=6119777 수집 중......\n",
            "7\n",
            "https://series.naver.com/movie/detail.nhn?productNo=6176165 수집 중......\n",
            "8\n",
            "https://series.naver.com/movie/detail.nhn?productNo=6158879 수집 중......\n",
            "9\n",
            "https://series.naver.com/movie/detail.nhn?productNo=6098871 수집 중......\n",
            "9\n",
            "https://series.naver.com/movie/detail.nhn?productNo=6023769 수집 중......\n",
            "9\n",
            "https://series.naver.com/movie/detail.nhn?productNo=6139377 수집 중......\n",
            "8\n",
            "https://series.naver.com/movie/detail.nhn?productNo=6139375 수집 중......\n",
            "9\n",
            "https://series.naver.com/movie/detail.nhn?productNo=6119778 수집 중......\n",
            "7\n",
            "https://series.naver.com/movie/detail.nhn?productNo=4356726 수집 중......\n",
            "9\n",
            "https://series.naver.com/movie/detail.nhn?productNo=6176518 수집 중......\n",
            "청불 영화로 데이터 수집하지 않습니다.\n",
            "https://series.naver.com/movie/detail.nhn?productNo=3293948 수집 중......\n",
            "청불 영화로 데이터 수집하지 않습니다.\n",
            "https://series.naver.com/movie/detail.nhn?productNo=6039515 수집 중......\n",
            "0\n",
            "https://series.naver.com/movie/detail.nhn?productNo=6176542 수집 중......\n",
            "8\n",
            "https://series.naver.com/movie/detail.nhn?productNo=1965132 수집 중......\n",
            "청불 영화로 데이터 수집하지 않습니다.\n",
            "https://series.naver.com/movie/detail.nhn?productNo=1808511 수집 중......\n",
            "9\n",
            "https://series.naver.com/movie/detail.nhn?productNo=6176166 수집 중......\n",
            "8\n",
            "https://series.naver.com/movie/detail.nhn?productNo=2747742 수집 중......\n",
            "8\n",
            "https://series.naver.com/movie/detail.nhn?productNo=4475562 수집 중......\n",
            "7\n",
            "https://series.naver.com/movie/detail.nhn?productNo=5751044 수집 중......\n",
            "8\n",
            "https://series.naver.com/movie/detail.nhn?productNo=5843892 수집 중......\n",
            "8\n",
            "https://series.naver.com/movie/detail.nhn?productNo=2822635 수집 중......\n",
            "청불 영화로 데이터 수집하지 않습니다.\n",
            "https://series.naver.com/movie/detail.nhn?productNo=6176543 수집 중......\n",
            "8\n",
            "https://series.naver.com/movie/detail.nhn?productNo=5607754 수집 중......\n",
            "8\n",
            "https://series.naver.com/movie/detail.nhn?productNo=1729987 수집 중......\n",
            "청불 영화로 데이터 수집하지 않습니다.\n",
            "https://series.naver.com/movie/detail.nhn?productNo=4579842 수집 중......\n",
            "8\n",
            "https://series.naver.com/movie/detail.nhn?productNo=2790610 수집 중......\n",
            "8\n",
            "https://series.naver.com/movie/detail.nhn?productNo=1373317 수집 중......\n",
            "청불 영화로 데이터 수집하지 않습니다.\n",
            "https://series.naver.com/movie/detail.nhn?productNo=552985 수집 중......\n",
            "청불 영화로 데이터 수집하지 않습니다.\n",
            "https://series.naver.com/movie/detail.nhn?productNo=6189997 수집 중......\n",
            "7\n",
            "https://series.naver.com/movie/detail.nhn?productNo=5009512 수집 중......\n",
            "8\n",
            "https://series.naver.com/movie/detail.nhn?productNo=4465876 수집 중......\n",
            "7\n",
            "https://series.naver.com/movie/detail.nhn?productNo=1781025 수집 중......\n",
            "9\n",
            "https://series.naver.com/movie/detail.nhn?productNo=4508244 수집 중......\n",
            "9\n",
            "https://series.naver.com/movie/detail.nhn?productNo=6147667 수집 중......\n",
            "8\n",
            "https://series.naver.com/movie/detail.nhn?productNo=1049059 수집 중......\n",
            "8\n",
            "https://series.naver.com/movie/detail.nhn?productNo=1126516 수집 중......\n",
            "8\n",
            "https://series.naver.com/movie/detail.nhn?productNo=2968150 수집 중......\n",
            "청불 영화로 데이터 수집하지 않습니다.\n",
            "https://series.naver.com/movie/detail.nhn?productNo=3400212 수집 중......\n",
            "7\n",
            "https://series.naver.com/movie/detail.nhn?productNo=2166247 수집 중......\n",
            "청불 영화로 데이터 수집하지 않습니다.\n",
            "https://series.naver.com/movie/detail.nhn?productNo=977821 수집 중......\n",
            "8\n",
            "https://series.naver.com/movie/detail.nhn?productNo=6189996 수집 중......\n",
            "7\n",
            "https://series.naver.com/movie/detail.nhn?productNo=3318482 수집 중......\n",
            "청불 영화로 데이터 수집하지 않습니다.\n",
            "https://series.naver.com/movie/detail.nhn?productNo=6143439 수집 중......\n",
            "9\n",
            "https://series.naver.com/movie/detail.nhn?productNo=6139376 수집 중......\n",
            "9\n",
            "https://series.naver.com/movie/detail.nhn?productNo=3100069 수집 중......\n",
            "9\n",
            "https://series.naver.com/movie/detail.nhn?productNo=2441904 수집 중......\n",
            "8\n",
            "https://series.naver.com/movie/detail.nhn?productNo=1537164 수집 중......\n",
            "청불 영화로 데이터 수집하지 않습니다.\n",
            "https://series.naver.com/movie/detail.nhn?productNo=4695510 수집 중......\n",
            "청불 영화로 데이터 수집하지 않습니다.\n",
            "https://series.naver.com/movie/detail.nhn?productNo=585441 수집 중......\n",
            "9\n",
            "https://series.naver.com/movie/detail.nhn?productNo=3448644 수집 중......\n",
            "8\n",
            "https://series.naver.com/movie/detail.nhn?productNo=2787777 수집 중......\n",
            "청불 영화로 데이터 수집하지 않습니다.\n",
            "https://series.naver.com/movie/detail.nhn?productNo=3744353 수집 중......\n",
            "9\n",
            "https://series.naver.com/movie/detail.nhn?productNo=1775085 수집 중......\n",
            "청불 영화로 데이터 수집하지 않습니다.\n",
            "https://series.naver.com/movie/detail.nhn?productNo=3532815 수집 중......\n",
            "8\n",
            "https://series.naver.com/movie/detail.nhn?productNo=5778853 수집 중......\n",
            "7\n",
            "https://series.naver.com/movie/detail.nhn?productNo=3593762 수집 중......\n",
            "8\n",
            "https://series.naver.com/movie/detail.nhn?productNo=1798015 수집 중......\n",
            "7\n",
            "https://series.naver.com/movie/detail.nhn?productNo=3843473 수집 중......\n",
            "7\n",
            "https://series.naver.com/movie/detail.nhn?productNo=977825 수집 중......\n",
            "8\n",
            "https://series.naver.com/movie/detail.nhn?productNo=3241116 수집 중......\n",
            "9\n",
            "https://series.naver.com/movie/detail.nhn?productNo=6112492 수집 중......\n",
            "0\n",
            "https://series.naver.com/movie/detail.nhn?productNo=5110441 수집 중......\n",
            "청불 영화로 데이터 수집하지 않습니다.\n",
            "https://series.naver.com/movie/detail.nhn?productNo=5156470 수집 중......\n",
            "8\n",
            "https://series.naver.com/movie/detail.nhn?productNo=2686058 수집 중......\n",
            "청불 영화로 데이터 수집하지 않습니다.\n",
            "https://series.naver.com/movie/detail.nhn?productNo=1798013 수집 중......\n",
            "8\n",
            "https://series.naver.com/movie/detail.nhn?productNo=6158864 수집 중......\n",
            "0\n",
            "https://series.naver.com/movie/detail.nhn?productNo=2909332 수집 중......\n",
            "8\n",
            "https://series.naver.com/movie/detail.nhn?productNo=412868 수집 중......\n",
            "9\n",
            "https://series.naver.com/movie/detail.nhn?productNo=6210977 수집 중......\n",
            "9\n",
            "https://series.naver.com/movie/detail.nhn?productNo=3946722 수집 중......\n",
            "청불 영화로 데이터 수집하지 않습니다.\n",
            "https://series.naver.com/movie/detail.nhn?productNo=6225301 수집 중......\n",
            "6\n",
            "https://series.naver.com/movie/detail.nhn?productNo=5482161 수집 중......\n",
            "7\n",
            "https://series.naver.com/movie/detail.nhn?productNo=1849600 수집 중......\n",
            "청불 영화로 데이터 수집하지 않습니다.\n",
            "https://series.naver.com/movie/detail.nhn?productNo=2284790 수집 중......\n",
            "8\n",
            "https://series.naver.com/movie/detail.nhn?productNo=4406203 수집 중......\n",
            "청불 영화로 데이터 수집하지 않습니다.\n",
            "https://series.naver.com/movie/detail.nhn?productNo=3478547 수집 중......\n",
            "9\n",
            "https://series.naver.com/movie/detail.nhn?productNo=5023130 수집 중......\n",
            "청불 영화로 데이터 수집하지 않습니다.\n",
            "https://series.naver.com/movie/detail.nhn?productNo=4581368 수집 중......\n",
            "청불 영화로 데이터 수집하지 않습니다.\n",
            "https://series.naver.com/movie/detail.nhn?productNo=4021296 수집 중......\n",
            "9\n",
            "https://series.naver.com/movie/detail.nhn?productNo=1405968 수집 중......\n",
            "청불 영화로 데이터 수집하지 않습니다.\n",
            "https://series.naver.com/movie/detail.nhn?productNo=2133611 수집 중......\n",
            "8\n",
            "https://series.naver.com/movie/detail.nhn?productNo=4821120 수집 중......\n",
            "8\n",
            "https://series.naver.com/movie/detail.nhn?productNo=2015025 수집 중......\n",
            "9\n",
            "https://series.naver.com/movie/detail.nhn?productNo=1605628 수집 중......\n",
            "8\n",
            "https://series.naver.com/movie/detail.nhn?productNo=2118078 수집 중......\n",
            "4\n",
            "https://series.naver.com/movie/detail.nhn?productNo=3241117 수집 중......\n",
            "9\n",
            "https://series.naver.com/movie/detail.nhn?productNo=6063434 수집 중......\n",
            "7\n",
            "https://series.naver.com/movie/detail.nhn?productNo=6147086 수집 중......\n",
            "8\n",
            "https://series.naver.com/movie/detail.nhn?productNo=5404435 수집 중......\n",
            "9\n",
            "https://series.naver.com/movie/detail.nhn?productNo=1787179 수집 중......\n",
            "9\n",
            "https://series.naver.com/movie/detail.nhn?productNo=3262026 수집 중......\n",
            "9\n",
            "https://series.naver.com/movie/detail.nhn?productNo=3285301 수집 중......\n",
            "7\n",
            "https://series.naver.com/movie/detail.nhn?productNo=442567 수집 중......\n",
            "6\n",
            "https://series.naver.com/movie/detail.nhn?productNo=3239240 수집 중......\n",
            "9\n",
            "https://series.naver.com/movie/detail.nhn?productNo=2956707 수집 중......\n",
            "청불 영화로 데이터 수집하지 않습니다.\n",
            "https://series.naver.com/movie/detail.nhn?productNo=4821119 수집 중......\n",
            "8\n",
            "https://series.naver.com/movie/detail.nhn?productNo=1402314 수집 중......\n",
            "9\n",
            "https://series.naver.com/movie/detail.nhn?productNo=475495 수집 중......\n",
            "8\n",
            "https://series.naver.com/movie/detail.nhn?productNo=412869 수집 중......\n",
            "8\n",
            "https://series.naver.com/movie/detail.nhn?productNo=5991457 수집 중......\n",
            "5\n",
            "수집 완료합니다......\n",
            "77 77 77\n"
          ],
          "name": "stdout"
        }
      ]
    },
    {
      "cell_type": "code",
      "metadata": {
        "id": "8q8kzpozMCSk"
      },
      "source": [
        ""
      ],
      "execution_count": null,
      "outputs": []
    }
  ]
}