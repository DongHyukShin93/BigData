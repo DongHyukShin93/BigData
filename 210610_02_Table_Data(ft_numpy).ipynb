{
  "nbformat": 4,
  "nbformat_minor": 0,
  "metadata": {
    "colab": {
      "name": "210610_02_Table_Data(ft.numpy).ipynb",
      "provenance": [],
      "collapsed_sections": [],
      "authorship_tag": "ABX9TyOteUcA6Kk2tEVJD+/XgzvK",
      "include_colab_link": true
    },
    "kernelspec": {
      "name": "python3",
      "display_name": "Python 3"
    },
    "language_info": {
      "name": "python"
    }
  },
  "cells": [
    {
      "cell_type": "markdown",
      "metadata": {
        "id": "view-in-github",
        "colab_type": "text"
      },
      "source": [
        "<a href=\"https://colab.research.google.com/github/DongHyukShin93/BigData/blob/main/210610_02_Table_Data(ft_numpy).ipynb\" target=\"_parent\"><img src=\"https://colab.research.google.com/assets/colab-badge.svg\" alt=\"Open In Colab\"/></a>"
      ]
    },
    {
      "cell_type": "markdown",
      "metadata": {
        "id": "vcR6cPa7ictB"
      },
      "source": [
        "10개의 양수로 된 간단한 numpy 배열 만들기"
      ]
    },
    {
      "cell_type": "code",
      "metadata": {
        "colab": {
          "base_uri": "https://localhost:8080/"
        },
        "id": "dsTXqaMvhbEq",
        "outputId": "c36550e5-bdb0-41a9-bc7f-49763fecd6ff"
      },
      "source": [
        "import numpy as np\n",
        "\n",
        "numbers = np.array(range(1,11), copy=True) # copy는\n",
        "numbers"
      ],
      "execution_count": null,
      "outputs": [
        {
          "output_type": "execute_result",
          "data": {
            "text/plain": [
              "array([ 1,  2,  3,  4,  5,  6,  7,  8,  9, 10])"
            ]
          },
          "metadata": {
            "tags": []
          },
          "execution_count": 2
        }
      ]
    },
    {
      "cell_type": "markdown",
      "metadata": {
        "id": "gtSzNbnjjsvu"
      },
      "source": [
        "ones() -> 1로 채우기, zero() -> 0으로 채우기, empty() -> 아직 생성되지 않은 엔트리로 구성"
      ]
    },
    {
      "cell_type": "code",
      "metadata": {
        "colab": {
          "base_uri": "https://localhost:8080/"
        },
        "id": "FoRvh3WTjPZw",
        "outputId": "b7620209-cc71-45a4-e1b4-6a744d79f4a9"
      },
      "source": [
        "# 아직 생성되지 않은 엔트리로 구성\n",
        "ones = np.ones([2,4],dtype=np.float64)\n",
        "ones"
      ],
      "execution_count": null,
      "outputs": [
        {
          "output_type": "execute_result",
          "data": {
            "text/plain": [
              "array([[1., 1., 1., 1.],\n",
              "       [1., 1., 1., 1.]])"
            ]
          },
          "metadata": {
            "tags": []
          },
          "execution_count": 6
        }
      ]
    },
    {
      "cell_type": "code",
      "metadata": {
        "colab": {
          "base_uri": "https://localhost:8080/"
        },
        "id": "mgtaJT31k7uC",
        "outputId": "3b5d3401-3535-406c-89de-22626a4a9ca7"
      },
      "source": [
        "# 아직 생성되지 않은 엔트리로 구성\n",
        "zeros = np.zeros([2,4],dtype=np.float64)\n",
        "zeros"
      ],
      "execution_count": null,
      "outputs": [
        {
          "output_type": "execute_result",
          "data": {
            "text/plain": [
              "array([[0., 0., 0., 0.],\n",
              "       [0., 0., 0., 0.]])"
            ]
          },
          "metadata": {
            "tags": []
          },
          "execution_count": 8
        }
      ]
    },
    {
      "cell_type": "code",
      "metadata": {
        "colab": {
          "base_uri": "https://localhost:8080/"
        },
        "id": "kCp4-KtVledy",
        "outputId": "57a6ecff-0e11-4a41-e28e-ec58621d61db"
      },
      "source": [
        "# 아직 생성되지 않은 엔트리로 구성\n",
        "empty = np.empty([2,4], dtype=np.float64)\n",
        "empty"
      ],
      "execution_count": null,
      "outputs": [
        {
          "output_type": "execute_result",
          "data": {
            "text/plain": [
              "array([[0., 0., 0., 0.],\n",
              "       [0., 0., 0., 0.]])"
            ]
          },
          "metadata": {
            "tags": []
          },
          "execution_count": 12
        }
      ]
    },
    {
      "cell_type": "markdown",
      "metadata": {
        "id": "Lr0p__FNmMrq"
      },
      "source": [
        "데이터 확인하기"
      ]
    },
    {
      "cell_type": "code",
      "metadata": {
        "colab": {
          "base_uri": "https://localhost:8080/"
        },
        "id": "Cwr419wBls69",
        "outputId": "5902206e-3007-45a3-ad14-970f9398f18e"
      },
      "source": [
        "ones.shape"
      ],
      "execution_count": null,
      "outputs": [
        {
          "output_type": "execute_result",
          "data": {
            "text/plain": [
              "(2, 4)"
            ]
          },
          "metadata": {
            "tags": []
          },
          "execution_count": 13
        }
      ]
    },
    {
      "cell_type": "code",
      "metadata": {
        "colab": {
          "base_uri": "https://localhost:8080/"
        },
        "id": "TXtpjVZJmVUf",
        "outputId": "05f7d524-cbb5-44ba-b337-414a64472e4e"
      },
      "source": [
        "ones.ndim # dimension(;차원)의 약자"
      ],
      "execution_count": null,
      "outputs": [
        {
          "output_type": "execute_result",
          "data": {
            "text/plain": [
              "2"
            ]
          },
          "metadata": {
            "tags": []
          },
          "execution_count": 15
        }
      ]
    },
    {
      "cell_type": "code",
      "metadata": {
        "colab": {
          "base_uri": "https://localhost:8080/"
        },
        "id": "PemjAqGUmgjW",
        "outputId": "6f755577-961f-461a-846c-d12daaa89ec6"
      },
      "source": [
        "ones.dtype"
      ],
      "execution_count": null,
      "outputs": [
        {
          "output_type": "execute_result",
          "data": {
            "text/plain": [
              "dtype('float64')"
            ]
          },
          "metadata": {
            "tags": []
          },
          "execution_count": 17
        }
      ]
    },
    {
      "cell_type": "code",
      "metadata": {
        "colab": {
          "base_uri": "https://localhost:8080/"
        },
        "id": "juxfiUpMmtC5",
        "outputId": "c1330912-e8b3-4fe5-c1a8-31a089cfb32b"
      },
      "source": [
        "numbers.dtype"
      ],
      "execution_count": null,
      "outputs": [
        {
          "output_type": "execute_result",
          "data": {
            "text/plain": [
              "dtype('int64')"
            ]
          },
          "metadata": {
            "tags": []
          },
          "execution_count": 18
        }
      ]
    },
    {
      "cell_type": "markdown",
      "metadata": {
        "id": "ZOWGhzNNm7CX"
      },
      "source": [
        "arange(start, stop, step, dtype=None) 일정 간격으로 배열 생성하는 함수\n"
      ]
    },
    {
      "cell_type": "code",
      "metadata": {
        "colab": {
          "base_uri": "https://localhost:8080/"
        },
        "id": "fuVLubzUmvks",
        "outputId": "944d795d-9d34-4baa-8c10-523945604706"
      },
      "source": [
        "np_numbers = np.arange(2,5,0.25)\n",
        "np_numbers"
      ],
      "execution_count": null,
      "outputs": [
        {
          "output_type": "execute_result",
          "data": {
            "text/plain": [
              "array([2.  , 2.25, 2.5 , 2.75, 3.  , 3.25, 3.5 , 3.75, 4.  , 4.25, 4.5 ,\n",
              "       4.75])"
            ]
          },
          "metadata": {
            "tags": []
          },
          "execution_count": 19
        }
      ]
    },
    {
      "cell_type": "markdown",
      "metadata": {
        "id": "b14GL_1HnqKx"
      },
      "source": [
        "astype(dtype, casting=\"unsafe\", copy=True) 아이템의 타입 변경해 주는 함수"
      ]
    },
    {
      "cell_type": "code",
      "metadata": {
        "colab": {
          "base_uri": "https://localhost:8080/"
        },
        "id": "iLSmu2wInh5f",
        "outputId": "c1218389-d0af-4c38-dfa7-f0e03b6c200c"
      },
      "source": [
        "np_numbers = np_numbers.astype(np.int)\n",
        "np_numbers.dtype"
      ],
      "execution_count": null,
      "outputs": [
        {
          "output_type": "execute_result",
          "data": {
            "text/plain": [
              "dtype('int64')"
            ]
          },
          "metadata": {
            "tags": []
          },
          "execution_count": 21
        }
      ]
    },
    {
      "cell_type": "markdown",
      "metadata": {
        "id": "b5NxY9ImorEm"
      },
      "source": [
        "reshape(d0, d1, ...) 대상 배열의 모양을 바꿔주는 함수"
      ]
    },
    {
      "cell_type": "code",
      "metadata": {
        "colab": {
          "base_uri": "https://localhost:8080/"
        },
        "id": "s_eXFSHeoIvj",
        "outputId": "8bc5bb79-12d8-4d11-bde3-15f4474c3dc0"
      },
      "source": [
        "# 몇 가지 S&P 주식 기호들\n",
        "sap = np.array([\"MMM\", \"ABT\", \"ABBV\", \"ACN\", \"ACE\", \"ATVI\", \"ADBE\", \"ADT\"])\n",
        "sap #U4 는 4글자 유니코드"
      ],
      "execution_count": null,
      "outputs": [
        {
          "output_type": "execute_result",
          "data": {
            "text/plain": [
              "array(['MMM', 'ABT', 'ABBV', 'ACN', 'ACE', 'ATVI', 'ADBE', 'ADT'],\n",
              "      dtype='<U4')"
            ]
          },
          "metadata": {
            "tags": []
          },
          "execution_count": 23
        }
      ]
    },
    {
      "cell_type": "code",
      "metadata": {
        "colab": {
          "base_uri": "https://localhost:8080/"
        },
        "id": "ooR1UrAMoyrs",
        "outputId": "9c865cf0-5493-44b2-aae9-8a30a74551aa"
      },
      "source": [
        "sap.shape"
      ],
      "execution_count": null,
      "outputs": [
        {
          "output_type": "execute_result",
          "data": {
            "text/plain": [
              "(8,)"
            ]
          },
          "metadata": {
            "tags": []
          },
          "execution_count": 24
        }
      ]
    },
    {
      "cell_type": "code",
      "metadata": {
        "colab": {
          "base_uri": "https://localhost:8080/"
        },
        "id": "FtG-Gz9Ro8AH",
        "outputId": "7ed4cd58-1143-4c3d-b8b4-9634af2ee053"
      },
      "source": [
        "sap2d = sap.reshape(2,4)\n",
        "sap2d"
      ],
      "execution_count": null,
      "outputs": [
        {
          "output_type": "execute_result",
          "data": {
            "text/plain": [
              "array([['MMM', 'ABT', 'ABBV', 'ACN'],\n",
              "       ['ACE', 'ATVI', 'ADBE', 'ADT']], dtype='<U4')"
            ]
          },
          "metadata": {
            "tags": []
          },
          "execution_count": 26
        }
      ]
    },
    {
      "cell_type": "code",
      "metadata": {
        "colab": {
          "base_uri": "https://localhost:8080/"
        },
        "id": "rdwDMGACpRWh",
        "outputId": "cf70df8c-e51d-4a17-8289-c06f9da4f639"
      },
      "source": [
        "# 기존 배열과 새로운 배열의 아이템의 개수는 항상 동일 해야 함\n",
        "# numpy 보존의 법칙 성립\n",
        "\n",
        "sap3d = sap.reshape(2,2,2) # 3차원으로 변경\n",
        "sap3d"
      ],
      "execution_count": null,
      "outputs": [
        {
          "output_type": "execute_result",
          "data": {
            "text/plain": [
              "array([[['MMM', 'ABT'],\n",
              "        ['ABBV', 'ACN']],\n",
              "\n",
              "       [['ACE', 'ATVI'],\n",
              "        ['ADBE', 'ADT']]], dtype='<U4')"
            ]
          },
          "metadata": {
            "tags": []
          },
          "execution_count": 27
        }
      ]
    },
    {
      "cell_type": "code",
      "metadata": {
        "colab": {
          "base_uri": "https://localhost:8080/"
        },
        "id": "W-Ys4auCprkr",
        "outputId": "a4f4cdb5-5ee3-43fa-dec9-4fdffe47bb1d"
      },
      "source": [
        "sap3d[0] # 1차원"
      ],
      "execution_count": null,
      "outputs": [
        {
          "output_type": "execute_result",
          "data": {
            "text/plain": [
              "array([['MMM', 'ABT'],\n",
              "       ['ABBV', 'ACN']], dtype='<U4')"
            ]
          },
          "metadata": {
            "tags": []
          },
          "execution_count": 28
        }
      ]
    },
    {
      "cell_type": "code",
      "metadata": {
        "colab": {
          "base_uri": "https://localhost:8080/"
        },
        "id": "zGLfV9f9p4rY",
        "outputId": "178bf4c1-849d-4c46-901d-8ca4c34752e3"
      },
      "source": [
        "sap3d[1] # 2차원"
      ],
      "execution_count": null,
      "outputs": [
        {
          "output_type": "execute_result",
          "data": {
            "text/plain": [
              "array([['ACE', 'ATVI'],\n",
              "       ['ADBE', 'ADT']], dtype='<U4')"
            ]
          },
          "metadata": {
            "tags": []
          },
          "execution_count": 29
        }
      ]
    },
    {
      "cell_type": "code",
      "metadata": {
        "id": "d_CRZk84p9jJ"
      },
      "source": [
        "sap3d[2] # 3차원 -> 없어서 오류 발생"
      ],
      "execution_count": null,
      "outputs": []
    },
    {
      "cell_type": "markdown",
      "metadata": {
        "id": "gvUS2EBRrJce"
      },
      "source": [
        "데이터 클리닝(data cleaning)을 위해 사용 되는 boolean indexing"
      ]
    },
    {
      "cell_type": "code",
      "metadata": {
        "colab": {
          "base_uri": "https://localhost:8080/"
        },
        "id": "PapPI2drqEMh",
        "outputId": "b96d31ed-a80d-4335-e1ad-9b435f0ee58a"
      },
      "source": [
        "# 절대 음수 값이 와서는 안되는 데이터셋\n",
        "dirty = np.array([9, 4, 1, -0.01, -0.02, -0.001])\n",
        "whos_dirty = dirty < 0 # 왜 음수값이 True가 나오게 만들까 -> boolean indexing\n",
        "whos_dirty"
      ],
      "execution_count": null,
      "outputs": [
        {
          "output_type": "execute_result",
          "data": {
            "text/plain": [
              "array([False, False, False,  True,  True,  True])"
            ]
          },
          "metadata": {
            "tags": []
          },
          "execution_count": 34
        }
      ]
    },
    {
      "cell_type": "code",
      "metadata": {
        "colab": {
          "base_uri": "https://localhost:8080/"
        },
        "id": "6XeLS3kFsH0T",
        "outputId": "6c83b01a-c0a1-4899-a936-84ab943da9c8"
      },
      "source": [
        "dirty[whos_dirty] = 0 # 모든 음수값을 0으로 바꿈\n",
        "dirty"
      ],
      "execution_count": null,
      "outputs": [
        {
          "output_type": "execute_result",
          "data": {
            "text/plain": [
              "array([9., 4., 1., 0., 0., 0.])"
            ]
          },
          "metadata": {
            "tags": []
          },
          "execution_count": 35
        }
      ]
    },
    {
      "cell_type": "markdown",
      "metadata": {
        "id": "kQgt9V68xit-"
      },
      "source": [
        "논리 연산자 | or, & and, - not 결합하여 boolean indexing 사용"
      ]
    },
    {
      "cell_type": "code",
      "metadata": {
        "colab": {
          "base_uri": "https://localhost:8080/"
        },
        "id": "F_oC3EoLs0lA",
        "outputId": "d525a83c-ccc6-4a55-cbe5-17c584db409f"
      },
      "source": [
        "linear = np.arange(-1, 1.1, 0.2)\n",
        "linear"
      ],
      "execution_count": null,
      "outputs": [
        {
          "output_type": "execute_result",
          "data": {
            "text/plain": [
              "array([-1.00000000e+00, -8.00000000e-01, -6.00000000e-01, -4.00000000e-01,\n",
              "       -2.00000000e-01, -2.22044605e-16,  2.00000000e-01,  4.00000000e-01,\n",
              "        6.00000000e-01,  8.00000000e-01,  1.00000000e+00])"
            ]
          },
          "metadata": {
            "tags": []
          },
          "execution_count": 36
        }
      ]
    },
    {
      "cell_type": "code",
      "metadata": {
        "colab": {
          "base_uri": "https://localhost:8080/"
        },
        "id": "wsjYGoH-xv8Q",
        "outputId": "6357e675-ddf1-4214-818f-8cef2f87884b"
      },
      "source": [
        "# -0.5 ~ 0.5 사이의 값만 -> 0으로 변경하고 싶음\n",
        "whos_linear = (linear <= 0.5) & (linear >= -0.5)\n",
        "whos_linear"
      ],
      "execution_count": null,
      "outputs": [
        {
          "output_type": "execute_result",
          "data": {
            "text/plain": [
              "array([False, False, False,  True,  True,  True,  True,  True, False,\n",
              "       False, False])"
            ]
          },
          "metadata": {
            "tags": []
          },
          "execution_count": 37
        }
      ]
    },
    {
      "cell_type": "code",
      "metadata": {
        "colab": {
          "base_uri": "https://localhost:8080/"
        },
        "id": "v5oxoklGyp1w",
        "outputId": "06fb9c95-39a2-4ad6-aa4e-886f1811d68e"
      },
      "source": [
        "linear[whos_linear] = 0\n",
        "linear"
      ],
      "execution_count": null,
      "outputs": [
        {
          "output_type": "execute_result",
          "data": {
            "text/plain": [
              "array([-1. , -0.8, -0.6,  0. ,  0. ,  0. ,  0. ,  0. ,  0.6,  0.8,  1. ])"
            ]
          },
          "metadata": {
            "tags": []
          },
          "execution_count": 40
        }
      ]
    },
    {
      "cell_type": "markdown",
      "metadata": {
        "id": "5a7FzO2NzCJ2"
      },
      "source": [
        "스마트 인덱싱"
      ]
    },
    {
      "cell_type": "code",
      "metadata": {
        "colab": {
          "base_uri": "https://localhost:8080/"
        },
        "id": "tZ5nmcndzZyO",
        "outputId": "ab4b7a6e-e357-4f1c-f04a-bd08b70c33c3"
      },
      "source": [
        "sap"
      ],
      "execution_count": null,
      "outputs": [
        {
          "output_type": "execute_result",
          "data": {
            "text/plain": [
              "array(['MMM', 'ABT', 'ABBV', 'ACN', 'ACE', 'ATVI', 'ADBE', 'ADT'],\n",
              "      dtype='<U4')"
            ]
          },
          "metadata": {
            "tags": []
          },
          "execution_count": 43
        }
      ]
    },
    {
      "cell_type": "code",
      "metadata": {
        "colab": {
          "base_uri": "https://localhost:8080/"
        },
        "id": "TE7e5rwOy61O",
        "outputId": "66662600-8c3e-4a17-a9c2-6a7af4060b11"
      },
      "source": [
        "# sap 리스트에서 두번째, 세번째, 마지막 주식 기호를 추출\n",
        "sap[[1,2,-1]]"
      ],
      "execution_count": null,
      "outputs": [
        {
          "output_type": "execute_result",
          "data": {
            "text/plain": [
              "array(['ABT', 'ABBV', 'ADT'], dtype='<U4')"
            ]
          },
          "metadata": {
            "tags": []
          },
          "execution_count": 41
        }
      ]
    },
    {
      "cell_type": "code",
      "metadata": {
        "colab": {
          "base_uri": "https://localhost:8080/"
        },
        "id": "H048wU8OzYn7",
        "outputId": "8071b844-28d2-4eae-dc95-e31d25e1b2a2"
      },
      "source": [
        "sap2d"
      ],
      "execution_count": null,
      "outputs": [
        {
          "output_type": "execute_result",
          "data": {
            "text/plain": [
              "array([['MMM', 'ABT', 'ABBV', 'ACN'],\n",
              "       ['ACE', 'ATVI', 'ADBE', 'ADT']], dtype='<U4')"
            ]
          },
          "metadata": {
            "tags": []
          },
          "execution_count": 44
        }
      ]
    },
    {
      "cell_type": "code",
      "metadata": {
        "colab": {
          "base_uri": "https://localhost:8080/"
        },
        "id": "NRkwjBxwzjQh",
        "outputId": "12d0fe76-cefb-464a-aaf8-0c558e498516"
      },
      "source": [
        "sap2d[:,[1]] # 대괄호로 묶어줬기에 2차원 배열 출력"
      ],
      "execution_count": null,
      "outputs": [
        {
          "output_type": "execute_result",
          "data": {
            "text/plain": [
              "array([['ABT'],\n",
              "       ['ATVI']], dtype='<U4')"
            ]
          },
          "metadata": {
            "tags": []
          },
          "execution_count": 47
        }
      ]
    },
    {
      "cell_type": "code",
      "metadata": {
        "colab": {
          "base_uri": "https://localhost:8080/"
        },
        "id": "c3ka2o-dzq7L",
        "outputId": "c539a8a1-48e7-4fc8-ad12-2836275f8c9e"
      },
      "source": [
        "sap2d[:,1] # 1차원 배열 출력"
      ],
      "execution_count": null,
      "outputs": [
        {
          "output_type": "execute_result",
          "data": {
            "text/plain": [
              "array(['ABT', 'ATVI'], dtype='<U4')"
            ]
          },
          "metadata": {
            "tags": []
          },
          "execution_count": 48
        }
      ]
    },
    {
      "cell_type": "markdown",
      "metadata": {
        "id": "lDqqlJDM0AJP"
      },
      "source": [
        "차원만 같다면 numpy에서는 사칙연산 가능 (그낭 더하기) -> 브로드캐스팅"
      ]
    },
    {
      "cell_type": "code",
      "metadata": {
        "colab": {
          "base_uri": "https://localhost:8080/"
        },
        "id": "LhPcT_OjzzeB",
        "outputId": "aad2c065-2635-40e5-96d5-dc9323092e5f"
      },
      "source": [
        "a = np.arange(4)\n",
        "b = np.arange(1,5)\n",
        "\n",
        "print(a)\n",
        "print(b)"
      ],
      "execution_count": null,
      "outputs": [
        {
          "output_type": "stream",
          "text": [
            "[0 1 2 3]\n",
            "[1 2 3 4]\n"
          ],
          "name": "stdout"
        }
      ]
    },
    {
      "cell_type": "code",
      "metadata": {
        "colab": {
          "base_uri": "https://localhost:8080/"
        },
        "id": "ndCl19bz0cLw",
        "outputId": "e6ac049c-d678-4004-e404-0f78897042b4"
      },
      "source": [
        "a+b"
      ],
      "execution_count": null,
      "outputs": [
        {
          "output_type": "execute_result",
          "data": {
            "text/plain": [
              "array([1, 3, 5, 7])"
            ]
          },
          "metadata": {
            "tags": []
          },
          "execution_count": 50
        }
      ]
    },
    {
      "cell_type": "code",
      "metadata": {
        "colab": {
          "base_uri": "https://localhost:8080/"
        },
        "id": "iYqnAU9o0daS",
        "outputId": "1717ca8e-62ac-4aea-b645-830604f7b59b"
      },
      "source": [
        "a * 5"
      ],
      "execution_count": null,
      "outputs": [
        {
          "output_type": "execute_result",
          "data": {
            "text/plain": [
              "array([ 0,  5, 10, 15])"
            ]
          },
          "metadata": {
            "tags": []
          },
          "execution_count": 51
        }
      ]
    },
    {
      "cell_type": "code",
      "metadata": {
        "colab": {
          "base_uri": "https://localhost:8080/"
        },
        "id": "XrDFgB7L0oss",
        "outputId": "80da9337-274d-4bb3-edce-16683e40260b"
      },
      "source": [
        "noise = np.eye(4) + 0.01 * np.random.random([4,4])\n",
        "noise"
      ],
      "execution_count": null,
      "outputs": [
        {
          "output_type": "execute_result",
          "data": {
            "text/plain": [
              "array([[1.00421555e+00, 1.64211896e-03, 2.17582420e-03, 4.33744418e-03],\n",
              "       [8.63641245e-03, 1.00142713e+00, 1.26830351e-03, 6.40803266e-03],\n",
              "       [9.08834383e-03, 8.61562059e-03, 1.00293795e+00, 8.05213811e-03],\n",
              "       [6.24896965e-05, 8.08831668e-03, 7.08116928e-03, 1.00761668e+00]])"
            ]
          },
          "metadata": {
            "tags": []
          },
          "execution_count": 59
        }
      ]
    }
  ]
}