{
  "nbformat": 4,
  "nbformat_minor": 0,
  "metadata": {
    "colab": {
      "name": "210623_01_2019년 지역별 교통사고 데이터 분석 및 시각화.ipynb",
      "provenance": [],
      "collapsed_sections": []
    },
    "kernelspec": {
      "name": "python3",
      "display_name": "Python 3"
    },
    "language_info": {
      "name": "python"
    }
  },
  "cells": [
    {
      "cell_type": "markdown",
      "metadata": {
        "id": "UCWyBdgefEuE"
      },
      "source": [
        "라이브러리 import"
      ]
    },
    {
      "cell_type": "code",
      "metadata": {
        "id": "ICGlBbfZXrQd"
      },
      "source": [
        "import plotly.express as px\n",
        "\n",
        "import pandas as pd"
      ],
      "execution_count": null,
      "outputs": []
    },
    {
      "cell_type": "markdown",
      "metadata": {
        "id": "tmJGPi-JfRMc"
      },
      "source": [
        "데이터 준비하기"
      ]
    },
    {
      "cell_type": "code",
      "metadata": {
        "id": "sP51-QrzfQQE"
      },
      "source": [
        "df = pd.read_csv('/content/도로교통공단_교통사고 정보.csv', encoding='euc-kr')\n",
        "df.head(3)"
      ],
      "execution_count": null,
      "outputs": []
    },
    {
      "cell_type": "code",
      "metadata": {
        "id": "NCEFkgU_ffBG"
      },
      "source": [
        "df.info()"
      ],
      "execution_count": null,
      "outputs": []
    },
    {
      "cell_type": "markdown",
      "metadata": {
        "id": "iQbhvVCyhXxr"
      },
      "source": [
        "교통사고 시간 전처리"
      ]
    },
    {
      "cell_type": "code",
      "metadata": {
        "id": "gx0OKeliflh9"
      },
      "source": [
        "# substr 문자열 자르기를 위해 데이터타입 변경\n",
        "df = df.astype({'발생년월일시' : 'string'})"
      ],
      "execution_count": null,
      "outputs": []
    },
    {
      "cell_type": "code",
      "metadata": {
        "id": "xbn5csGhhof1"
      },
      "source": [
        "df.info()"
      ],
      "execution_count": null,
      "outputs": []
    },
    {
      "cell_type": "code",
      "metadata": {
        "id": "hkfZyvvMhwDZ"
      },
      "source": [
        "# 2019010100 -> 2019/01/01 00시 날짜(아직 문자열임)와 시간으로 분리 후 '발생시간'이라는 column 생성\n",
        "df['발생시간'] = df['발생년월일시'].str[8:]"
      ],
      "execution_count": null,
      "outputs": []
    },
    {
      "cell_type": "code",
      "metadata": {
        "id": "1NlCKTZviHF9"
      },
      "source": [
        "df.info()"
      ],
      "execution_count": null,
      "outputs": []
    },
    {
      "cell_type": "code",
      "metadata": {
        "id": "52K0qY9qiIEs"
      },
      "source": [
        "# 발생시간 column의 데이터 타입을 문자형에서 숫자형으로 변환\n",
        "df = df.astype({'발생시간' : 'int64'})"
      ],
      "execution_count": null,
      "outputs": []
    },
    {
      "cell_type": "code",
      "metadata": {
        "id": "O3FgGGLqiibM"
      },
      "source": [
        "df.info()"
      ],
      "execution_count": null,
      "outputs": []
    },
    {
      "cell_type": "code",
      "metadata": {
        "id": "JSQi3a70ijfy"
      },
      "source": [
        "# 2019010100 -> 20190101 추출 -> 2019-01-01 (날짜형태 YYYY-MM-DD 형태로 변경)\n",
        "df['발생년월일시'] = pd.to_datetime(df['발생년월일시'].str[:8],\n",
        "                              format='%Y-%m-%d', errors='raise') # format 지정할 때 Y는 대문자 m과 d는 소문자로 지정해야 한다"
      ],
      "execution_count": null,
      "outputs": []
    },
    {
      "cell_type": "code",
      "metadata": {
        "id": "yk8vt2n0jgM2"
      },
      "source": [
        "df.info()"
      ],
      "execution_count": null,
      "outputs": []
    },
    {
      "cell_type": "markdown",
      "metadata": {
        "id": "xoO1mJrrniS3"
      },
      "source": [
        "2019년 지역별 교통사고 데이터 시각화"
      ]
    },
    {
      "cell_type": "code",
      "metadata": {
        "id": "V6kkqU5jjyNa"
      },
      "source": [
        "fig = px.scatter(df, x='발생년월일시', y='발생시간',\n",
        "                 color='발생지시도',\n",
        "                 hover_data=['발생시간']) # hover_data 는 scatter 차트에 커서를 댔을때 어떤 정보를 나타나게 할지 정하는 속성\n",
        "fig.show()"
      ],
      "execution_count": null,
      "outputs": []
    },
    {
      "cell_type": "code",
      "metadata": {
        "id": "tFWsaVfVoOLH"
      },
      "source": [
        "fig = px.scatter(df, x='발생년월일시', y='발생시간',\n",
        "                 color='발생지시도',\n",
        "                 size='사망자수',\n",
        "                 hover_data=['발생시간']) # hover_data 는 scatter 차트에 커서를 댔을때 어떤 정보를 나타나게 할지 정하는 속성\n",
        "fig.show()"
      ],
      "execution_count": null,
      "outputs": []
    },
    {
      "cell_type": "markdown",
      "metadata": {
        "id": "mBICT23ppL3H"
      },
      "source": [
        "2019년 시간대별 교통사고 사망자 현황"
      ]
    },
    {
      "cell_type": "code",
      "metadata": {
        "id": "kG-YaDGbovPO"
      },
      "source": [
        "fig = px.bar(df, x='사망자수', y='발생시간', orientation='h')\n",
        "fig.show()"
      ],
      "execution_count": null,
      "outputs": []
    },
    {
      "cell_type": "markdown",
      "metadata": {
        "id": "H8N0R4mTp3um"
      },
      "source": [
        "시도 별 교통사고 사망자 현황"
      ]
    },
    {
      "cell_type": "code",
      "metadata": {
        "id": "jdvUUiGgpfm6"
      },
      "source": [
        "fig = px.bar(df, x='사망자수', y='발생지시도', orientation='h', title='시도별 교통사고 사망자 현황')\n",
        "fig.show()"
      ],
      "execution_count": null,
      "outputs": []
    },
    {
      "cell_type": "markdown",
      "metadata": {
        "id": "Uf1CLQO0qdeA"
      },
      "source": [
        "대구광역시의 교통사고 발생 데이터 분석"
      ]
    },
    {
      "cell_type": "markdown",
      "metadata": {
        "id": "J6yt5qN4qozf"
      },
      "source": [
        "1. 대구광역시의 데이터 준비하기"
      ]
    },
    {
      "cell_type": "code",
      "metadata": {
        "id": "IWW0vokMqDZq"
      },
      "source": [
        "df1 = df[df['발생지시도'] == '대구']\n",
        "df1.info()"
      ],
      "execution_count": null,
      "outputs": []
    },
    {
      "cell_type": "markdown",
      "metadata": {
        "id": "7buA9fFKrCnL"
      },
      "source": [
        "2. 교통사고 발생시간 별 / 구 별 사망자 현황"
      ]
    },
    {
      "cell_type": "code",
      "metadata": {
        "id": "vbpk-vx6rANC"
      },
      "source": [
        "# 강조하고 싶은 부분을 x축에 놔야한다\n",
        "fig = px.bar(df1, x='발생시간', y='사망자수', color='발생지시군구', title='대구광역시 교통사고 발생시간 별 / 구 별 사망자 현황')\n",
        "fig.show()"
      ],
      "execution_count": null,
      "outputs": []
    },
    {
      "cell_type": "markdown",
      "metadata": {
        "id": "eaGbabrjsPu6"
      },
      "source": [
        "2. -1. 발생시간 별 사망자 근황"
      ]
    },
    {
      "cell_type": "code",
      "metadata": {
        "id": "pcdzQkqMriUD"
      },
      "source": [
        "fig = px.bar(df1, x='사망자수', y='발생시간', color='발생지시군구', orientation='h', title='대구광역시 교통사고 발생시간 별 / 구 별 사망자 현황')\n",
        "fig.show()"
      ],
      "execution_count": null,
      "outputs": []
    },
    {
      "cell_type": "markdown",
      "metadata": {
        "id": "gBTqnAC4t13y"
      },
      "source": [
        "지도를 활용하여 교통하고 현황 분석"
      ]
    },
    {
      "cell_type": "code",
      "metadata": {
        "id": "SOsGc4NHsiUy"
      },
      "source": [
        "import folium # 지도 라이브러리 import\n",
        "\n",
        "map = folium.Map(location=[36.351,127.386]) # 목표로 하는 지역의 시청(의 좌표가) 중심이 된다"
      ],
      "execution_count": null,
      "outputs": []
    },
    {
      "cell_type": "code",
      "metadata": {
        "id": "Sx6U_LZiupkt"
      },
      "source": [
        "map"
      ],
      "execution_count": null,
      "outputs": []
    },
    {
      "cell_type": "markdown",
      "metadata": {
        "id": "UUCrkCL6vKnm"
      },
      "source": [
        "지도에 필요한 정보만 담기 -> 대전의 교통사고 현황을 지도에 표츌"
      ]
    },
    {
      "cell_type": "code",
      "metadata": {
        "id": "I2bsjMiFuz-p"
      },
      "source": [
        "df_map = df[df['발생지시도']=='대전']\n",
        "df_map.info()"
      ],
      "execution_count": null,
      "outputs": []
    },
    {
      "cell_type": "markdown",
      "metadata": {
        "id": "DljpCEA5v1dl"
      },
      "source": [
        "사망자수, 부상자수, 중상자수, 경상자수 전처리 -> 지도에 원을 그리기 위해서"
      ]
    },
    {
      "cell_type": "code",
      "metadata": {
        "id": "iNNUlV8lv006"
      },
      "source": [
        "df_map = df_map.astype({'사망자수':'float64'})\n",
        "df_map = df_map.astype({'부상자수':'float64'})\n",
        "df_map = df_map.astype({'경상자수':'float64'})\n",
        "df_map = df_map.astype({'중상자수':'float64'})"
      ],
      "execution_count": null,
      "outputs": []
    },
    {
      "cell_type": "code",
      "metadata": {
        "id": "be7c75UrvaSy"
      },
      "source": [
        "df_map.info()"
      ],
      "execution_count": null,
      "outputs": []
    },
    {
      "cell_type": "markdown",
      "metadata": {
        "id": "BOBv5nJDwe1u"
      },
      "source": [
        "사망자 수, 경상자 수에 따른 CircleMarker 지도에 표출하기"
      ]
    },
    {
      "cell_type": "code",
      "metadata": {
        "id": "qK-7Jek0wWRI"
      },
      "source": [
        "for n in df_map.index :\n",
        "  cnt = df_map['사망자수'][n] + df_map['경상자수'][n] # 사망자수 + 경상자수 -> CircleMarker의 사이즈\n",
        "  folium.CircleMarker([df_map['위도'][n], df_map['경도'][n]],\n",
        "                      radius = cnt * 10, popup = df_map['사고유형'][n],\n",
        "                      color='#3186cc', fill_color = '#3186cc'\n",
        "                      ).add_to(map) # radius 원의 반지름 크기\n",
        "map.save('대전교통사고 현황.html')"
      ],
      "execution_count": null,
      "outputs": []
    },
    {
      "cell_type": "markdown",
      "metadata": {
        "id": "61YJTOtf2CdO"
      },
      "source": [
        "1) 선택한 지역의 교통사고 발생 시간 별/구 별 사망자 현황"
      ]
    },
    {
      "cell_type": "code",
      "metadata": {
        "id": "xAlhiMsaUok5"
      },
      "source": [
        "df2 = df[df['발생지시도']=='경기']"
      ],
      "execution_count": null,
      "outputs": []
    },
    {
      "cell_type": "code",
      "metadata": {
        "id": "4hOv1mVPUjyV"
      },
      "source": [
        "fig2 = px.bar(df2, x='사망자수', y='발생지시군구', orientation='h', title='경기도 교통사고 시군구 별 사망자 현황')\n",
        "fig2.show()"
      ],
      "execution_count": null,
      "outputs": []
    },
    {
      "cell_type": "code",
      "metadata": {
        "id": "TeYky0Q4ydJS"
      },
      "source": [
        "my_df = df[df['발생지시군구']=='용인시']"
      ],
      "execution_count": null,
      "outputs": []
    },
    {
      "cell_type": "code",
      "metadata": {
        "colab": {
          "base_uri": "https://localhost:8080/",
          "height": 542
        },
        "id": "rdn7ojVp2f8_",
        "outputId": "7244f7e6-6260-4c27-aa17-a57c3712bb25"
      },
      "source": [
        "fig = px.bar(my_df, x='사망자수', y='발생시간', color='발생년월일시', orientation='h', title='용인시 교통사고 발생시간 별 사망자 현황')\n",
        "fig.show()"
      ],
      "execution_count": null,
      "outputs": [
        {
          "output_type": "display_data",
          "data": {
            "text/html": [
              "<html>\n",
              "<head><meta charset=\"utf-8\" /></head>\n",
              "<body>\n",
              "    <div>\n",
              "            <script src=\"https://cdnjs.cloudflare.com/ajax/libs/mathjax/2.7.5/MathJax.js?config=TeX-AMS-MML_SVG\"></script><script type=\"text/javascript\">if (window.MathJax) {MathJax.Hub.Config({SVG: {font: \"STIX-Web\"}});}</script>\n",
              "                <script type=\"text/javascript\">window.PlotlyConfig = {MathJaxConfig: 'local'};</script>\n",
              "        <script src=\"https://cdn.plot.ly/plotly-latest.min.js\"></script>    \n",
              "            <div id=\"f6a2180e-20f0-44ee-8eff-485c97da5f42\" class=\"plotly-graph-div\" style=\"height:525px; width:100%;\"></div>\n",
              "            <script type=\"text/javascript\">\n",
              "                \n",
              "                    window.PLOTLYENV=window.PLOTLYENV || {};\n",
              "                    \n",
              "                if (document.getElementById(\"f6a2180e-20f0-44ee-8eff-485c97da5f42\")) {\n",
              "                    Plotly.newPlot(\n",
              "                        'f6a2180e-20f0-44ee-8eff-485c97da5f42',\n",
              "                        [{\"alignmentgroup\": \"True\", \"hoverlabel\": {\"namelength\": 0}, \"hovertemplate\": \"\\ubc1c\\uc0dd\\ub144\\uc6d4\\uc77c\\uc2dc=2019-01-10 00:00:00<br>\\uc0ac\\ub9dd\\uc790\\uc218=%{x}<br>\\ubc1c\\uc0dd\\uc2dc\\uac04=%{y}\", \"legendgroup\": \"\\ubc1c\\uc0dd\\ub144\\uc6d4\\uc77c\\uc2dc=2019-01-10 00:00:00\", \"marker\": {\"color\": \"#636efa\"}, \"name\": \"\\ubc1c\\uc0dd\\ub144\\uc6d4\\uc77c\\uc2dc=2019-01-10 00:00:00\", \"offsetgroup\": \"\\ubc1c\\uc0dd\\ub144\\uc6d4\\uc77c\\uc2dc=2019-01-10 00:00:00\", \"orientation\": \"h\", \"showlegend\": true, \"textposition\": \"auto\", \"type\": \"bar\", \"x\": [1], \"xaxis\": \"x\", \"y\": [1], \"yaxis\": \"y\"}, {\"alignmentgroup\": \"True\", \"hoverlabel\": {\"namelength\": 0}, \"hovertemplate\": \"\\ubc1c\\uc0dd\\ub144\\uc6d4\\uc77c\\uc2dc=2019-02-12 00:00:00<br>\\uc0ac\\ub9dd\\uc790\\uc218=%{x}<br>\\ubc1c\\uc0dd\\uc2dc\\uac04=%{y}\", \"legendgroup\": \"\\ubc1c\\uc0dd\\ub144\\uc6d4\\uc77c\\uc2dc=2019-02-12 00:00:00\", \"marker\": {\"color\": \"#EF553B\"}, \"name\": \"\\ubc1c\\uc0dd\\ub144\\uc6d4\\uc77c\\uc2dc=2019-02-12 00:00:00\", \"offsetgroup\": \"\\ubc1c\\uc0dd\\ub144\\uc6d4\\uc77c\\uc2dc=2019-02-12 00:00:00\", \"orientation\": \"h\", \"showlegend\": true, \"textposition\": \"auto\", \"type\": \"bar\", \"x\": [1], \"xaxis\": \"x\", \"y\": [5], \"yaxis\": \"y\"}, {\"alignmentgroup\": \"True\", \"hoverlabel\": {\"namelength\": 0}, \"hovertemplate\": \"\\ubc1c\\uc0dd\\ub144\\uc6d4\\uc77c\\uc2dc=2019-02-20 00:00:00<br>\\uc0ac\\ub9dd\\uc790\\uc218=%{x}<br>\\ubc1c\\uc0dd\\uc2dc\\uac04=%{y}\", \"legendgroup\": \"\\ubc1c\\uc0dd\\ub144\\uc6d4\\uc77c\\uc2dc=2019-02-20 00:00:00\", \"marker\": {\"color\": \"#00cc96\"}, \"name\": \"\\ubc1c\\uc0dd\\ub144\\uc6d4\\uc77c\\uc2dc=2019-02-20 00:00:00\", \"offsetgroup\": \"\\ubc1c\\uc0dd\\ub144\\uc6d4\\uc77c\\uc2dc=2019-02-20 00:00:00\", \"orientation\": \"h\", \"showlegend\": true, \"textposition\": \"auto\", \"type\": \"bar\", \"x\": [1], \"xaxis\": \"x\", \"y\": [18], \"yaxis\": \"y\"}, {\"alignmentgroup\": \"True\", \"hoverlabel\": {\"namelength\": 0}, \"hovertemplate\": \"\\ubc1c\\uc0dd\\ub144\\uc6d4\\uc77c\\uc2dc=2019-03-16 00:00:00<br>\\uc0ac\\ub9dd\\uc790\\uc218=%{x}<br>\\ubc1c\\uc0dd\\uc2dc\\uac04=%{y}\", \"legendgroup\": \"\\ubc1c\\uc0dd\\ub144\\uc6d4\\uc77c\\uc2dc=2019-03-16 00:00:00\", \"marker\": {\"color\": \"#ab63fa\"}, \"name\": \"\\ubc1c\\uc0dd\\ub144\\uc6d4\\uc77c\\uc2dc=2019-03-16 00:00:00\", \"offsetgroup\": \"\\ubc1c\\uc0dd\\ub144\\uc6d4\\uc77c\\uc2dc=2019-03-16 00:00:00\", \"orientation\": \"h\", \"showlegend\": true, \"textposition\": \"auto\", \"type\": \"bar\", \"x\": [1], \"xaxis\": \"x\", \"y\": [15], \"yaxis\": \"y\"}, {\"alignmentgroup\": \"True\", \"hoverlabel\": {\"namelength\": 0}, \"hovertemplate\": \"\\ubc1c\\uc0dd\\ub144\\uc6d4\\uc77c\\uc2dc=2019-03-23 00:00:00<br>\\uc0ac\\ub9dd\\uc790\\uc218=%{x}<br>\\ubc1c\\uc0dd\\uc2dc\\uac04=%{y}\", \"legendgroup\": \"\\ubc1c\\uc0dd\\ub144\\uc6d4\\uc77c\\uc2dc=2019-03-23 00:00:00\", \"marker\": {\"color\": \"#FFA15A\"}, \"name\": \"\\ubc1c\\uc0dd\\ub144\\uc6d4\\uc77c\\uc2dc=2019-03-23 00:00:00\", \"offsetgroup\": \"\\ubc1c\\uc0dd\\ub144\\uc6d4\\uc77c\\uc2dc=2019-03-23 00:00:00\", \"orientation\": \"h\", \"showlegend\": true, \"textposition\": \"auto\", \"type\": \"bar\", \"x\": [1], \"xaxis\": \"x\", \"y\": [17], \"yaxis\": \"y\"}, {\"alignmentgroup\": \"True\", \"hoverlabel\": {\"namelength\": 0}, \"hovertemplate\": \"\\ubc1c\\uc0dd\\ub144\\uc6d4\\uc77c\\uc2dc=2019-03-28 00:00:00<br>\\uc0ac\\ub9dd\\uc790\\uc218=%{x}<br>\\ubc1c\\uc0dd\\uc2dc\\uac04=%{y}\", \"legendgroup\": \"\\ubc1c\\uc0dd\\ub144\\uc6d4\\uc77c\\uc2dc=2019-03-28 00:00:00\", \"marker\": {\"color\": \"#19d3f3\"}, \"name\": \"\\ubc1c\\uc0dd\\ub144\\uc6d4\\uc77c\\uc2dc=2019-03-28 00:00:00\", \"offsetgroup\": \"\\ubc1c\\uc0dd\\ub144\\uc6d4\\uc77c\\uc2dc=2019-03-28 00:00:00\", \"orientation\": \"h\", \"showlegend\": true, \"textposition\": \"auto\", \"type\": \"bar\", \"x\": [1], \"xaxis\": \"x\", \"y\": [0], \"yaxis\": \"y\"}, {\"alignmentgroup\": \"True\", \"hoverlabel\": {\"namelength\": 0}, \"hovertemplate\": \"\\ubc1c\\uc0dd\\ub144\\uc6d4\\uc77c\\uc2dc=2019-03-29 00:00:00<br>\\uc0ac\\ub9dd\\uc790\\uc218=%{x}<br>\\ubc1c\\uc0dd\\uc2dc\\uac04=%{y}\", \"legendgroup\": \"\\ubc1c\\uc0dd\\ub144\\uc6d4\\uc77c\\uc2dc=2019-03-29 00:00:00\", \"marker\": {\"color\": \"#FF6692\"}, \"name\": \"\\ubc1c\\uc0dd\\ub144\\uc6d4\\uc77c\\uc2dc=2019-03-29 00:00:00\", \"offsetgroup\": \"\\ubc1c\\uc0dd\\ub144\\uc6d4\\uc77c\\uc2dc=2019-03-29 00:00:00\", \"orientation\": \"h\", \"showlegend\": true, \"textposition\": \"auto\", \"type\": \"bar\", \"x\": [1], \"xaxis\": \"x\", \"y\": [22], \"yaxis\": \"y\"}, {\"alignmentgroup\": \"True\", \"hoverlabel\": {\"namelength\": 0}, \"hovertemplate\": \"\\ubc1c\\uc0dd\\ub144\\uc6d4\\uc77c\\uc2dc=2019-03-31 00:00:00<br>\\uc0ac\\ub9dd\\uc790\\uc218=%{x}<br>\\ubc1c\\uc0dd\\uc2dc\\uac04=%{y}\", \"legendgroup\": \"\\ubc1c\\uc0dd\\ub144\\uc6d4\\uc77c\\uc2dc=2019-03-31 00:00:00\", \"marker\": {\"color\": \"#B6E880\"}, \"name\": \"\\ubc1c\\uc0dd\\ub144\\uc6d4\\uc77c\\uc2dc=2019-03-31 00:00:00\", \"offsetgroup\": \"\\ubc1c\\uc0dd\\ub144\\uc6d4\\uc77c\\uc2dc=2019-03-31 00:00:00\", \"orientation\": \"h\", \"showlegend\": true, \"textposition\": \"auto\", \"type\": \"bar\", \"x\": [1, 1], \"xaxis\": \"x\", \"y\": [5, 21], \"yaxis\": \"y\"}, {\"alignmentgroup\": \"True\", \"hoverlabel\": {\"namelength\": 0}, \"hovertemplate\": \"\\ubc1c\\uc0dd\\ub144\\uc6d4\\uc77c\\uc2dc=2019-04-02 00:00:00<br>\\uc0ac\\ub9dd\\uc790\\uc218=%{x}<br>\\ubc1c\\uc0dd\\uc2dc\\uac04=%{y}\", \"legendgroup\": \"\\ubc1c\\uc0dd\\ub144\\uc6d4\\uc77c\\uc2dc=2019-04-02 00:00:00\", \"marker\": {\"color\": \"#FF97FF\"}, \"name\": \"\\ubc1c\\uc0dd\\ub144\\uc6d4\\uc77c\\uc2dc=2019-04-02 00:00:00\", \"offsetgroup\": \"\\ubc1c\\uc0dd\\ub144\\uc6d4\\uc77c\\uc2dc=2019-04-02 00:00:00\", \"orientation\": \"h\", \"showlegend\": true, \"textposition\": \"auto\", \"type\": \"bar\", \"x\": [1], \"xaxis\": \"x\", \"y\": [5], \"yaxis\": \"y\"}, {\"alignmentgroup\": \"True\", \"hoverlabel\": {\"namelength\": 0}, \"hovertemplate\": \"\\ubc1c\\uc0dd\\ub144\\uc6d4\\uc77c\\uc2dc=2019-04-04 00:00:00<br>\\uc0ac\\ub9dd\\uc790\\uc218=%{x}<br>\\ubc1c\\uc0dd\\uc2dc\\uac04=%{y}\", \"legendgroup\": \"\\ubc1c\\uc0dd\\ub144\\uc6d4\\uc77c\\uc2dc=2019-04-04 00:00:00\", \"marker\": {\"color\": \"#FECB52\"}, \"name\": \"\\ubc1c\\uc0dd\\ub144\\uc6d4\\uc77c\\uc2dc=2019-04-04 00:00:00\", \"offsetgroup\": \"\\ubc1c\\uc0dd\\ub144\\uc6d4\\uc77c\\uc2dc=2019-04-04 00:00:00\", \"orientation\": \"h\", \"showlegend\": true, \"textposition\": \"auto\", \"type\": \"bar\", \"x\": [1], \"xaxis\": \"x\", \"y\": [9], \"yaxis\": \"y\"}, {\"alignmentgroup\": \"True\", \"hoverlabel\": {\"namelength\": 0}, \"hovertemplate\": \"\\ubc1c\\uc0dd\\ub144\\uc6d4\\uc77c\\uc2dc=2019-04-05 00:00:00<br>\\uc0ac\\ub9dd\\uc790\\uc218=%{x}<br>\\ubc1c\\uc0dd\\uc2dc\\uac04=%{y}\", \"legendgroup\": \"\\ubc1c\\uc0dd\\ub144\\uc6d4\\uc77c\\uc2dc=2019-04-05 00:00:00\", \"marker\": {\"color\": \"#636efa\"}, \"name\": \"\\ubc1c\\uc0dd\\ub144\\uc6d4\\uc77c\\uc2dc=2019-04-05 00:00:00\", \"offsetgroup\": \"\\ubc1c\\uc0dd\\ub144\\uc6d4\\uc77c\\uc2dc=2019-04-05 00:00:00\", \"orientation\": \"h\", \"showlegend\": true, \"textposition\": \"auto\", \"type\": \"bar\", \"x\": [1], \"xaxis\": \"x\", \"y\": [14], \"yaxis\": \"y\"}, {\"alignmentgroup\": \"True\", \"hoverlabel\": {\"namelength\": 0}, \"hovertemplate\": \"\\ubc1c\\uc0dd\\ub144\\uc6d4\\uc77c\\uc2dc=2019-04-26 00:00:00<br>\\uc0ac\\ub9dd\\uc790\\uc218=%{x}<br>\\ubc1c\\uc0dd\\uc2dc\\uac04=%{y}\", \"legendgroup\": \"\\ubc1c\\uc0dd\\ub144\\uc6d4\\uc77c\\uc2dc=2019-04-26 00:00:00\", \"marker\": {\"color\": \"#EF553B\"}, \"name\": \"\\ubc1c\\uc0dd\\ub144\\uc6d4\\uc77c\\uc2dc=2019-04-26 00:00:00\", \"offsetgroup\": \"\\ubc1c\\uc0dd\\ub144\\uc6d4\\uc77c\\uc2dc=2019-04-26 00:00:00\", \"orientation\": \"h\", \"showlegend\": true, \"textposition\": \"auto\", \"type\": \"bar\", \"x\": [1], \"xaxis\": \"x\", \"y\": [20], \"yaxis\": \"y\"}, {\"alignmentgroup\": \"True\", \"hoverlabel\": {\"namelength\": 0}, \"hovertemplate\": \"\\ubc1c\\uc0dd\\ub144\\uc6d4\\uc77c\\uc2dc=2019-04-30 00:00:00<br>\\uc0ac\\ub9dd\\uc790\\uc218=%{x}<br>\\ubc1c\\uc0dd\\uc2dc\\uac04=%{y}\", \"legendgroup\": \"\\ubc1c\\uc0dd\\ub144\\uc6d4\\uc77c\\uc2dc=2019-04-30 00:00:00\", \"marker\": {\"color\": \"#00cc96\"}, \"name\": \"\\ubc1c\\uc0dd\\ub144\\uc6d4\\uc77c\\uc2dc=2019-04-30 00:00:00\", \"offsetgroup\": \"\\ubc1c\\uc0dd\\ub144\\uc6d4\\uc77c\\uc2dc=2019-04-30 00:00:00\", \"orientation\": \"h\", \"showlegend\": true, \"textposition\": \"auto\", \"type\": \"bar\", \"x\": [1], \"xaxis\": \"x\", \"y\": [4], \"yaxis\": \"y\"}, {\"alignmentgroup\": \"True\", \"hoverlabel\": {\"namelength\": 0}, \"hovertemplate\": \"\\ubc1c\\uc0dd\\ub144\\uc6d4\\uc77c\\uc2dc=2019-05-01 00:00:00<br>\\uc0ac\\ub9dd\\uc790\\uc218=%{x}<br>\\ubc1c\\uc0dd\\uc2dc\\uac04=%{y}\", \"legendgroup\": \"\\ubc1c\\uc0dd\\ub144\\uc6d4\\uc77c\\uc2dc=2019-05-01 00:00:00\", \"marker\": {\"color\": \"#ab63fa\"}, \"name\": \"\\ubc1c\\uc0dd\\ub144\\uc6d4\\uc77c\\uc2dc=2019-05-01 00:00:00\", \"offsetgroup\": \"\\ubc1c\\uc0dd\\ub144\\uc6d4\\uc77c\\uc2dc=2019-05-01 00:00:00\", \"orientation\": \"h\", \"showlegend\": true, \"textposition\": \"auto\", \"type\": \"bar\", \"x\": [1], \"xaxis\": \"x\", \"y\": [22], \"yaxis\": \"y\"}, {\"alignmentgroup\": \"True\", \"hoverlabel\": {\"namelength\": 0}, \"hovertemplate\": \"\\ubc1c\\uc0dd\\ub144\\uc6d4\\uc77c\\uc2dc=2019-05-03 00:00:00<br>\\uc0ac\\ub9dd\\uc790\\uc218=%{x}<br>\\ubc1c\\uc0dd\\uc2dc\\uac04=%{y}\", \"legendgroup\": \"\\ubc1c\\uc0dd\\ub144\\uc6d4\\uc77c\\uc2dc=2019-05-03 00:00:00\", \"marker\": {\"color\": \"#FFA15A\"}, \"name\": \"\\ubc1c\\uc0dd\\ub144\\uc6d4\\uc77c\\uc2dc=2019-05-03 00:00:00\", \"offsetgroup\": \"\\ubc1c\\uc0dd\\ub144\\uc6d4\\uc77c\\uc2dc=2019-05-03 00:00:00\", \"orientation\": \"h\", \"showlegend\": true, \"textposition\": \"auto\", \"type\": \"bar\", \"x\": [1], \"xaxis\": \"x\", \"y\": [2], \"yaxis\": \"y\"}, {\"alignmentgroup\": \"True\", \"hoverlabel\": {\"namelength\": 0}, \"hovertemplate\": \"\\ubc1c\\uc0dd\\ub144\\uc6d4\\uc77c\\uc2dc=2019-05-04 00:00:00<br>\\uc0ac\\ub9dd\\uc790\\uc218=%{x}<br>\\ubc1c\\uc0dd\\uc2dc\\uac04=%{y}\", \"legendgroup\": \"\\ubc1c\\uc0dd\\ub144\\uc6d4\\uc77c\\uc2dc=2019-05-04 00:00:00\", \"marker\": {\"color\": \"#19d3f3\"}, \"name\": \"\\ubc1c\\uc0dd\\ub144\\uc6d4\\uc77c\\uc2dc=2019-05-04 00:00:00\", \"offsetgroup\": \"\\ubc1c\\uc0dd\\ub144\\uc6d4\\uc77c\\uc2dc=2019-05-04 00:00:00\", \"orientation\": \"h\", \"showlegend\": true, \"textposition\": \"auto\", \"type\": \"bar\", \"x\": [1], \"xaxis\": \"x\", \"y\": [15], \"yaxis\": \"y\"}, {\"alignmentgroup\": \"True\", \"hoverlabel\": {\"namelength\": 0}, \"hovertemplate\": \"\\ubc1c\\uc0dd\\ub144\\uc6d4\\uc77c\\uc2dc=2019-06-06 00:00:00<br>\\uc0ac\\ub9dd\\uc790\\uc218=%{x}<br>\\ubc1c\\uc0dd\\uc2dc\\uac04=%{y}\", \"legendgroup\": \"\\ubc1c\\uc0dd\\ub144\\uc6d4\\uc77c\\uc2dc=2019-06-06 00:00:00\", \"marker\": {\"color\": \"#FF6692\"}, \"name\": \"\\ubc1c\\uc0dd\\ub144\\uc6d4\\uc77c\\uc2dc=2019-06-06 00:00:00\", \"offsetgroup\": \"\\ubc1c\\uc0dd\\ub144\\uc6d4\\uc77c\\uc2dc=2019-06-06 00:00:00\", \"orientation\": \"h\", \"showlegend\": true, \"textposition\": \"auto\", \"type\": \"bar\", \"x\": [1], \"xaxis\": \"x\", \"y\": [19], \"yaxis\": \"y\"}, {\"alignmentgroup\": \"True\", \"hoverlabel\": {\"namelength\": 0}, \"hovertemplate\": \"\\ubc1c\\uc0dd\\ub144\\uc6d4\\uc77c\\uc2dc=2019-07-22 00:00:00<br>\\uc0ac\\ub9dd\\uc790\\uc218=%{x}<br>\\ubc1c\\uc0dd\\uc2dc\\uac04=%{y}\", \"legendgroup\": \"\\ubc1c\\uc0dd\\ub144\\uc6d4\\uc77c\\uc2dc=2019-07-22 00:00:00\", \"marker\": {\"color\": \"#B6E880\"}, \"name\": \"\\ubc1c\\uc0dd\\ub144\\uc6d4\\uc77c\\uc2dc=2019-07-22 00:00:00\", \"offsetgroup\": \"\\ubc1c\\uc0dd\\ub144\\uc6d4\\uc77c\\uc2dc=2019-07-22 00:00:00\", \"orientation\": \"h\", \"showlegend\": true, \"textposition\": \"auto\", \"type\": \"bar\", \"x\": [1, 1], \"xaxis\": \"x\", \"y\": [7, 19], \"yaxis\": \"y\"}, {\"alignmentgroup\": \"True\", \"hoverlabel\": {\"namelength\": 0}, \"hovertemplate\": \"\\ubc1c\\uc0dd\\ub144\\uc6d4\\uc77c\\uc2dc=2019-08-30 00:00:00<br>\\uc0ac\\ub9dd\\uc790\\uc218=%{x}<br>\\ubc1c\\uc0dd\\uc2dc\\uac04=%{y}\", \"legendgroup\": \"\\ubc1c\\uc0dd\\ub144\\uc6d4\\uc77c\\uc2dc=2019-08-30 00:00:00\", \"marker\": {\"color\": \"#FF97FF\"}, \"name\": \"\\ubc1c\\uc0dd\\ub144\\uc6d4\\uc77c\\uc2dc=2019-08-30 00:00:00\", \"offsetgroup\": \"\\ubc1c\\uc0dd\\ub144\\uc6d4\\uc77c\\uc2dc=2019-08-30 00:00:00\", \"orientation\": \"h\", \"showlegend\": true, \"textposition\": \"auto\", \"type\": \"bar\", \"x\": [1], \"xaxis\": \"x\", \"y\": [3], \"yaxis\": \"y\"}, {\"alignmentgroup\": \"True\", \"hoverlabel\": {\"namelength\": 0}, \"hovertemplate\": \"\\ubc1c\\uc0dd\\ub144\\uc6d4\\uc77c\\uc2dc=2019-09-07 00:00:00<br>\\uc0ac\\ub9dd\\uc790\\uc218=%{x}<br>\\ubc1c\\uc0dd\\uc2dc\\uac04=%{y}\", \"legendgroup\": \"\\ubc1c\\uc0dd\\ub144\\uc6d4\\uc77c\\uc2dc=2019-09-07 00:00:00\", \"marker\": {\"color\": \"#FECB52\"}, \"name\": \"\\ubc1c\\uc0dd\\ub144\\uc6d4\\uc77c\\uc2dc=2019-09-07 00:00:00\", \"offsetgroup\": \"\\ubc1c\\uc0dd\\ub144\\uc6d4\\uc77c\\uc2dc=2019-09-07 00:00:00\", \"orientation\": \"h\", \"showlegend\": true, \"textposition\": \"auto\", \"type\": \"bar\", \"x\": [1], \"xaxis\": \"x\", \"y\": [7], \"yaxis\": \"y\"}, {\"alignmentgroup\": \"True\", \"hoverlabel\": {\"namelength\": 0}, \"hovertemplate\": \"\\ubc1c\\uc0dd\\ub144\\uc6d4\\uc77c\\uc2dc=2019-09-19 00:00:00<br>\\uc0ac\\ub9dd\\uc790\\uc218=%{x}<br>\\ubc1c\\uc0dd\\uc2dc\\uac04=%{y}\", \"legendgroup\": \"\\ubc1c\\uc0dd\\ub144\\uc6d4\\uc77c\\uc2dc=2019-09-19 00:00:00\", \"marker\": {\"color\": \"#636efa\"}, \"name\": \"\\ubc1c\\uc0dd\\ub144\\uc6d4\\uc77c\\uc2dc=2019-09-19 00:00:00\", \"offsetgroup\": \"\\ubc1c\\uc0dd\\ub144\\uc6d4\\uc77c\\uc2dc=2019-09-19 00:00:00\", \"orientation\": \"h\", \"showlegend\": true, \"textposition\": \"auto\", \"type\": \"bar\", \"x\": [1], \"xaxis\": \"x\", \"y\": [15], \"yaxis\": \"y\"}, {\"alignmentgroup\": \"True\", \"hoverlabel\": {\"namelength\": 0}, \"hovertemplate\": \"\\ubc1c\\uc0dd\\ub144\\uc6d4\\uc77c\\uc2dc=2019-10-03 00:00:00<br>\\uc0ac\\ub9dd\\uc790\\uc218=%{x}<br>\\ubc1c\\uc0dd\\uc2dc\\uac04=%{y}\", \"legendgroup\": \"\\ubc1c\\uc0dd\\ub144\\uc6d4\\uc77c\\uc2dc=2019-10-03 00:00:00\", \"marker\": {\"color\": \"#EF553B\"}, \"name\": \"\\ubc1c\\uc0dd\\ub144\\uc6d4\\uc77c\\uc2dc=2019-10-03 00:00:00\", \"offsetgroup\": \"\\ubc1c\\uc0dd\\ub144\\uc6d4\\uc77c\\uc2dc=2019-10-03 00:00:00\", \"orientation\": \"h\", \"showlegend\": true, \"textposition\": \"auto\", \"type\": \"bar\", \"x\": [1], \"xaxis\": \"x\", \"y\": [23], \"yaxis\": \"y\"}, {\"alignmentgroup\": \"True\", \"hoverlabel\": {\"namelength\": 0}, \"hovertemplate\": \"\\ubc1c\\uc0dd\\ub144\\uc6d4\\uc77c\\uc2dc=2019-10-23 00:00:00<br>\\uc0ac\\ub9dd\\uc790\\uc218=%{x}<br>\\ubc1c\\uc0dd\\uc2dc\\uac04=%{y}\", \"legendgroup\": \"\\ubc1c\\uc0dd\\ub144\\uc6d4\\uc77c\\uc2dc=2019-10-23 00:00:00\", \"marker\": {\"color\": \"#00cc96\"}, \"name\": \"\\ubc1c\\uc0dd\\ub144\\uc6d4\\uc77c\\uc2dc=2019-10-23 00:00:00\", \"offsetgroup\": \"\\ubc1c\\uc0dd\\ub144\\uc6d4\\uc77c\\uc2dc=2019-10-23 00:00:00\", \"orientation\": \"h\", \"showlegend\": true, \"textposition\": \"auto\", \"type\": \"bar\", \"x\": [1], \"xaxis\": \"x\", \"y\": [18], \"yaxis\": \"y\"}, {\"alignmentgroup\": \"True\", \"hoverlabel\": {\"namelength\": 0}, \"hovertemplate\": \"\\ubc1c\\uc0dd\\ub144\\uc6d4\\uc77c\\uc2dc=2019-10-24 00:00:00<br>\\uc0ac\\ub9dd\\uc790\\uc218=%{x}<br>\\ubc1c\\uc0dd\\uc2dc\\uac04=%{y}\", \"legendgroup\": \"\\ubc1c\\uc0dd\\ub144\\uc6d4\\uc77c\\uc2dc=2019-10-24 00:00:00\", \"marker\": {\"color\": \"#ab63fa\"}, \"name\": \"\\ubc1c\\uc0dd\\ub144\\uc6d4\\uc77c\\uc2dc=2019-10-24 00:00:00\", \"offsetgroup\": \"\\ubc1c\\uc0dd\\ub144\\uc6d4\\uc77c\\uc2dc=2019-10-24 00:00:00\", \"orientation\": \"h\", \"showlegend\": true, \"textposition\": \"auto\", \"type\": \"bar\", \"x\": [1], \"xaxis\": \"x\", \"y\": [8], \"yaxis\": \"y\"}, {\"alignmentgroup\": \"True\", \"hoverlabel\": {\"namelength\": 0}, \"hovertemplate\": \"\\ubc1c\\uc0dd\\ub144\\uc6d4\\uc77c\\uc2dc=2019-11-04 00:00:00<br>\\uc0ac\\ub9dd\\uc790\\uc218=%{x}<br>\\ubc1c\\uc0dd\\uc2dc\\uac04=%{y}\", \"legendgroup\": \"\\ubc1c\\uc0dd\\ub144\\uc6d4\\uc77c\\uc2dc=2019-11-04 00:00:00\", \"marker\": {\"color\": \"#FFA15A\"}, \"name\": \"\\ubc1c\\uc0dd\\ub144\\uc6d4\\uc77c\\uc2dc=2019-11-04 00:00:00\", \"offsetgroup\": \"\\ubc1c\\uc0dd\\ub144\\uc6d4\\uc77c\\uc2dc=2019-11-04 00:00:00\", \"orientation\": \"h\", \"showlegend\": true, \"textposition\": \"auto\", \"type\": \"bar\", \"x\": [1], \"xaxis\": \"x\", \"y\": [17], \"yaxis\": \"y\"}, {\"alignmentgroup\": \"True\", \"hoverlabel\": {\"namelength\": 0}, \"hovertemplate\": \"\\ubc1c\\uc0dd\\ub144\\uc6d4\\uc77c\\uc2dc=2019-11-05 00:00:00<br>\\uc0ac\\ub9dd\\uc790\\uc218=%{x}<br>\\ubc1c\\uc0dd\\uc2dc\\uac04=%{y}\", \"legendgroup\": \"\\ubc1c\\uc0dd\\ub144\\uc6d4\\uc77c\\uc2dc=2019-11-05 00:00:00\", \"marker\": {\"color\": \"#19d3f3\"}, \"name\": \"\\ubc1c\\uc0dd\\ub144\\uc6d4\\uc77c\\uc2dc=2019-11-05 00:00:00\", \"offsetgroup\": \"\\ubc1c\\uc0dd\\ub144\\uc6d4\\uc77c\\uc2dc=2019-11-05 00:00:00\", \"orientation\": \"h\", \"showlegend\": true, \"textposition\": \"auto\", \"type\": \"bar\", \"x\": [1], \"xaxis\": \"x\", \"y\": [8], \"yaxis\": \"y\"}, {\"alignmentgroup\": \"True\", \"hoverlabel\": {\"namelength\": 0}, \"hovertemplate\": \"\\ubc1c\\uc0dd\\ub144\\uc6d4\\uc77c\\uc2dc=2019-11-08 00:00:00<br>\\uc0ac\\ub9dd\\uc790\\uc218=%{x}<br>\\ubc1c\\uc0dd\\uc2dc\\uac04=%{y}\", \"legendgroup\": \"\\ubc1c\\uc0dd\\ub144\\uc6d4\\uc77c\\uc2dc=2019-11-08 00:00:00\", \"marker\": {\"color\": \"#FF6692\"}, \"name\": \"\\ubc1c\\uc0dd\\ub144\\uc6d4\\uc77c\\uc2dc=2019-11-08 00:00:00\", \"offsetgroup\": \"\\ubc1c\\uc0dd\\ub144\\uc6d4\\uc77c\\uc2dc=2019-11-08 00:00:00\", \"orientation\": \"h\", \"showlegend\": true, \"textposition\": \"auto\", \"type\": \"bar\", \"x\": [1], \"xaxis\": \"x\", \"y\": [21], \"yaxis\": \"y\"}, {\"alignmentgroup\": \"True\", \"hoverlabel\": {\"namelength\": 0}, \"hovertemplate\": \"\\ubc1c\\uc0dd\\ub144\\uc6d4\\uc77c\\uc2dc=2019-11-25 00:00:00<br>\\uc0ac\\ub9dd\\uc790\\uc218=%{x}<br>\\ubc1c\\uc0dd\\uc2dc\\uac04=%{y}\", \"legendgroup\": \"\\ubc1c\\uc0dd\\ub144\\uc6d4\\uc77c\\uc2dc=2019-11-25 00:00:00\", \"marker\": {\"color\": \"#B6E880\"}, \"name\": \"\\ubc1c\\uc0dd\\ub144\\uc6d4\\uc77c\\uc2dc=2019-11-25 00:00:00\", \"offsetgroup\": \"\\ubc1c\\uc0dd\\ub144\\uc6d4\\uc77c\\uc2dc=2019-11-25 00:00:00\", \"orientation\": \"h\", \"showlegend\": true, \"textposition\": \"auto\", \"type\": \"bar\", \"x\": [1], \"xaxis\": \"x\", \"y\": [7], \"yaxis\": \"y\"}, {\"alignmentgroup\": \"True\", \"hoverlabel\": {\"namelength\": 0}, \"hovertemplate\": \"\\ubc1c\\uc0dd\\ub144\\uc6d4\\uc77c\\uc2dc=2019-11-30 00:00:00<br>\\uc0ac\\ub9dd\\uc790\\uc218=%{x}<br>\\ubc1c\\uc0dd\\uc2dc\\uac04=%{y}\", \"legendgroup\": \"\\ubc1c\\uc0dd\\ub144\\uc6d4\\uc77c\\uc2dc=2019-11-30 00:00:00\", \"marker\": {\"color\": \"#FF97FF\"}, \"name\": \"\\ubc1c\\uc0dd\\ub144\\uc6d4\\uc77c\\uc2dc=2019-11-30 00:00:00\", \"offsetgroup\": \"\\ubc1c\\uc0dd\\ub144\\uc6d4\\uc77c\\uc2dc=2019-11-30 00:00:00\", \"orientation\": \"h\", \"showlegend\": true, \"textposition\": \"auto\", \"type\": \"bar\", \"x\": [1], \"xaxis\": \"x\", \"y\": [16], \"yaxis\": \"y\"}, {\"alignmentgroup\": \"True\", \"hoverlabel\": {\"namelength\": 0}, \"hovertemplate\": \"\\ubc1c\\uc0dd\\ub144\\uc6d4\\uc77c\\uc2dc=2019-12-05 00:00:00<br>\\uc0ac\\ub9dd\\uc790\\uc218=%{x}<br>\\ubc1c\\uc0dd\\uc2dc\\uac04=%{y}\", \"legendgroup\": \"\\ubc1c\\uc0dd\\ub144\\uc6d4\\uc77c\\uc2dc=2019-12-05 00:00:00\", \"marker\": {\"color\": \"#FECB52\"}, \"name\": \"\\ubc1c\\uc0dd\\ub144\\uc6d4\\uc77c\\uc2dc=2019-12-05 00:00:00\", \"offsetgroup\": \"\\ubc1c\\uc0dd\\ub144\\uc6d4\\uc77c\\uc2dc=2019-12-05 00:00:00\", \"orientation\": \"h\", \"showlegend\": true, \"textposition\": \"auto\", \"type\": \"bar\", \"x\": [1], \"xaxis\": \"x\", \"y\": [6], \"yaxis\": \"y\"}, {\"alignmentgroup\": \"True\", \"hoverlabel\": {\"namelength\": 0}, \"hovertemplate\": \"\\ubc1c\\uc0dd\\ub144\\uc6d4\\uc77c\\uc2dc=2019-12-08 00:00:00<br>\\uc0ac\\ub9dd\\uc790\\uc218=%{x}<br>\\ubc1c\\uc0dd\\uc2dc\\uac04=%{y}\", \"legendgroup\": \"\\ubc1c\\uc0dd\\ub144\\uc6d4\\uc77c\\uc2dc=2019-12-08 00:00:00\", \"marker\": {\"color\": \"#636efa\"}, \"name\": \"\\ubc1c\\uc0dd\\ub144\\uc6d4\\uc77c\\uc2dc=2019-12-08 00:00:00\", \"offsetgroup\": \"\\ubc1c\\uc0dd\\ub144\\uc6d4\\uc77c\\uc2dc=2019-12-08 00:00:00\", \"orientation\": \"h\", \"showlegend\": true, \"textposition\": \"auto\", \"type\": \"bar\", \"x\": [1], \"xaxis\": \"x\", \"y\": [3], \"yaxis\": \"y\"}, {\"alignmentgroup\": \"True\", \"hoverlabel\": {\"namelength\": 0}, \"hovertemplate\": \"\\ubc1c\\uc0dd\\ub144\\uc6d4\\uc77c\\uc2dc=2019-12-17 00:00:00<br>\\uc0ac\\ub9dd\\uc790\\uc218=%{x}<br>\\ubc1c\\uc0dd\\uc2dc\\uac04=%{y}\", \"legendgroup\": \"\\ubc1c\\uc0dd\\ub144\\uc6d4\\uc77c\\uc2dc=2019-12-17 00:00:00\", \"marker\": {\"color\": \"#EF553B\"}, \"name\": \"\\ubc1c\\uc0dd\\ub144\\uc6d4\\uc77c\\uc2dc=2019-12-17 00:00:00\", \"offsetgroup\": \"\\ubc1c\\uc0dd\\ub144\\uc6d4\\uc77c\\uc2dc=2019-12-17 00:00:00\", \"orientation\": \"h\", \"showlegend\": true, \"textposition\": \"auto\", \"type\": \"bar\", \"x\": [1], \"xaxis\": \"x\", \"y\": [7], \"yaxis\": \"y\"}],\n",
              "                        {\"barmode\": \"relative\", \"legend\": {\"tracegroupgap\": 0}, \"template\": {\"data\": {\"bar\": [{\"error_x\": {\"color\": \"#2a3f5f\"}, \"error_y\": {\"color\": \"#2a3f5f\"}, \"marker\": {\"line\": {\"color\": \"#E5ECF6\", \"width\": 0.5}}, \"type\": \"bar\"}], \"barpolar\": [{\"marker\": {\"line\": {\"color\": \"#E5ECF6\", \"width\": 0.5}}, \"type\": \"barpolar\"}], \"carpet\": [{\"aaxis\": {\"endlinecolor\": \"#2a3f5f\", \"gridcolor\": \"white\", \"linecolor\": \"white\", \"minorgridcolor\": \"white\", \"startlinecolor\": \"#2a3f5f\"}, \"baxis\": {\"endlinecolor\": \"#2a3f5f\", \"gridcolor\": \"white\", \"linecolor\": \"white\", \"minorgridcolor\": \"white\", \"startlinecolor\": \"#2a3f5f\"}, \"type\": \"carpet\"}], \"choropleth\": [{\"colorbar\": {\"outlinewidth\": 0, \"ticks\": \"\"}, \"type\": \"choropleth\"}], \"contour\": [{\"colorbar\": {\"outlinewidth\": 0, \"ticks\": \"\"}, \"colorscale\": [[0.0, \"#0d0887\"], [0.1111111111111111, \"#46039f\"], [0.2222222222222222, \"#7201a8\"], [0.3333333333333333, \"#9c179e\"], [0.4444444444444444, \"#bd3786\"], [0.5555555555555556, \"#d8576b\"], [0.6666666666666666, \"#ed7953\"], [0.7777777777777778, \"#fb9f3a\"], [0.8888888888888888, \"#fdca26\"], [1.0, \"#f0f921\"]], \"type\": \"contour\"}], \"contourcarpet\": [{\"colorbar\": {\"outlinewidth\": 0, \"ticks\": \"\"}, \"type\": \"contourcarpet\"}], \"heatmap\": [{\"colorbar\": {\"outlinewidth\": 0, \"ticks\": \"\"}, \"colorscale\": [[0.0, \"#0d0887\"], [0.1111111111111111, \"#46039f\"], [0.2222222222222222, \"#7201a8\"], [0.3333333333333333, \"#9c179e\"], [0.4444444444444444, \"#bd3786\"], [0.5555555555555556, \"#d8576b\"], [0.6666666666666666, \"#ed7953\"], [0.7777777777777778, \"#fb9f3a\"], [0.8888888888888888, \"#fdca26\"], [1.0, \"#f0f921\"]], \"type\": \"heatmap\"}], \"heatmapgl\": [{\"colorbar\": {\"outlinewidth\": 0, \"ticks\": \"\"}, \"colorscale\": [[0.0, \"#0d0887\"], [0.1111111111111111, \"#46039f\"], [0.2222222222222222, \"#7201a8\"], [0.3333333333333333, \"#9c179e\"], [0.4444444444444444, \"#bd3786\"], [0.5555555555555556, \"#d8576b\"], [0.6666666666666666, \"#ed7953\"], [0.7777777777777778, \"#fb9f3a\"], [0.8888888888888888, \"#fdca26\"], [1.0, \"#f0f921\"]], \"type\": \"heatmapgl\"}], \"histogram\": [{\"marker\": {\"colorbar\": {\"outlinewidth\": 0, \"ticks\": \"\"}}, \"type\": \"histogram\"}], \"histogram2d\": [{\"colorbar\": {\"outlinewidth\": 0, \"ticks\": \"\"}, \"colorscale\": [[0.0, \"#0d0887\"], [0.1111111111111111, \"#46039f\"], [0.2222222222222222, \"#7201a8\"], [0.3333333333333333, \"#9c179e\"], [0.4444444444444444, \"#bd3786\"], [0.5555555555555556, \"#d8576b\"], [0.6666666666666666, \"#ed7953\"], [0.7777777777777778, \"#fb9f3a\"], [0.8888888888888888, \"#fdca26\"], [1.0, \"#f0f921\"]], \"type\": \"histogram2d\"}], \"histogram2dcontour\": [{\"colorbar\": {\"outlinewidth\": 0, \"ticks\": \"\"}, \"colorscale\": [[0.0, \"#0d0887\"], [0.1111111111111111, \"#46039f\"], [0.2222222222222222, \"#7201a8\"], [0.3333333333333333, \"#9c179e\"], [0.4444444444444444, \"#bd3786\"], [0.5555555555555556, \"#d8576b\"], [0.6666666666666666, \"#ed7953\"], [0.7777777777777778, \"#fb9f3a\"], [0.8888888888888888, \"#fdca26\"], [1.0, \"#f0f921\"]], \"type\": \"histogram2dcontour\"}], \"mesh3d\": [{\"colorbar\": {\"outlinewidth\": 0, \"ticks\": \"\"}, \"type\": \"mesh3d\"}], \"parcoords\": [{\"line\": {\"colorbar\": {\"outlinewidth\": 0, \"ticks\": \"\"}}, \"type\": \"parcoords\"}], \"pie\": [{\"automargin\": true, \"type\": \"pie\"}], \"scatter\": [{\"marker\": {\"colorbar\": {\"outlinewidth\": 0, \"ticks\": \"\"}}, \"type\": \"scatter\"}], \"scatter3d\": [{\"line\": {\"colorbar\": {\"outlinewidth\": 0, \"ticks\": \"\"}}, \"marker\": {\"colorbar\": {\"outlinewidth\": 0, \"ticks\": \"\"}}, \"type\": \"scatter3d\"}], \"scattercarpet\": [{\"marker\": {\"colorbar\": {\"outlinewidth\": 0, \"ticks\": \"\"}}, \"type\": \"scattercarpet\"}], \"scattergeo\": [{\"marker\": {\"colorbar\": {\"outlinewidth\": 0, \"ticks\": \"\"}}, \"type\": \"scattergeo\"}], \"scattergl\": [{\"marker\": {\"colorbar\": {\"outlinewidth\": 0, \"ticks\": \"\"}}, \"type\": \"scattergl\"}], \"scattermapbox\": [{\"marker\": {\"colorbar\": {\"outlinewidth\": 0, \"ticks\": \"\"}}, \"type\": \"scattermapbox\"}], \"scatterpolar\": [{\"marker\": {\"colorbar\": {\"outlinewidth\": 0, \"ticks\": \"\"}}, \"type\": \"scatterpolar\"}], \"scatterpolargl\": [{\"marker\": {\"colorbar\": {\"outlinewidth\": 0, \"ticks\": \"\"}}, \"type\": \"scatterpolargl\"}], \"scatterternary\": [{\"marker\": {\"colorbar\": {\"outlinewidth\": 0, \"ticks\": \"\"}}, \"type\": \"scatterternary\"}], \"surface\": [{\"colorbar\": {\"outlinewidth\": 0, \"ticks\": \"\"}, \"colorscale\": [[0.0, \"#0d0887\"], [0.1111111111111111, \"#46039f\"], [0.2222222222222222, \"#7201a8\"], [0.3333333333333333, \"#9c179e\"], [0.4444444444444444, \"#bd3786\"], [0.5555555555555556, \"#d8576b\"], [0.6666666666666666, \"#ed7953\"], [0.7777777777777778, \"#fb9f3a\"], [0.8888888888888888, \"#fdca26\"], [1.0, \"#f0f921\"]], \"type\": \"surface\"}], \"table\": [{\"cells\": {\"fill\": {\"color\": \"#EBF0F8\"}, \"line\": {\"color\": \"white\"}}, \"header\": {\"fill\": {\"color\": \"#C8D4E3\"}, \"line\": {\"color\": \"white\"}}, \"type\": \"table\"}]}, \"layout\": {\"annotationdefaults\": {\"arrowcolor\": \"#2a3f5f\", \"arrowhead\": 0, \"arrowwidth\": 1}, \"coloraxis\": {\"colorbar\": {\"outlinewidth\": 0, \"ticks\": \"\"}}, \"colorscale\": {\"diverging\": [[0, \"#8e0152\"], [0.1, \"#c51b7d\"], [0.2, \"#de77ae\"], [0.3, \"#f1b6da\"], [0.4, \"#fde0ef\"], [0.5, \"#f7f7f7\"], [0.6, \"#e6f5d0\"], [0.7, \"#b8e186\"], [0.8, \"#7fbc41\"], [0.9, \"#4d9221\"], [1, \"#276419\"]], \"sequential\": [[0.0, \"#0d0887\"], [0.1111111111111111, \"#46039f\"], [0.2222222222222222, \"#7201a8\"], [0.3333333333333333, \"#9c179e\"], [0.4444444444444444, \"#bd3786\"], [0.5555555555555556, \"#d8576b\"], [0.6666666666666666, \"#ed7953\"], [0.7777777777777778, \"#fb9f3a\"], [0.8888888888888888, \"#fdca26\"], [1.0, \"#f0f921\"]], \"sequentialminus\": [[0.0, \"#0d0887\"], [0.1111111111111111, \"#46039f\"], [0.2222222222222222, \"#7201a8\"], [0.3333333333333333, \"#9c179e\"], [0.4444444444444444, \"#bd3786\"], [0.5555555555555556, \"#d8576b\"], [0.6666666666666666, \"#ed7953\"], [0.7777777777777778, \"#fb9f3a\"], [0.8888888888888888, \"#fdca26\"], [1.0, \"#f0f921\"]]}, \"colorway\": [\"#636efa\", \"#EF553B\", \"#00cc96\", \"#ab63fa\", \"#FFA15A\", \"#19d3f3\", \"#FF6692\", \"#B6E880\", \"#FF97FF\", \"#FECB52\"], \"font\": {\"color\": \"#2a3f5f\"}, \"geo\": {\"bgcolor\": \"white\", \"lakecolor\": \"white\", \"landcolor\": \"#E5ECF6\", \"showlakes\": true, \"showland\": true, \"subunitcolor\": \"white\"}, \"hoverlabel\": {\"align\": \"left\"}, \"hovermode\": \"closest\", \"mapbox\": {\"style\": \"light\"}, \"paper_bgcolor\": \"white\", \"plot_bgcolor\": \"#E5ECF6\", \"polar\": {\"angularaxis\": {\"gridcolor\": \"white\", \"linecolor\": \"white\", \"ticks\": \"\"}, \"bgcolor\": \"#E5ECF6\", \"radialaxis\": {\"gridcolor\": \"white\", \"linecolor\": \"white\", \"ticks\": \"\"}}, \"scene\": {\"xaxis\": {\"backgroundcolor\": \"#E5ECF6\", \"gridcolor\": \"white\", \"gridwidth\": 2, \"linecolor\": \"white\", \"showbackground\": true, \"ticks\": \"\", \"zerolinecolor\": \"white\"}, \"yaxis\": {\"backgroundcolor\": \"#E5ECF6\", \"gridcolor\": \"white\", \"gridwidth\": 2, \"linecolor\": \"white\", \"showbackground\": true, \"ticks\": \"\", \"zerolinecolor\": \"white\"}, \"zaxis\": {\"backgroundcolor\": \"#E5ECF6\", \"gridcolor\": \"white\", \"gridwidth\": 2, \"linecolor\": \"white\", \"showbackground\": true, \"ticks\": \"\", \"zerolinecolor\": \"white\"}}, \"shapedefaults\": {\"line\": {\"color\": \"#2a3f5f\"}}, \"ternary\": {\"aaxis\": {\"gridcolor\": \"white\", \"linecolor\": \"white\", \"ticks\": \"\"}, \"baxis\": {\"gridcolor\": \"white\", \"linecolor\": \"white\", \"ticks\": \"\"}, \"bgcolor\": \"#E5ECF6\", \"caxis\": {\"gridcolor\": \"white\", \"linecolor\": \"white\", \"ticks\": \"\"}}, \"title\": {\"x\": 0.05}, \"xaxis\": {\"automargin\": true, \"gridcolor\": \"white\", \"linecolor\": \"white\", \"ticks\": \"\", \"title\": {\"standoff\": 15}, \"zerolinecolor\": \"white\", \"zerolinewidth\": 2}, \"yaxis\": {\"automargin\": true, \"gridcolor\": \"white\", \"linecolor\": \"white\", \"ticks\": \"\", \"title\": {\"standoff\": 15}, \"zerolinecolor\": \"white\", \"zerolinewidth\": 2}}}, \"title\": {\"text\": \"\\uc6a9\\uc778\\uc2dc \\uad50\\ud1b5\\uc0ac\\uace0 \\ubc1c\\uc0dd\\uc2dc\\uac04 \\ubcc4 \\uc0ac\\ub9dd\\uc790 \\ud604\\ud669\"}, \"xaxis\": {\"anchor\": \"y\", \"domain\": [0.0, 1.0], \"title\": {\"text\": \"\\uc0ac\\ub9dd\\uc790\\uc218\"}}, \"yaxis\": {\"anchor\": \"x\", \"domain\": [0.0, 1.0], \"title\": {\"text\": \"\\ubc1c\\uc0dd\\uc2dc\\uac04\"}}},\n",
              "                        {\"responsive\": true}\n",
              "                    ).then(function(){\n",
              "                            \n",
              "var gd = document.getElementById('f6a2180e-20f0-44ee-8eff-485c97da5f42');\n",
              "var x = new MutationObserver(function (mutations, observer) {{\n",
              "        var display = window.getComputedStyle(gd).display;\n",
              "        if (!display || display === 'none') {{\n",
              "            console.log([gd, 'removed!']);\n",
              "            Plotly.purge(gd);\n",
              "            observer.disconnect();\n",
              "        }}\n",
              "}});\n",
              "\n",
              "// Listen for the removal of the full notebook cells\n",
              "var notebookContainer = gd.closest('#notebook-container');\n",
              "if (notebookContainer) {{\n",
              "    x.observe(notebookContainer, {childList: true});\n",
              "}}\n",
              "\n",
              "// Listen for the clearing of the current output cell\n",
              "var outputEl = gd.closest('.output');\n",
              "if (outputEl) {{\n",
              "    x.observe(outputEl, {childList: true});\n",
              "}}\n",
              "\n",
              "                        })\n",
              "                };\n",
              "                \n",
              "            </script>\n",
              "        </div>\n",
              "</body>\n",
              "</html>"
            ]
          },
          "metadata": {
            "tags": []
          }
        }
      ]
    },
    {
      "cell_type": "code",
      "metadata": {
        "id": "0nAw8CSI9vEq"
      },
      "source": [
        "yongin_dead = my_df[(my_df['발생시간']==15)]\n",
        "yongin_dead"
      ],
      "execution_count": null,
      "outputs": []
    },
    {
      "cell_type": "code",
      "metadata": {
        "colab": {
          "base_uri": "https://localhost:8080/",
          "height": 542
        },
        "id": "2kZYHSTH3HwA",
        "outputId": "b6632e69-c067-4b45-dd9b-126d8d18c3a2"
      },
      "source": [
        "fig = px.bar(my_df, x='부상자수', y='발생시간', orientation='h', title='용인시 교통사고 발생시간 별 부상자 현황')\n",
        "fig.show()"
      ],
      "execution_count": null,
      "outputs": [
        {
          "output_type": "display_data",
          "data": {
            "text/html": [
              "<html>\n",
              "<head><meta charset=\"utf-8\" /></head>\n",
              "<body>\n",
              "    <div>\n",
              "            <script src=\"https://cdnjs.cloudflare.com/ajax/libs/mathjax/2.7.5/MathJax.js?config=TeX-AMS-MML_SVG\"></script><script type=\"text/javascript\">if (window.MathJax) {MathJax.Hub.Config({SVG: {font: \"STIX-Web\"}});}</script>\n",
              "                <script type=\"text/javascript\">window.PlotlyConfig = {MathJaxConfig: 'local'};</script>\n",
              "        <script src=\"https://cdn.plot.ly/plotly-latest.min.js\"></script>    \n",
              "            <div id=\"a8ea2b05-2d2d-4ecc-a494-93948ab73140\" class=\"plotly-graph-div\" style=\"height:525px; width:100%;\"></div>\n",
              "            <script type=\"text/javascript\">\n",
              "                \n",
              "                    window.PLOTLYENV=window.PLOTLYENV || {};\n",
              "                    \n",
              "                if (document.getElementById(\"a8ea2b05-2d2d-4ecc-a494-93948ab73140\")) {\n",
              "                    Plotly.newPlot(\n",
              "                        'a8ea2b05-2d2d-4ecc-a494-93948ab73140',\n",
              "                        [{\"alignmentgroup\": \"True\", \"hoverlabel\": {\"namelength\": 0}, \"hovertemplate\": \"\\ubd80\\uc0c1\\uc790\\uc218=%{x}<br>\\ubc1c\\uc0dd\\uc2dc\\uac04=%{y}\", \"legendgroup\": \"\", \"marker\": {\"color\": \"#636efa\"}, \"name\": \"\", \"offsetgroup\": \"\", \"orientation\": \"h\", \"showlegend\": false, \"textposition\": \"auto\", \"type\": \"bar\", \"x\": [3.0, 2.0, 0.0, 3.0, 14.0, 0.0, 8.0, 0.0, 0.0, 1.0, 0.0, 16.0, 0.0, 0.0, 0.0, 0.0, 1.0, 0.0, 0.0, 0.0, 0.0, 1.0, 0.0, 34.0, 2.0, 5.0, 0.0, 0.0, 0.0, 1.0, 0.0, 0.0, 1.0, 0.0], \"xaxis\": \"x\", \"y\": [1, 5, 18, 15, 17, 0, 22, 5, 21, 5, 9, 14, 20, 4, 22, 2, 15, 19, 7, 19, 3, 7, 15, 23, 18, 8, 17, 8, 21, 7, 16, 6, 3, 7], \"yaxis\": \"y\"}],\n",
              "                        {\"barmode\": \"relative\", \"legend\": {\"tracegroupgap\": 0}, \"template\": {\"data\": {\"bar\": [{\"error_x\": {\"color\": \"#2a3f5f\"}, \"error_y\": {\"color\": \"#2a3f5f\"}, \"marker\": {\"line\": {\"color\": \"#E5ECF6\", \"width\": 0.5}}, \"type\": \"bar\"}], \"barpolar\": [{\"marker\": {\"line\": {\"color\": \"#E5ECF6\", \"width\": 0.5}}, \"type\": \"barpolar\"}], \"carpet\": [{\"aaxis\": {\"endlinecolor\": \"#2a3f5f\", \"gridcolor\": \"white\", \"linecolor\": \"white\", \"minorgridcolor\": \"white\", \"startlinecolor\": \"#2a3f5f\"}, \"baxis\": {\"endlinecolor\": \"#2a3f5f\", \"gridcolor\": \"white\", \"linecolor\": \"white\", \"minorgridcolor\": \"white\", \"startlinecolor\": \"#2a3f5f\"}, \"type\": \"carpet\"}], \"choropleth\": [{\"colorbar\": {\"outlinewidth\": 0, \"ticks\": \"\"}, \"type\": \"choropleth\"}], \"contour\": [{\"colorbar\": {\"outlinewidth\": 0, \"ticks\": \"\"}, \"colorscale\": [[0.0, \"#0d0887\"], [0.1111111111111111, \"#46039f\"], [0.2222222222222222, \"#7201a8\"], [0.3333333333333333, \"#9c179e\"], [0.4444444444444444, \"#bd3786\"], [0.5555555555555556, \"#d8576b\"], [0.6666666666666666, \"#ed7953\"], [0.7777777777777778, \"#fb9f3a\"], [0.8888888888888888, \"#fdca26\"], [1.0, \"#f0f921\"]], \"type\": \"contour\"}], \"contourcarpet\": [{\"colorbar\": {\"outlinewidth\": 0, \"ticks\": \"\"}, \"type\": \"contourcarpet\"}], \"heatmap\": [{\"colorbar\": {\"outlinewidth\": 0, \"ticks\": \"\"}, \"colorscale\": [[0.0, \"#0d0887\"], [0.1111111111111111, \"#46039f\"], [0.2222222222222222, \"#7201a8\"], [0.3333333333333333, \"#9c179e\"], [0.4444444444444444, \"#bd3786\"], [0.5555555555555556, \"#d8576b\"], [0.6666666666666666, \"#ed7953\"], [0.7777777777777778, \"#fb9f3a\"], [0.8888888888888888, \"#fdca26\"], [1.0, \"#f0f921\"]], \"type\": \"heatmap\"}], \"heatmapgl\": [{\"colorbar\": {\"outlinewidth\": 0, \"ticks\": \"\"}, \"colorscale\": [[0.0, \"#0d0887\"], [0.1111111111111111, \"#46039f\"], [0.2222222222222222, \"#7201a8\"], [0.3333333333333333, \"#9c179e\"], [0.4444444444444444, \"#bd3786\"], [0.5555555555555556, \"#d8576b\"], [0.6666666666666666, \"#ed7953\"], [0.7777777777777778, \"#fb9f3a\"], [0.8888888888888888, \"#fdca26\"], [1.0, \"#f0f921\"]], \"type\": \"heatmapgl\"}], \"histogram\": [{\"marker\": {\"colorbar\": {\"outlinewidth\": 0, \"ticks\": \"\"}}, \"type\": \"histogram\"}], \"histogram2d\": [{\"colorbar\": {\"outlinewidth\": 0, \"ticks\": \"\"}, \"colorscale\": [[0.0, \"#0d0887\"], [0.1111111111111111, \"#46039f\"], [0.2222222222222222, \"#7201a8\"], [0.3333333333333333, \"#9c179e\"], [0.4444444444444444, \"#bd3786\"], [0.5555555555555556, \"#d8576b\"], [0.6666666666666666, \"#ed7953\"], [0.7777777777777778, \"#fb9f3a\"], [0.8888888888888888, \"#fdca26\"], [1.0, \"#f0f921\"]], \"type\": \"histogram2d\"}], \"histogram2dcontour\": [{\"colorbar\": {\"outlinewidth\": 0, \"ticks\": \"\"}, \"colorscale\": [[0.0, \"#0d0887\"], [0.1111111111111111, \"#46039f\"], [0.2222222222222222, \"#7201a8\"], [0.3333333333333333, \"#9c179e\"], [0.4444444444444444, \"#bd3786\"], [0.5555555555555556, \"#d8576b\"], [0.6666666666666666, \"#ed7953\"], [0.7777777777777778, \"#fb9f3a\"], [0.8888888888888888, \"#fdca26\"], [1.0, \"#f0f921\"]], \"type\": \"histogram2dcontour\"}], \"mesh3d\": [{\"colorbar\": {\"outlinewidth\": 0, \"ticks\": \"\"}, \"type\": \"mesh3d\"}], \"parcoords\": [{\"line\": {\"colorbar\": {\"outlinewidth\": 0, \"ticks\": \"\"}}, \"type\": \"parcoords\"}], \"pie\": [{\"automargin\": true, \"type\": \"pie\"}], \"scatter\": [{\"marker\": {\"colorbar\": {\"outlinewidth\": 0, \"ticks\": \"\"}}, \"type\": \"scatter\"}], \"scatter3d\": [{\"line\": {\"colorbar\": {\"outlinewidth\": 0, \"ticks\": \"\"}}, \"marker\": {\"colorbar\": {\"outlinewidth\": 0, \"ticks\": \"\"}}, \"type\": \"scatter3d\"}], \"scattercarpet\": [{\"marker\": {\"colorbar\": {\"outlinewidth\": 0, \"ticks\": \"\"}}, \"type\": \"scattercarpet\"}], \"scattergeo\": [{\"marker\": {\"colorbar\": {\"outlinewidth\": 0, \"ticks\": \"\"}}, \"type\": \"scattergeo\"}], \"scattergl\": [{\"marker\": {\"colorbar\": {\"outlinewidth\": 0, \"ticks\": \"\"}}, \"type\": \"scattergl\"}], \"scattermapbox\": [{\"marker\": {\"colorbar\": {\"outlinewidth\": 0, \"ticks\": \"\"}}, \"type\": \"scattermapbox\"}], \"scatterpolar\": [{\"marker\": {\"colorbar\": {\"outlinewidth\": 0, \"ticks\": \"\"}}, \"type\": \"scatterpolar\"}], \"scatterpolargl\": [{\"marker\": {\"colorbar\": {\"outlinewidth\": 0, \"ticks\": \"\"}}, \"type\": \"scatterpolargl\"}], \"scatterternary\": [{\"marker\": {\"colorbar\": {\"outlinewidth\": 0, \"ticks\": \"\"}}, \"type\": \"scatterternary\"}], \"surface\": [{\"colorbar\": {\"outlinewidth\": 0, \"ticks\": \"\"}, \"colorscale\": [[0.0, \"#0d0887\"], [0.1111111111111111, \"#46039f\"], [0.2222222222222222, \"#7201a8\"], [0.3333333333333333, \"#9c179e\"], [0.4444444444444444, \"#bd3786\"], [0.5555555555555556, \"#d8576b\"], [0.6666666666666666, \"#ed7953\"], [0.7777777777777778, \"#fb9f3a\"], [0.8888888888888888, \"#fdca26\"], [1.0, \"#f0f921\"]], \"type\": \"surface\"}], \"table\": [{\"cells\": {\"fill\": {\"color\": \"#EBF0F8\"}, \"line\": {\"color\": \"white\"}}, \"header\": {\"fill\": {\"color\": \"#C8D4E3\"}, \"line\": {\"color\": \"white\"}}, \"type\": \"table\"}]}, \"layout\": {\"annotationdefaults\": {\"arrowcolor\": \"#2a3f5f\", \"arrowhead\": 0, \"arrowwidth\": 1}, \"coloraxis\": {\"colorbar\": {\"outlinewidth\": 0, \"ticks\": \"\"}}, \"colorscale\": {\"diverging\": [[0, \"#8e0152\"], [0.1, \"#c51b7d\"], [0.2, \"#de77ae\"], [0.3, \"#f1b6da\"], [0.4, \"#fde0ef\"], [0.5, \"#f7f7f7\"], [0.6, \"#e6f5d0\"], [0.7, \"#b8e186\"], [0.8, \"#7fbc41\"], [0.9, \"#4d9221\"], [1, \"#276419\"]], \"sequential\": [[0.0, \"#0d0887\"], [0.1111111111111111, \"#46039f\"], [0.2222222222222222, \"#7201a8\"], [0.3333333333333333, \"#9c179e\"], [0.4444444444444444, \"#bd3786\"], [0.5555555555555556, \"#d8576b\"], [0.6666666666666666, \"#ed7953\"], [0.7777777777777778, \"#fb9f3a\"], [0.8888888888888888, \"#fdca26\"], [1.0, \"#f0f921\"]], \"sequentialminus\": [[0.0, \"#0d0887\"], [0.1111111111111111, \"#46039f\"], [0.2222222222222222, \"#7201a8\"], [0.3333333333333333, \"#9c179e\"], [0.4444444444444444, \"#bd3786\"], [0.5555555555555556, \"#d8576b\"], [0.6666666666666666, \"#ed7953\"], [0.7777777777777778, \"#fb9f3a\"], [0.8888888888888888, \"#fdca26\"], [1.0, \"#f0f921\"]]}, \"colorway\": [\"#636efa\", \"#EF553B\", \"#00cc96\", \"#ab63fa\", \"#FFA15A\", \"#19d3f3\", \"#FF6692\", \"#B6E880\", \"#FF97FF\", \"#FECB52\"], \"font\": {\"color\": \"#2a3f5f\"}, \"geo\": {\"bgcolor\": \"white\", \"lakecolor\": \"white\", \"landcolor\": \"#E5ECF6\", \"showlakes\": true, \"showland\": true, \"subunitcolor\": \"white\"}, \"hoverlabel\": {\"align\": \"left\"}, \"hovermode\": \"closest\", \"mapbox\": {\"style\": \"light\"}, \"paper_bgcolor\": \"white\", \"plot_bgcolor\": \"#E5ECF6\", \"polar\": {\"angularaxis\": {\"gridcolor\": \"white\", \"linecolor\": \"white\", \"ticks\": \"\"}, \"bgcolor\": \"#E5ECF6\", \"radialaxis\": {\"gridcolor\": \"white\", \"linecolor\": \"white\", \"ticks\": \"\"}}, \"scene\": {\"xaxis\": {\"backgroundcolor\": \"#E5ECF6\", \"gridcolor\": \"white\", \"gridwidth\": 2, \"linecolor\": \"white\", \"showbackground\": true, \"ticks\": \"\", \"zerolinecolor\": \"white\"}, \"yaxis\": {\"backgroundcolor\": \"#E5ECF6\", \"gridcolor\": \"white\", \"gridwidth\": 2, \"linecolor\": \"white\", \"showbackground\": true, \"ticks\": \"\", \"zerolinecolor\": \"white\"}, \"zaxis\": {\"backgroundcolor\": \"#E5ECF6\", \"gridcolor\": \"white\", \"gridwidth\": 2, \"linecolor\": \"white\", \"showbackground\": true, \"ticks\": \"\", \"zerolinecolor\": \"white\"}}, \"shapedefaults\": {\"line\": {\"color\": \"#2a3f5f\"}}, \"ternary\": {\"aaxis\": {\"gridcolor\": \"white\", \"linecolor\": \"white\", \"ticks\": \"\"}, \"baxis\": {\"gridcolor\": \"white\", \"linecolor\": \"white\", \"ticks\": \"\"}, \"bgcolor\": \"#E5ECF6\", \"caxis\": {\"gridcolor\": \"white\", \"linecolor\": \"white\", \"ticks\": \"\"}}, \"title\": {\"x\": 0.05}, \"xaxis\": {\"automargin\": true, \"gridcolor\": \"white\", \"linecolor\": \"white\", \"ticks\": \"\", \"title\": {\"standoff\": 15}, \"zerolinecolor\": \"white\", \"zerolinewidth\": 2}, \"yaxis\": {\"automargin\": true, \"gridcolor\": \"white\", \"linecolor\": \"white\", \"ticks\": \"\", \"title\": {\"standoff\": 15}, \"zerolinecolor\": \"white\", \"zerolinewidth\": 2}}}, \"title\": {\"text\": \"\\uc6a9\\uc778\\uc2dc \\uad50\\ud1b5\\uc0ac\\uace0 \\ubc1c\\uc0dd\\uc2dc\\uac04 \\ubcc4 \\ubd80\\uc0c1\\uc790 \\ud604\\ud669\"}, \"xaxis\": {\"anchor\": \"y\", \"domain\": [0.0, 1.0], \"title\": {\"text\": \"\\ubd80\\uc0c1\\uc790\\uc218\"}}, \"yaxis\": {\"anchor\": \"x\", \"domain\": [0.0, 1.0], \"title\": {\"text\": \"\\ubc1c\\uc0dd\\uc2dc\\uac04\"}}},\n",
              "                        {\"responsive\": true}\n",
              "                    ).then(function(){\n",
              "                            \n",
              "var gd = document.getElementById('a8ea2b05-2d2d-4ecc-a494-93948ab73140');\n",
              "var x = new MutationObserver(function (mutations, observer) {{\n",
              "        var display = window.getComputedStyle(gd).display;\n",
              "        if (!display || display === 'none') {{\n",
              "            console.log([gd, 'removed!']);\n",
              "            Plotly.purge(gd);\n",
              "            observer.disconnect();\n",
              "        }}\n",
              "}});\n",
              "\n",
              "// Listen for the removal of the full notebook cells\n",
              "var notebookContainer = gd.closest('#notebook-container');\n",
              "if (notebookContainer) {{\n",
              "    x.observe(notebookContainer, {childList: true});\n",
              "}}\n",
              "\n",
              "// Listen for the clearing of the current output cell\n",
              "var outputEl = gd.closest('.output');\n",
              "if (outputEl) {{\n",
              "    x.observe(outputEl, {childList: true});\n",
              "}}\n",
              "\n",
              "                        })\n",
              "                };\n",
              "                \n",
              "            </script>\n",
              "        </div>\n",
              "</body>\n",
              "</html>"
            ]
          },
          "metadata": {
            "tags": []
          }
        }
      ]
    },
    {
      "cell_type": "code",
      "metadata": {
        "colab": {
          "base_uri": "https://localhost:8080/",
          "height": 542
        },
        "id": "D180sL1r4OBo",
        "outputId": "9a15a36e-969c-4465-bd44-573e81a6310d"
      },
      "source": [
        "fig = px.bar(my_df, x='경상자수', y='발생시간', orientation='h', title='용인시 교통사고 발생시간 별 경상자 현황')\n",
        "fig.show()"
      ],
      "execution_count": null,
      "outputs": [
        {
          "output_type": "display_data",
          "data": {
            "text/html": [
              "<html>\n",
              "<head><meta charset=\"utf-8\" /></head>\n",
              "<body>\n",
              "    <div>\n",
              "            <script src=\"https://cdnjs.cloudflare.com/ajax/libs/mathjax/2.7.5/MathJax.js?config=TeX-AMS-MML_SVG\"></script><script type=\"text/javascript\">if (window.MathJax) {MathJax.Hub.Config({SVG: {font: \"STIX-Web\"}});}</script>\n",
              "                <script type=\"text/javascript\">window.PlotlyConfig = {MathJaxConfig: 'local'};</script>\n",
              "        <script src=\"https://cdn.plot.ly/plotly-latest.min.js\"></script>    \n",
              "            <div id=\"37125da0-082a-49dc-8035-5e429c29b710\" class=\"plotly-graph-div\" style=\"height:525px; width:100%;\"></div>\n",
              "            <script type=\"text/javascript\">\n",
              "                \n",
              "                    window.PLOTLYENV=window.PLOTLYENV || {};\n",
              "                    \n",
              "                if (document.getElementById(\"37125da0-082a-49dc-8035-5e429c29b710\")) {\n",
              "                    Plotly.newPlot(\n",
              "                        '37125da0-082a-49dc-8035-5e429c29b710',\n",
              "                        [{\"alignmentgroup\": \"True\", \"hoverlabel\": {\"namelength\": 0}, \"hovertemplate\": \"\\uacbd\\uc0c1\\uc790\\uc218=%{x}<br>\\ubc1c\\uc0dd\\uc2dc\\uac04=%{y}\", \"legendgroup\": \"\", \"marker\": {\"color\": \"#636efa\"}, \"name\": \"\", \"offsetgroup\": \"\", \"orientation\": \"h\", \"showlegend\": false, \"textposition\": \"auto\", \"type\": \"bar\", \"x\": [1, 0, 0, 2, 7, 0, 4, 0, 0, 1, 0, 1, 0, 0, 0, 0, 0, 0, 0, 0, 0, 1, 0, 20, 1, 5, 0, 0, 0, 1, 0, 0, 1, 0], \"xaxis\": \"x\", \"y\": [1, 5, 18, 15, 17, 0, 22, 5, 21, 5, 9, 14, 20, 4, 22, 2, 15, 19, 7, 19, 3, 7, 15, 23, 18, 8, 17, 8, 21, 7, 16, 6, 3, 7], \"yaxis\": \"y\"}],\n",
              "                        {\"barmode\": \"relative\", \"legend\": {\"tracegroupgap\": 0}, \"template\": {\"data\": {\"bar\": [{\"error_x\": {\"color\": \"#2a3f5f\"}, \"error_y\": {\"color\": \"#2a3f5f\"}, \"marker\": {\"line\": {\"color\": \"#E5ECF6\", \"width\": 0.5}}, \"type\": \"bar\"}], \"barpolar\": [{\"marker\": {\"line\": {\"color\": \"#E5ECF6\", \"width\": 0.5}}, \"type\": \"barpolar\"}], \"carpet\": [{\"aaxis\": {\"endlinecolor\": \"#2a3f5f\", \"gridcolor\": \"white\", \"linecolor\": \"white\", \"minorgridcolor\": \"white\", \"startlinecolor\": \"#2a3f5f\"}, \"baxis\": {\"endlinecolor\": \"#2a3f5f\", \"gridcolor\": \"white\", \"linecolor\": \"white\", \"minorgridcolor\": \"white\", \"startlinecolor\": \"#2a3f5f\"}, \"type\": \"carpet\"}], \"choropleth\": [{\"colorbar\": {\"outlinewidth\": 0, \"ticks\": \"\"}, \"type\": \"choropleth\"}], \"contour\": [{\"colorbar\": {\"outlinewidth\": 0, \"ticks\": \"\"}, \"colorscale\": [[0.0, \"#0d0887\"], [0.1111111111111111, \"#46039f\"], [0.2222222222222222, \"#7201a8\"], [0.3333333333333333, \"#9c179e\"], [0.4444444444444444, \"#bd3786\"], [0.5555555555555556, \"#d8576b\"], [0.6666666666666666, \"#ed7953\"], [0.7777777777777778, \"#fb9f3a\"], [0.8888888888888888, \"#fdca26\"], [1.0, \"#f0f921\"]], \"type\": \"contour\"}], \"contourcarpet\": [{\"colorbar\": {\"outlinewidth\": 0, \"ticks\": \"\"}, \"type\": \"contourcarpet\"}], \"heatmap\": [{\"colorbar\": {\"outlinewidth\": 0, \"ticks\": \"\"}, \"colorscale\": [[0.0, \"#0d0887\"], [0.1111111111111111, \"#46039f\"], [0.2222222222222222, \"#7201a8\"], [0.3333333333333333, \"#9c179e\"], [0.4444444444444444, \"#bd3786\"], [0.5555555555555556, \"#d8576b\"], [0.6666666666666666, \"#ed7953\"], [0.7777777777777778, \"#fb9f3a\"], [0.8888888888888888, \"#fdca26\"], [1.0, \"#f0f921\"]], \"type\": \"heatmap\"}], \"heatmapgl\": [{\"colorbar\": {\"outlinewidth\": 0, \"ticks\": \"\"}, \"colorscale\": [[0.0, \"#0d0887\"], [0.1111111111111111, \"#46039f\"], [0.2222222222222222, \"#7201a8\"], [0.3333333333333333, \"#9c179e\"], [0.4444444444444444, \"#bd3786\"], [0.5555555555555556, \"#d8576b\"], [0.6666666666666666, \"#ed7953\"], [0.7777777777777778, \"#fb9f3a\"], [0.8888888888888888, \"#fdca26\"], [1.0, \"#f0f921\"]], \"type\": \"heatmapgl\"}], \"histogram\": [{\"marker\": {\"colorbar\": {\"outlinewidth\": 0, \"ticks\": \"\"}}, \"type\": \"histogram\"}], \"histogram2d\": [{\"colorbar\": {\"outlinewidth\": 0, \"ticks\": \"\"}, \"colorscale\": [[0.0, \"#0d0887\"], [0.1111111111111111, \"#46039f\"], [0.2222222222222222, \"#7201a8\"], [0.3333333333333333, \"#9c179e\"], [0.4444444444444444, \"#bd3786\"], [0.5555555555555556, \"#d8576b\"], [0.6666666666666666, \"#ed7953\"], [0.7777777777777778, \"#fb9f3a\"], [0.8888888888888888, \"#fdca26\"], [1.0, \"#f0f921\"]], \"type\": \"histogram2d\"}], \"histogram2dcontour\": [{\"colorbar\": {\"outlinewidth\": 0, \"ticks\": \"\"}, \"colorscale\": [[0.0, \"#0d0887\"], [0.1111111111111111, \"#46039f\"], [0.2222222222222222, \"#7201a8\"], [0.3333333333333333, \"#9c179e\"], [0.4444444444444444, \"#bd3786\"], [0.5555555555555556, \"#d8576b\"], [0.6666666666666666, \"#ed7953\"], [0.7777777777777778, \"#fb9f3a\"], [0.8888888888888888, \"#fdca26\"], [1.0, \"#f0f921\"]], \"type\": \"histogram2dcontour\"}], \"mesh3d\": [{\"colorbar\": {\"outlinewidth\": 0, \"ticks\": \"\"}, \"type\": \"mesh3d\"}], \"parcoords\": [{\"line\": {\"colorbar\": {\"outlinewidth\": 0, \"ticks\": \"\"}}, \"type\": \"parcoords\"}], \"pie\": [{\"automargin\": true, \"type\": \"pie\"}], \"scatter\": [{\"marker\": {\"colorbar\": {\"outlinewidth\": 0, \"ticks\": \"\"}}, \"type\": \"scatter\"}], \"scatter3d\": [{\"line\": {\"colorbar\": {\"outlinewidth\": 0, \"ticks\": \"\"}}, \"marker\": {\"colorbar\": {\"outlinewidth\": 0, \"ticks\": \"\"}}, \"type\": \"scatter3d\"}], \"scattercarpet\": [{\"marker\": {\"colorbar\": {\"outlinewidth\": 0, \"ticks\": \"\"}}, \"type\": \"scattercarpet\"}], \"scattergeo\": [{\"marker\": {\"colorbar\": {\"outlinewidth\": 0, \"ticks\": \"\"}}, \"type\": \"scattergeo\"}], \"scattergl\": [{\"marker\": {\"colorbar\": {\"outlinewidth\": 0, \"ticks\": \"\"}}, \"type\": \"scattergl\"}], \"scattermapbox\": [{\"marker\": {\"colorbar\": {\"outlinewidth\": 0, \"ticks\": \"\"}}, \"type\": \"scattermapbox\"}], \"scatterpolar\": [{\"marker\": {\"colorbar\": {\"outlinewidth\": 0, \"ticks\": \"\"}}, \"type\": \"scatterpolar\"}], \"scatterpolargl\": [{\"marker\": {\"colorbar\": {\"outlinewidth\": 0, \"ticks\": \"\"}}, \"type\": \"scatterpolargl\"}], \"scatterternary\": [{\"marker\": {\"colorbar\": {\"outlinewidth\": 0, \"ticks\": \"\"}}, \"type\": \"scatterternary\"}], \"surface\": [{\"colorbar\": {\"outlinewidth\": 0, \"ticks\": \"\"}, \"colorscale\": [[0.0, \"#0d0887\"], [0.1111111111111111, \"#46039f\"], [0.2222222222222222, \"#7201a8\"], [0.3333333333333333, \"#9c179e\"], [0.4444444444444444, \"#bd3786\"], [0.5555555555555556, \"#d8576b\"], [0.6666666666666666, \"#ed7953\"], [0.7777777777777778, \"#fb9f3a\"], [0.8888888888888888, \"#fdca26\"], [1.0, \"#f0f921\"]], \"type\": \"surface\"}], \"table\": [{\"cells\": {\"fill\": {\"color\": \"#EBF0F8\"}, \"line\": {\"color\": \"white\"}}, \"header\": {\"fill\": {\"color\": \"#C8D4E3\"}, \"line\": {\"color\": \"white\"}}, \"type\": \"table\"}]}, \"layout\": {\"annotationdefaults\": {\"arrowcolor\": \"#2a3f5f\", \"arrowhead\": 0, \"arrowwidth\": 1}, \"coloraxis\": {\"colorbar\": {\"outlinewidth\": 0, \"ticks\": \"\"}}, \"colorscale\": {\"diverging\": [[0, \"#8e0152\"], [0.1, \"#c51b7d\"], [0.2, \"#de77ae\"], [0.3, \"#f1b6da\"], [0.4, \"#fde0ef\"], [0.5, \"#f7f7f7\"], [0.6, \"#e6f5d0\"], [0.7, \"#b8e186\"], [0.8, \"#7fbc41\"], [0.9, \"#4d9221\"], [1, \"#276419\"]], \"sequential\": [[0.0, \"#0d0887\"], [0.1111111111111111, \"#46039f\"], [0.2222222222222222, \"#7201a8\"], [0.3333333333333333, \"#9c179e\"], [0.4444444444444444, \"#bd3786\"], [0.5555555555555556, \"#d8576b\"], [0.6666666666666666, \"#ed7953\"], [0.7777777777777778, \"#fb9f3a\"], [0.8888888888888888, \"#fdca26\"], [1.0, \"#f0f921\"]], \"sequentialminus\": [[0.0, \"#0d0887\"], [0.1111111111111111, \"#46039f\"], [0.2222222222222222, \"#7201a8\"], [0.3333333333333333, \"#9c179e\"], [0.4444444444444444, \"#bd3786\"], [0.5555555555555556, \"#d8576b\"], [0.6666666666666666, \"#ed7953\"], [0.7777777777777778, \"#fb9f3a\"], [0.8888888888888888, \"#fdca26\"], [1.0, \"#f0f921\"]]}, \"colorway\": [\"#636efa\", \"#EF553B\", \"#00cc96\", \"#ab63fa\", \"#FFA15A\", \"#19d3f3\", \"#FF6692\", \"#B6E880\", \"#FF97FF\", \"#FECB52\"], \"font\": {\"color\": \"#2a3f5f\"}, \"geo\": {\"bgcolor\": \"white\", \"lakecolor\": \"white\", \"landcolor\": \"#E5ECF6\", \"showlakes\": true, \"showland\": true, \"subunitcolor\": \"white\"}, \"hoverlabel\": {\"align\": \"left\"}, \"hovermode\": \"closest\", \"mapbox\": {\"style\": \"light\"}, \"paper_bgcolor\": \"white\", \"plot_bgcolor\": \"#E5ECF6\", \"polar\": {\"angularaxis\": {\"gridcolor\": \"white\", \"linecolor\": \"white\", \"ticks\": \"\"}, \"bgcolor\": \"#E5ECF6\", \"radialaxis\": {\"gridcolor\": \"white\", \"linecolor\": \"white\", \"ticks\": \"\"}}, \"scene\": {\"xaxis\": {\"backgroundcolor\": \"#E5ECF6\", \"gridcolor\": \"white\", \"gridwidth\": 2, \"linecolor\": \"white\", \"showbackground\": true, \"ticks\": \"\", \"zerolinecolor\": \"white\"}, \"yaxis\": {\"backgroundcolor\": \"#E5ECF6\", \"gridcolor\": \"white\", \"gridwidth\": 2, \"linecolor\": \"white\", \"showbackground\": true, \"ticks\": \"\", \"zerolinecolor\": \"white\"}, \"zaxis\": {\"backgroundcolor\": \"#E5ECF6\", \"gridcolor\": \"white\", \"gridwidth\": 2, \"linecolor\": \"white\", \"showbackground\": true, \"ticks\": \"\", \"zerolinecolor\": \"white\"}}, \"shapedefaults\": {\"line\": {\"color\": \"#2a3f5f\"}}, \"ternary\": {\"aaxis\": {\"gridcolor\": \"white\", \"linecolor\": \"white\", \"ticks\": \"\"}, \"baxis\": {\"gridcolor\": \"white\", \"linecolor\": \"white\", \"ticks\": \"\"}, \"bgcolor\": \"#E5ECF6\", \"caxis\": {\"gridcolor\": \"white\", \"linecolor\": \"white\", \"ticks\": \"\"}}, \"title\": {\"x\": 0.05}, \"xaxis\": {\"automargin\": true, \"gridcolor\": \"white\", \"linecolor\": \"white\", \"ticks\": \"\", \"title\": {\"standoff\": 15}, \"zerolinecolor\": \"white\", \"zerolinewidth\": 2}, \"yaxis\": {\"automargin\": true, \"gridcolor\": \"white\", \"linecolor\": \"white\", \"ticks\": \"\", \"title\": {\"standoff\": 15}, \"zerolinecolor\": \"white\", \"zerolinewidth\": 2}}}, \"title\": {\"text\": \"\\uc6a9\\uc778\\uc2dc \\uad50\\ud1b5\\uc0ac\\uace0 \\ubc1c\\uc0dd\\uc2dc\\uac04 \\ubcc4 \\uacbd\\uc0c1\\uc790 \\ud604\\ud669\"}, \"xaxis\": {\"anchor\": \"y\", \"domain\": [0.0, 1.0], \"title\": {\"text\": \"\\uacbd\\uc0c1\\uc790\\uc218\"}}, \"yaxis\": {\"anchor\": \"x\", \"domain\": [0.0, 1.0], \"title\": {\"text\": \"\\ubc1c\\uc0dd\\uc2dc\\uac04\"}}},\n",
              "                        {\"responsive\": true}\n",
              "                    ).then(function(){\n",
              "                            \n",
              "var gd = document.getElementById('37125da0-082a-49dc-8035-5e429c29b710');\n",
              "var x = new MutationObserver(function (mutations, observer) {{\n",
              "        var display = window.getComputedStyle(gd).display;\n",
              "        if (!display || display === 'none') {{\n",
              "            console.log([gd, 'removed!']);\n",
              "            Plotly.purge(gd);\n",
              "            observer.disconnect();\n",
              "        }}\n",
              "}});\n",
              "\n",
              "// Listen for the removal of the full notebook cells\n",
              "var notebookContainer = gd.closest('#notebook-container');\n",
              "if (notebookContainer) {{\n",
              "    x.observe(notebookContainer, {childList: true});\n",
              "}}\n",
              "\n",
              "// Listen for the clearing of the current output cell\n",
              "var outputEl = gd.closest('.output');\n",
              "if (outputEl) {{\n",
              "    x.observe(outputEl, {childList: true});\n",
              "}}\n",
              "\n",
              "                        })\n",
              "                };\n",
              "                \n",
              "            </script>\n",
              "        </div>\n",
              "</body>\n",
              "</html>"
            ]
          },
          "metadata": {
            "tags": []
          }
        }
      ]
    },
    {
      "cell_type": "code",
      "metadata": {
        "colab": {
          "base_uri": "https://localhost:8080/",
          "height": 542
        },
        "id": "LdjAMTkz4Q5e",
        "outputId": "3c789b3d-7580-4e6e-9ea0-fdcd3ee83a92"
      },
      "source": [
        "fig = px.bar(my_df, x='중상자수', y='발생시간', orientation='h', title='용인시 교통사고 발생시간 별 중상자 현황')\n",
        "fig.show()"
      ],
      "execution_count": null,
      "outputs": [
        {
          "output_type": "display_data",
          "data": {
            "text/html": [
              "<html>\n",
              "<head><meta charset=\"utf-8\" /></head>\n",
              "<body>\n",
              "    <div>\n",
              "            <script src=\"https://cdnjs.cloudflare.com/ajax/libs/mathjax/2.7.5/MathJax.js?config=TeX-AMS-MML_SVG\"></script><script type=\"text/javascript\">if (window.MathJax) {MathJax.Hub.Config({SVG: {font: \"STIX-Web\"}});}</script>\n",
              "                <script type=\"text/javascript\">window.PlotlyConfig = {MathJaxConfig: 'local'};</script>\n",
              "        <script src=\"https://cdn.plot.ly/plotly-latest.min.js\"></script>    \n",
              "            <div id=\"c785d0fc-c6f1-4f14-8b8d-d05c4041a5de\" class=\"plotly-graph-div\" style=\"height:525px; width:100%;\"></div>\n",
              "            <script type=\"text/javascript\">\n",
              "                \n",
              "                    window.PLOTLYENV=window.PLOTLYENV || {};\n",
              "                    \n",
              "                if (document.getElementById(\"c785d0fc-c6f1-4f14-8b8d-d05c4041a5de\")) {\n",
              "                    Plotly.newPlot(\n",
              "                        'c785d0fc-c6f1-4f14-8b8d-d05c4041a5de',\n",
              "                        [{\"alignmentgroup\": \"True\", \"hoverlabel\": {\"namelength\": 0}, \"hovertemplate\": \"\\uc911\\uc0c1\\uc790\\uc218=%{x}<br>\\ubc1c\\uc0dd\\uc2dc\\uac04=%{y}\", \"legendgroup\": \"\", \"marker\": {\"color\": \"#636efa\"}, \"name\": \"\", \"offsetgroup\": \"\", \"orientation\": \"h\", \"showlegend\": false, \"textposition\": \"auto\", \"type\": \"bar\", \"x\": [2, 2, 0, 0, 0, 0, 1, 0, 0, 0, 0, 0, 0, 0, 0, 0, 1, 0, 0, 0, 0, 0, 0, 4, 0, 0, 0, 0, 0, 0, 0, 0, 0, 0], \"xaxis\": \"x\", \"y\": [1, 5, 18, 15, 17, 0, 22, 5, 21, 5, 9, 14, 20, 4, 22, 2, 15, 19, 7, 19, 3, 7, 15, 23, 18, 8, 17, 8, 21, 7, 16, 6, 3, 7], \"yaxis\": \"y\"}],\n",
              "                        {\"barmode\": \"relative\", \"legend\": {\"tracegroupgap\": 0}, \"template\": {\"data\": {\"bar\": [{\"error_x\": {\"color\": \"#2a3f5f\"}, \"error_y\": {\"color\": \"#2a3f5f\"}, \"marker\": {\"line\": {\"color\": \"#E5ECF6\", \"width\": 0.5}}, \"type\": \"bar\"}], \"barpolar\": [{\"marker\": {\"line\": {\"color\": \"#E5ECF6\", \"width\": 0.5}}, \"type\": \"barpolar\"}], \"carpet\": [{\"aaxis\": {\"endlinecolor\": \"#2a3f5f\", \"gridcolor\": \"white\", \"linecolor\": \"white\", \"minorgridcolor\": \"white\", \"startlinecolor\": \"#2a3f5f\"}, \"baxis\": {\"endlinecolor\": \"#2a3f5f\", \"gridcolor\": \"white\", \"linecolor\": \"white\", \"minorgridcolor\": \"white\", \"startlinecolor\": \"#2a3f5f\"}, \"type\": \"carpet\"}], \"choropleth\": [{\"colorbar\": {\"outlinewidth\": 0, \"ticks\": \"\"}, \"type\": \"choropleth\"}], \"contour\": [{\"colorbar\": {\"outlinewidth\": 0, \"ticks\": \"\"}, \"colorscale\": [[0.0, \"#0d0887\"], [0.1111111111111111, \"#46039f\"], [0.2222222222222222, \"#7201a8\"], [0.3333333333333333, \"#9c179e\"], [0.4444444444444444, \"#bd3786\"], [0.5555555555555556, \"#d8576b\"], [0.6666666666666666, \"#ed7953\"], [0.7777777777777778, \"#fb9f3a\"], [0.8888888888888888, \"#fdca26\"], [1.0, \"#f0f921\"]], \"type\": \"contour\"}], \"contourcarpet\": [{\"colorbar\": {\"outlinewidth\": 0, \"ticks\": \"\"}, \"type\": \"contourcarpet\"}], \"heatmap\": [{\"colorbar\": {\"outlinewidth\": 0, \"ticks\": \"\"}, \"colorscale\": [[0.0, \"#0d0887\"], [0.1111111111111111, \"#46039f\"], [0.2222222222222222, \"#7201a8\"], [0.3333333333333333, \"#9c179e\"], [0.4444444444444444, \"#bd3786\"], [0.5555555555555556, \"#d8576b\"], [0.6666666666666666, \"#ed7953\"], [0.7777777777777778, \"#fb9f3a\"], [0.8888888888888888, \"#fdca26\"], [1.0, \"#f0f921\"]], \"type\": \"heatmap\"}], \"heatmapgl\": [{\"colorbar\": {\"outlinewidth\": 0, \"ticks\": \"\"}, \"colorscale\": [[0.0, \"#0d0887\"], [0.1111111111111111, \"#46039f\"], [0.2222222222222222, \"#7201a8\"], [0.3333333333333333, \"#9c179e\"], [0.4444444444444444, \"#bd3786\"], [0.5555555555555556, \"#d8576b\"], [0.6666666666666666, \"#ed7953\"], [0.7777777777777778, \"#fb9f3a\"], [0.8888888888888888, \"#fdca26\"], [1.0, \"#f0f921\"]], \"type\": \"heatmapgl\"}], \"histogram\": [{\"marker\": {\"colorbar\": {\"outlinewidth\": 0, \"ticks\": \"\"}}, \"type\": \"histogram\"}], \"histogram2d\": [{\"colorbar\": {\"outlinewidth\": 0, \"ticks\": \"\"}, \"colorscale\": [[0.0, \"#0d0887\"], [0.1111111111111111, \"#46039f\"], [0.2222222222222222, \"#7201a8\"], [0.3333333333333333, \"#9c179e\"], [0.4444444444444444, \"#bd3786\"], [0.5555555555555556, \"#d8576b\"], [0.6666666666666666, \"#ed7953\"], [0.7777777777777778, \"#fb9f3a\"], [0.8888888888888888, \"#fdca26\"], [1.0, \"#f0f921\"]], \"type\": \"histogram2d\"}], \"histogram2dcontour\": [{\"colorbar\": {\"outlinewidth\": 0, \"ticks\": \"\"}, \"colorscale\": [[0.0, \"#0d0887\"], [0.1111111111111111, \"#46039f\"], [0.2222222222222222, \"#7201a8\"], [0.3333333333333333, \"#9c179e\"], [0.4444444444444444, \"#bd3786\"], [0.5555555555555556, \"#d8576b\"], [0.6666666666666666, \"#ed7953\"], [0.7777777777777778, \"#fb9f3a\"], [0.8888888888888888, \"#fdca26\"], [1.0, \"#f0f921\"]], \"type\": \"histogram2dcontour\"}], \"mesh3d\": [{\"colorbar\": {\"outlinewidth\": 0, \"ticks\": \"\"}, \"type\": \"mesh3d\"}], \"parcoords\": [{\"line\": {\"colorbar\": {\"outlinewidth\": 0, \"ticks\": \"\"}}, \"type\": \"parcoords\"}], \"pie\": [{\"automargin\": true, \"type\": \"pie\"}], \"scatter\": [{\"marker\": {\"colorbar\": {\"outlinewidth\": 0, \"ticks\": \"\"}}, \"type\": \"scatter\"}], \"scatter3d\": [{\"line\": {\"colorbar\": {\"outlinewidth\": 0, \"ticks\": \"\"}}, \"marker\": {\"colorbar\": {\"outlinewidth\": 0, \"ticks\": \"\"}}, \"type\": \"scatter3d\"}], \"scattercarpet\": [{\"marker\": {\"colorbar\": {\"outlinewidth\": 0, \"ticks\": \"\"}}, \"type\": \"scattercarpet\"}], \"scattergeo\": [{\"marker\": {\"colorbar\": {\"outlinewidth\": 0, \"ticks\": \"\"}}, \"type\": \"scattergeo\"}], \"scattergl\": [{\"marker\": {\"colorbar\": {\"outlinewidth\": 0, \"ticks\": \"\"}}, \"type\": \"scattergl\"}], \"scattermapbox\": [{\"marker\": {\"colorbar\": {\"outlinewidth\": 0, \"ticks\": \"\"}}, \"type\": \"scattermapbox\"}], \"scatterpolar\": [{\"marker\": {\"colorbar\": {\"outlinewidth\": 0, \"ticks\": \"\"}}, \"type\": \"scatterpolar\"}], \"scatterpolargl\": [{\"marker\": {\"colorbar\": {\"outlinewidth\": 0, \"ticks\": \"\"}}, \"type\": \"scatterpolargl\"}], \"scatterternary\": [{\"marker\": {\"colorbar\": {\"outlinewidth\": 0, \"ticks\": \"\"}}, \"type\": \"scatterternary\"}], \"surface\": [{\"colorbar\": {\"outlinewidth\": 0, \"ticks\": \"\"}, \"colorscale\": [[0.0, \"#0d0887\"], [0.1111111111111111, \"#46039f\"], [0.2222222222222222, \"#7201a8\"], [0.3333333333333333, \"#9c179e\"], [0.4444444444444444, \"#bd3786\"], [0.5555555555555556, \"#d8576b\"], [0.6666666666666666, \"#ed7953\"], [0.7777777777777778, \"#fb9f3a\"], [0.8888888888888888, \"#fdca26\"], [1.0, \"#f0f921\"]], \"type\": \"surface\"}], \"table\": [{\"cells\": {\"fill\": {\"color\": \"#EBF0F8\"}, \"line\": {\"color\": \"white\"}}, \"header\": {\"fill\": {\"color\": \"#C8D4E3\"}, \"line\": {\"color\": \"white\"}}, \"type\": \"table\"}]}, \"layout\": {\"annotationdefaults\": {\"arrowcolor\": \"#2a3f5f\", \"arrowhead\": 0, \"arrowwidth\": 1}, \"coloraxis\": {\"colorbar\": {\"outlinewidth\": 0, \"ticks\": \"\"}}, \"colorscale\": {\"diverging\": [[0, \"#8e0152\"], [0.1, \"#c51b7d\"], [0.2, \"#de77ae\"], [0.3, \"#f1b6da\"], [0.4, \"#fde0ef\"], [0.5, \"#f7f7f7\"], [0.6, \"#e6f5d0\"], [0.7, \"#b8e186\"], [0.8, \"#7fbc41\"], [0.9, \"#4d9221\"], [1, \"#276419\"]], \"sequential\": [[0.0, \"#0d0887\"], [0.1111111111111111, \"#46039f\"], [0.2222222222222222, \"#7201a8\"], [0.3333333333333333, \"#9c179e\"], [0.4444444444444444, \"#bd3786\"], [0.5555555555555556, \"#d8576b\"], [0.6666666666666666, \"#ed7953\"], [0.7777777777777778, \"#fb9f3a\"], [0.8888888888888888, \"#fdca26\"], [1.0, \"#f0f921\"]], \"sequentialminus\": [[0.0, \"#0d0887\"], [0.1111111111111111, \"#46039f\"], [0.2222222222222222, \"#7201a8\"], [0.3333333333333333, \"#9c179e\"], [0.4444444444444444, \"#bd3786\"], [0.5555555555555556, \"#d8576b\"], [0.6666666666666666, \"#ed7953\"], [0.7777777777777778, \"#fb9f3a\"], [0.8888888888888888, \"#fdca26\"], [1.0, \"#f0f921\"]]}, \"colorway\": [\"#636efa\", \"#EF553B\", \"#00cc96\", \"#ab63fa\", \"#FFA15A\", \"#19d3f3\", \"#FF6692\", \"#B6E880\", \"#FF97FF\", \"#FECB52\"], \"font\": {\"color\": \"#2a3f5f\"}, \"geo\": {\"bgcolor\": \"white\", \"lakecolor\": \"white\", \"landcolor\": \"#E5ECF6\", \"showlakes\": true, \"showland\": true, \"subunitcolor\": \"white\"}, \"hoverlabel\": {\"align\": \"left\"}, \"hovermode\": \"closest\", \"mapbox\": {\"style\": \"light\"}, \"paper_bgcolor\": \"white\", \"plot_bgcolor\": \"#E5ECF6\", \"polar\": {\"angularaxis\": {\"gridcolor\": \"white\", \"linecolor\": \"white\", \"ticks\": \"\"}, \"bgcolor\": \"#E5ECF6\", \"radialaxis\": {\"gridcolor\": \"white\", \"linecolor\": \"white\", \"ticks\": \"\"}}, \"scene\": {\"xaxis\": {\"backgroundcolor\": \"#E5ECF6\", \"gridcolor\": \"white\", \"gridwidth\": 2, \"linecolor\": \"white\", \"showbackground\": true, \"ticks\": \"\", \"zerolinecolor\": \"white\"}, \"yaxis\": {\"backgroundcolor\": \"#E5ECF6\", \"gridcolor\": \"white\", \"gridwidth\": 2, \"linecolor\": \"white\", \"showbackground\": true, \"ticks\": \"\", \"zerolinecolor\": \"white\"}, \"zaxis\": {\"backgroundcolor\": \"#E5ECF6\", \"gridcolor\": \"white\", \"gridwidth\": 2, \"linecolor\": \"white\", \"showbackground\": true, \"ticks\": \"\", \"zerolinecolor\": \"white\"}}, \"shapedefaults\": {\"line\": {\"color\": \"#2a3f5f\"}}, \"ternary\": {\"aaxis\": {\"gridcolor\": \"white\", \"linecolor\": \"white\", \"ticks\": \"\"}, \"baxis\": {\"gridcolor\": \"white\", \"linecolor\": \"white\", \"ticks\": \"\"}, \"bgcolor\": \"#E5ECF6\", \"caxis\": {\"gridcolor\": \"white\", \"linecolor\": \"white\", \"ticks\": \"\"}}, \"title\": {\"x\": 0.05}, \"xaxis\": {\"automargin\": true, \"gridcolor\": \"white\", \"linecolor\": \"white\", \"ticks\": \"\", \"title\": {\"standoff\": 15}, \"zerolinecolor\": \"white\", \"zerolinewidth\": 2}, \"yaxis\": {\"automargin\": true, \"gridcolor\": \"white\", \"linecolor\": \"white\", \"ticks\": \"\", \"title\": {\"standoff\": 15}, \"zerolinecolor\": \"white\", \"zerolinewidth\": 2}}}, \"title\": {\"text\": \"\\uc6a9\\uc778\\uc2dc \\uad50\\ud1b5\\uc0ac\\uace0 \\ubc1c\\uc0dd\\uc2dc\\uac04 \\ubcc4 \\uc911\\uc0c1\\uc790 \\ud604\\ud669\"}, \"xaxis\": {\"anchor\": \"y\", \"domain\": [0.0, 1.0], \"title\": {\"text\": \"\\uc911\\uc0c1\\uc790\\uc218\"}}, \"yaxis\": {\"anchor\": \"x\", \"domain\": [0.0, 1.0], \"title\": {\"text\": \"\\ubc1c\\uc0dd\\uc2dc\\uac04\"}}},\n",
              "                        {\"responsive\": true}\n",
              "                    ).then(function(){\n",
              "                            \n",
              "var gd = document.getElementById('c785d0fc-c6f1-4f14-8b8d-d05c4041a5de');\n",
              "var x = new MutationObserver(function (mutations, observer) {{\n",
              "        var display = window.getComputedStyle(gd).display;\n",
              "        if (!display || display === 'none') {{\n",
              "            console.log([gd, 'removed!']);\n",
              "            Plotly.purge(gd);\n",
              "            observer.disconnect();\n",
              "        }}\n",
              "}});\n",
              "\n",
              "// Listen for the removal of the full notebook cells\n",
              "var notebookContainer = gd.closest('#notebook-container');\n",
              "if (notebookContainer) {{\n",
              "    x.observe(notebookContainer, {childList: true});\n",
              "}}\n",
              "\n",
              "// Listen for the clearing of the current output cell\n",
              "var outputEl = gd.closest('.output');\n",
              "if (outputEl) {{\n",
              "    x.observe(outputEl, {childList: true});\n",
              "}}\n",
              "\n",
              "                        })\n",
              "                };\n",
              "                \n",
              "            </script>\n",
              "        </div>\n",
              "</body>\n",
              "</html>"
            ]
          },
          "metadata": {
            "tags": []
          }
        }
      ]
    },
    {
      "cell_type": "markdown",
      "metadata": {
        "id": "fW2xEBqr2Gmn"
      },
      "source": [
        "2) 지도 활용하여 교통사고 현황 분석\n"
      ]
    },
    {
      "cell_type": "code",
      "metadata": {
        "id": "QC2-Nkow4qmy"
      },
      "source": [
        "# map에 용인시의 위치 정보를 저장\n",
        "my_map = folium.Map(location=[37.241557269641646, 127.17806024603243])\n",
        "my_map_dead = folium.Map(location=[37.241557269641646, 127.17806024603243])\n",
        "\n",
        "# 숫자형을 실수형으로 변환\n",
        "my_df = my_df.astype({'사망자수':'float64'})\n",
        "my_df = my_df.astype({'부상자수':'float64'})\n",
        "my_df = my_df.astype({'경상자수':'float64'})\n",
        "my_df = my_df.astype({'중상자수':'float64'})"
      ],
      "execution_count": null,
      "outputs": []
    },
    {
      "cell_type": "code",
      "metadata": {
        "id": "O9oFI37v5qp4"
      },
      "source": [
        "my_df.index"
      ],
      "execution_count": null,
      "outputs": []
    },
    {
      "cell_type": "code",
      "metadata": {
        "id": "zeAgtmXn7ln4"
      },
      "source": [
        "print(my_df['부상자수'])"
      ],
      "execution_count": null,
      "outputs": []
    },
    {
      "cell_type": "code",
      "metadata": {
        "id": "WP8aFKu6bQ5L"
      },
      "source": [
        "my_df['부상자수']"
      ],
      "execution_count": null,
      "outputs": []
    },
    {
      "cell_type": "code",
      "metadata": {
        "id": "dZKdLH5AO0Ql"
      },
      "source": [
        "for n in my_df.index :\n",
        "  cnt = my_df['부상자수'][n]\n",
        "  folium.CircleMarker([my_df['위도'][n], my_df['경도'][n]],\n",
        "                      radius = cnt * 10, popup = my_df['사고유형'][n] + str(my_df['부상자수'][n]),\n",
        "                      color='#3186cc', fill_color = '#3186cc'\n",
        "                      ).add_to(my_map) # radius 원의 반지름 크기\n",
        "my_map.save('용인시의 교통사고 부상자수 현황.html')"
      ],
      "execution_count": null,
      "outputs": []
    },
    {
      "cell_type": "code",
      "metadata": {
        "id": "Ku2B2x6R2IVe"
      },
      "source": [
        "for n in my_df.index :\n",
        "  cnt = my_df['사망자수'][n]\n",
        "  folium.CircleMarker([my_df['위도'][n], my_df['경도'][n]],\n",
        "                      radius = cnt * 10, popup = my_df['사고유형'][n] + str(my_df['사망자수'][n]),\n",
        "                      color='#3186cc', fill_color = '#3186cc'\n",
        "                      ).add_to(my_map_dead) # radius 원의 반지름 크기\n",
        "my_map_dead.save('용인시의 교통사고 사망자수 현황.html')"
      ],
      "execution_count": null,
      "outputs": []
    }
  ]
}