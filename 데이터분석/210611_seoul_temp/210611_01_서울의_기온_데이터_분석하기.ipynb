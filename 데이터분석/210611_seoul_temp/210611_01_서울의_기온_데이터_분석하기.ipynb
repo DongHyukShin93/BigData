{
  "nbformat": 4,
  "nbformat_minor": 0,
  "metadata": {
    "colab": {
      "name": "210611_01_서울의 기온 데이터 분석하기.ipynb",
      "provenance": [],
      "authorship_tag": "ABX9TyPfdRIiV6qy0jOdtx7yIPFO",
      "include_colab_link": true
    },
    "kernelspec": {
      "name": "python3",
      "display_name": "Python 3"
    },
    "language_info": {
      "name": "python"
    }
  },
  "cells": [
    {
      "cell_type": "markdown",
      "metadata": {
        "id": "view-in-github",
        "colab_type": "text"
      },
      "source": [
        "<a href=\"https://colab.research.google.com/github/DongHyukShin93/BigData/blob/main/210611_01_%EC%84%9C%EC%9A%B8%EC%9D%98_%EA%B8%B0%EC%98%A8_%EB%8D%B0%EC%9D%B4%ED%84%B0_%EB%B6%84%EC%84%9D%ED%95%98%EA%B8%B0.ipynb\" target=\"_parent\"><img src=\"https://colab.research.google.com/assets/colab-badge.svg\" alt=\"Open In Colab\"/></a>"
      ]
    },
    {
      "cell_type": "markdown",
      "metadata": {
        "id": "WXx4Eqyn2bUs"
      },
      "source": [
        "seoul.csv 파일 읽어오기"
      ]
    },
    {
      "cell_type": "code",
      "metadata": {
        "colab": {
          "base_uri": "https://localhost:8080/"
        },
        "id": "0zzWR_qj7nl6",
        "outputId": "7a6be7bd-3347-44d8-f5a9-f8abea0095d0"
      },
      "source": [
        "import csv\n",
        "\n",
        "f = open(\"/content/seoul.csv\", \"r\", encoding=\"cp949\")\n",
        "data = csv.reader(f, delimiter=\",\")\n",
        "print(data)\n",
        "f.close()"
      ],
      "execution_count": null,
      "outputs": [
        {
          "output_type": "stream",
          "text": [
            "<_csv.reader object at 0x7f4ead2cfdd0>\n"
          ],
          "name": "stdout"
        }
      ]
    },
    {
      "cell_type": "code",
      "metadata": {
        "id": "Uv0pCVHSlySX"
      },
      "source": [
        "import csv\n",
        "\n",
        "f = open(\"/content/seoul.csv\", \"r\", encoding=\"cp949\") # 파일 열기 (파일 경로, 파일을 어떻게 할지(\"r\" : 읽기 모드,\"w\" : 쓰기 모드(원본 데이터 삭제),\"\" : 추가 모드), encoding=\"파일 형태\")\n",
        "data = csv.reader(f, delimiter=\",\") # 구분자로 많이 쓰이는 것 ,(콤마) -> ^(캐럿) -> | (or 연산자) 순으로 많이 쓴다\n",
        "\n",
        "# 데이터를 한 줄씩 출력\n",
        "for row in data :\n",
        "  print(row) # 한 줄이 List형으로 반환\n",
        "\n",
        "f.close() # 꼭 닫아주어야 한다"
      ],
      "execution_count": null,
      "outputs": []
    },
    {
      "cell_type": "markdown",
      "metadata": {
        "id": "nULG081z7hBp"
      },
      "source": [
        "헤더 저장하기"
      ]
    },
    {
      "cell_type": "code",
      "metadata": {
        "colab": {
          "base_uri": "https://localhost:8080/"
        },
        "id": "yphA7RnI3SlC",
        "outputId": "1f406c80-faa8-4ceb-b189-f9fd068e074a"
      },
      "source": [
        "import csv\n",
        "\n",
        "f = open(\"/content/seoul.csv\", \"r\", encoding=\"cp949\")\n",
        "data = csv.reader(f, delimiter=\",\")\n",
        "header = next(data) # next() 함수는 첫 번째 행을 읽은 후 커서를 다음 향으로 이동시키는 함수 # column이 있다면 column을 제외하고 dataset부터 읽을 수 있도록 준비하는 과정\n",
        "print(header)\n",
        "f.close()"
      ],
      "execution_count": null,
      "outputs": [
        {
          "output_type": "stream",
          "text": [
            "['날짜', '지점', '평균기온(℃)', '최저기온(℃)', '최고기온(℃)']\n"
          ],
          "name": "stdout"
        }
      ]
    },
    {
      "cell_type": "code",
      "metadata": {
        "colab": {
          "base_uri": "https://localhost:8080/"
        },
        "id": "MNAyh_Il8F8H",
        "outputId": "de700392-1007-463e-b865-a9ed13381411"
      },
      "source": [
        "import csv\n",
        "\n",
        "f = open(\"/content/seoul.csv\", \"r\", encoding=\"cp949\")\n",
        "data = csv.reader(f, delimiter=\",\")\n",
        "\n",
        "header = next(data) # next() 함수는 첫 번째 행을 읽은 후 커서를 다음 향으로 이동시키는 함수\n",
        "print(header)\n",
        "\n",
        "print(next(data)) # 두 번째 행 읽은 후 다음 행으로 이동\n",
        "f.close()"
      ],
      "execution_count": null,
      "outputs": [
        {
          "output_type": "stream",
          "text": [
            "['날짜', '지점', '평균기온(℃)', '최저기온(℃)', '최고기온(℃)']\n",
            "['1907-10-01', '108', '13.5', '7.9', '20.7']\n"
          ],
          "name": "stdout"
        }
      ]
    },
    {
      "cell_type": "code",
      "metadata": {
        "id": "9QrDI1i18tFB"
      },
      "source": [
        "import csv\n",
        "\n",
        "f = open(\"/content/seoul.csv\", \"r\", encoding=\"cp949\")\n",
        "data = csv.reader(f, delimiter=\",\")\n",
        "\n",
        "header = next(data) # 헤더 추출\n",
        "print(header)\n",
        "\n",
        "# 데이터를 한 줄씩 출력\n",
        "for row in data :\n",
        "  print(row) # 한 줄이 List형으로 반환\n",
        "\n",
        "f.close() # 꼭 닫아주어야 한다"
      ],
      "execution_count": null,
      "outputs": []
    },
    {
      "cell_type": "markdown",
      "metadata": {
        "id": "k5WDzQvtIWGl"
      },
      "source": [
        "-> 기상 관측 이래, 서울의 최고 기온이 가장 높았던 날은 언제였고, 몇 도였을까?<br>날짜, 최고기온 데이터를 사용"
      ]
    },
    {
      "cell_type": "markdown",
      "metadata": {
        "id": "8HqqOOFTI6aB"
      },
      "source": [
        "-> 기상 관측 이래, 서울의 최저 기온이 가장 낮았던 날은 언제였고, 몇 도였을까?<br>\n",
        "날짜, 최저기온 데이터를 사용"
      ]
    },
    {
      "cell_type": "markdown",
      "metadata": {
        "id": "mEpCSaV-JBkR"
      },
      "source": [
        "-> 기상 관측 이래, 서울의 평균 기온이 가장 높았던 날은 언제였고, 몇 도였을까?<br>\n",
        "날짜, 평균기온 데이터를 사용"
      ]
    },
    {
      "cell_type": "markdown",
      "metadata": {
        "id": "hhPlmzlJJNiE"
      },
      "source": [
        "-> 기상 관측 이래, 서울의 평균 기온이 가장 낮았던 날은 언제였고, 몇 도였을까?<br>\n",
        "날짜, 평균기온 데이터를 사용"
      ]
    }
  ]
}
