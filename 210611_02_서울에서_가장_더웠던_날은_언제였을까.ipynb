{
  "nbformat": 4,
  "nbformat_minor": 0,
  "metadata": {
    "colab": {
      "name": "210611_02_서울에서 가장 더웠던 날은 언제였을까.ipynb",
      "provenance": [],
      "authorship_tag": "ABX9TyP3DHs5VEK2bRcXziIVFuD7",
      "include_colab_link": true
    },
    "kernelspec": {
      "name": "python3",
      "display_name": "Python 3"
    },
    "language_info": {
      "name": "python"
    }
  },
  "cells": [
    {
      "cell_type": "markdown",
      "metadata": {
        "id": "view-in-github",
        "colab_type": "text"
      },
      "source": [
        "<a href=\"https://colab.research.google.com/github/DongHyukShin93/BigData/blob/main/210611_02_%EC%84%9C%EC%9A%B8%EC%97%90%EC%84%9C_%EA%B0%80%EC%9E%A5_%EB%8D%94%EC%9B%A0%EB%8D%98_%EB%82%A0%EC%9D%80_%EC%96%B8%EC%A0%9C%EC%98%80%EC%9D%84%EA%B9%8C.ipynb\" target=\"_parent\"><img src=\"https://colab.research.google.com/assets/colab-badge.svg\" alt=\"Open In Colab\"/></a>"
      ]
    },
    {
      "cell_type": "markdown",
      "metadata": {
        "id": "2Etqq9PZh2qc"
      },
      "source": [
        "Step 1. 데이터 불러서 한 행씩 불러오기"
      ]
    },
    {
      "cell_type": "code",
      "metadata": {
        "id": "y8u39bhUhudH"
      },
      "source": [
        "import csv\n",
        "\n",
        "f = open(\"/content/seoul.csv\",\"r\",encoding=\"cp949\")\n",
        "\n",
        "data  = csv.reader(f)\n",
        "header = next(data)\n",
        "\n",
        "for row in data :\n",
        "  print(row)\n",
        "  # 최고기온 데이터만 추출 -> error 발생 -> Why? 결측치가 있기 때문에 -> 어떻게 처리할까?\n",
        "  row[-1] = float(row[-1]) # row[4] -> 제일 마지막 column이기 때문에 -1로 처리\n",
        "\n",
        "f.close()"
      ],
      "execution_count": null,
      "outputs": []
    },
    {
      "cell_type": "markdown",
      "metadata": {
        "id": "mUsBLAK4kstt"
      },
      "source": [
        "Step 2. 데이터 중 최고 기온을 실수로 변환하여 한 행씩 출력하기"
      ]
    },
    {
      "cell_type": "code",
      "metadata": {
        "id": "s617_fexkRRA"
      },
      "source": [
        "import csv\n",
        "\n",
        "max_temp = -999 # 최고 기온 값을 저장할 변수 -> 왜 0 안할까? -> 명확한 결과를 위해 극적인 값으로 셋팅\n",
        "max_date = \"\" # 최고 기온이 가장 높았던 날짜를 저장하는 변수\n",
        "\n",
        "f = open(\"/content/seoul.csv\",\"r\",encoding=\"cp949\")\n",
        "\n",
        "data = csv.reader(f)\n",
        "header = next(data)\n",
        "\n",
        "for row in data :\n",
        "  # 최고 기온 데이터가 ''(결측치) 확인\n",
        "  if row[-1] == '' :\n",
        "    row[-1] = -999 # -999를 넣어서 빈 문자열('')이 있던 자리라고 표시\n",
        "\n",
        "  row[-1] = float(row[-1]) # 기온 데이터를 실수형으로 변환\n",
        "  print(row[0], row[-1]) # 날짜 데이터와 같이 출력"
      ],
      "execution_count": null,
      "outputs": []
    },
    {
      "cell_type": "markdown",
      "metadata": {
        "id": "UeZvr4i9rfhV"
      },
      "source": [
        "Step 3. 최고 기온과 최고 기온이었던 날짜 찾기"
      ]
    },
    {
      "cell_type": "code",
      "metadata": {
        "colab": {
          "base_uri": "https://localhost:8080/"
        },
        "id": "d7SwVV8HniVg",
        "outputId": "30bbb108-e78b-44e3-cf27-004f2b37d949"
      },
      "source": [
        "import csv\n",
        "\n",
        "max_temp = -999 # 최고 기온 값을 저장할 변수 -> 왜 0 안할까? -> 명확한 결과를 위해 극적인 값으로 셋팅\n",
        "max_date = \"\" # 최고 기온이 가장 높았던 날짜를 저장하는 변수\n",
        "\n",
        "f = open(\"/content/seoul.csv\",\"r\",encoding=\"cp949\")\n",
        "\n",
        "data = csv.reader(f)\n",
        "header = next(data)\n",
        "\n",
        "for row in data :\n",
        "  # 최고 기온 데이터가 ''(결측치) 확인\n",
        "  if row[-1] == '' :\n",
        "    row[-1] = -999 # -999를 넣어서 빈 문자열('')이 있던 자리라고 표시\n",
        "\n",
        "  row[-1] = float(row[-1]) # 기온 데이터를 실수형으로 변환\n",
        "\n",
        "  # 최고 기온 정보를 저장\n",
        "  if max_temp < row[-1] :\n",
        "    max_date = row[0]\n",
        "    max_temp = row[-1]\n",
        "\n",
        "f.close()\n",
        "\n",
        "print(f'기상 관측 이래 서울의 최고 기온이 가장 높았던 날은 {max_date}로, {max_temp} 도 였습니다.')"
      ],
      "execution_count": null,
      "outputs": [
        {
          "output_type": "stream",
          "text": [
            "기상 관측 이래 서울의 최고 기온이 가장 높았던 날은 2018-08-01로, 39.6 도 였습니다.\n"
          ],
          "name": "stdout"
        }
      ]
    },
    {
      "cell_type": "markdown",
      "metadata": {
        "id": "VNE3cl9StR31"
      },
      "source": [
        "Step 3-1. 최저 기온과 최저 기온이었던 날짜 찾기"
      ]
    },
    {
      "cell_type": "code",
      "metadata": {
        "colab": {
          "base_uri": "https://localhost:8080/"
        },
        "id": "j98EH25osqld",
        "outputId": "270c046b-3531-430b-cc76-94fb6fa8dce5"
      },
      "source": [
        "import csv\n",
        "\n",
        "min_temp = 999 # 최고 기온 값을 저장할 변수 -> 왜 0 안할까? -> 명확한 결과를 위해 극적인 값으로 셋팅\n",
        "min_date = \"\" # 최고 기온이 가장 높았던 날짜를 저장하는 변수\n",
        "\n",
        "f = open(\"/content/seoul.csv\",\"r\",encoding=\"cp949\")\n",
        "\n",
        "data = csv.reader(f)\n",
        "header = next(data)\n",
        "\n",
        "for row in data :\n",
        "  # 최고 기온 데이터가 ''(결측치) 확인\n",
        "  if row[3] == '' :\n",
        "    row[3] = 999 # -999를 넣어서 빈 문자열('')이 있던 자리라고 표시\n",
        "\n",
        "  row[3] = float(row[3]) # 기온 데이터를 실수형으로 변환\n",
        "\n",
        "  # 최고 기온 정보를 저장\n",
        "  if min_temp > row[3] :\n",
        "    min_date = row[0]\n",
        "    min_temp = row[3]\n",
        "\n",
        "f.close()\n",
        "\n",
        "print(f'기상 관측 이래 서울의 최저 기온이 가장 낮았던 날은 {min_date}로, {min_temp} 도 였습니다.')"
      ],
      "execution_count": null,
      "outputs": [
        {
          "output_type": "stream",
          "text": [
            "기상 관측 이래 서울의 최저 기온이 가장 낮았던 날은 1927-12-31로, -23.1 도 였습니다.\n"
          ],
          "name": "stdout"
        }
      ]
    },
    {
      "cell_type": "code",
      "metadata": {
        "colab": {
          "base_uri": "https://localhost:8080/"
        },
        "id": "lNdRCbAfs75j",
        "outputId": "1e1ab693-93bf-4ffe-a972-158c6c38b997"
      },
      "source": [
        "# Step 3-2. 평균기온 중 최저기온\n",
        "import csv\n",
        "\n",
        "mean_temp = 999\n",
        "mean_date = \"\"\n",
        "\n",
        "f = open(\"/content/seoul.csv\",\"r\",encoding=\"cp949\")\n",
        "data = csv.reader(f)\n",
        "header = next(data)\n",
        "\n",
        "for row in data :\n",
        "  if row[2] == \"\" :\n",
        "    row[2] = mean_temp # 고정값이기 때문에 for문 안에서 바뀌는 변수 mean_temp를 쓰면 안된다\n",
        "  \n",
        "  row[2] = float(row[2])\n",
        "\n",
        "  if mean_temp > row[2] :\n",
        "    mean_date = row[0]\n",
        "    mean_temp = row[2]\n",
        "\n",
        "f.close()\n",
        "\n",
        "print(\"기상 관측 아래 서울의 평균 기온이 가장 낮았던 날은 %s로, %.1f 도 였습니다.\" %(mean_date, mean_temp))"
      ],
      "execution_count": null,
      "outputs": [
        {
          "output_type": "stream",
          "text": [
            "기상 관측 아래 서울의 평균 기온이 가장 낮았던 날은 1915-01-13로, -19.2 도 였습니다.\n"
          ],
          "name": "stdout"
        }
      ]
    },
    {
      "cell_type": "code",
      "metadata": {
        "colab": {
          "base_uri": "https://localhost:8080/"
        },
        "id": "LqTK3szvyn2z",
        "outputId": "3bae3042-2dfb-4099-dde7-edb53d710e94"
      },
      "source": [
        "# Step 3-3. 평균기온 중 최고기온\n",
        "\n",
        "mean_date = \"\"\n",
        "mean_temp = -999\n",
        "\n",
        "f = open(\"/content/seoul.csv\",\"r\",encoding=\"cp949\")\n",
        "data = csv.reader(f)\n",
        "header = next(data)\n",
        "\n",
        "for row in data :\n",
        "  if row[2] == \"\" :\n",
        "    row[2] = -999\n",
        "\n",
        "  row[2] = float(row[2])\n",
        "\n",
        "  if mean_temp < row[2] :\n",
        "    mean_date = row[0]\n",
        "    mean_temp = row[2]\n",
        "\n",
        "f.close()\n",
        "\n",
        "print(\"기상 관측 아래 서울의 평균 기온이 가장 높았던 날은\",mean_date+\"로, \",mean_temp,\"도 였습니다.\")"
      ],
      "execution_count": null,
      "outputs": [
        {
          "output_type": "stream",
          "text": [
            "기상 관측 아래 서울의 평균 기온이 가장 높았던 날은 2018-08-02로,  33.7 도 였습니다.\n"
          ],
          "name": "stdout"
        }
      ]
    },
    {
      "cell_type": "code",
      "metadata": {
        "id": "yoILeKB2HFzz"
      },
      "source": [
        "# Step 3-4. 최고기온 중에서 최저 기온 뽑기\n",
        "\n",
        "import csv\n",
        "\n",
        "f = open(\"/content/seoul.csv\",\"r\",encoding=\"\")"
      ],
      "execution_count": null,
      "outputs": []
    }
  ]
}