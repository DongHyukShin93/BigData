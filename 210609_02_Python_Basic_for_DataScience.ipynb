{
  "nbformat": 4,
  "nbformat_minor": 0,
  "metadata": {
    "colab": {
      "name": "210609_02_Python_Basic_for_DataScience.ipynb",
      "provenance": [],
      "collapsed_sections": [],
      "authorship_tag": "ABX9TyOmhSXC2DdED7Mo+BrmjIN0",
      "include_colab_link": true
    },
    "kernelspec": {
      "name": "python3",
      "display_name": "Python 3"
    },
    "language_info": {
      "name": "python"
    }
  },
  "cells": [
    {
      "cell_type": "markdown",
      "metadata": {
        "id": "view-in-github",
        "colab_type": "text"
      },
      "source": [
        "<a href=\"https://colab.research.google.com/github/DongHyukShin93/BigData/blob/main/210609_02_Python_Basic_for_DataScience.ipynb\" target=\"_parent\"><img src=\"https://colab.research.google.com/assets/colab-badge.svg\" alt=\"Open In Colab\"/></a>"
      ]
    },
    {
      "cell_type": "markdown",
      "metadata": {
        "id": "JHJ-jAAewAqe"
      },
      "source": [
        "strip() 공백 제거 함수"
      ]
    },
    {
      "cell_type": "code",
      "metadata": {
        "colab": {
          "base_uri": "https://localhost:8080/",
          "height": 35
        },
        "id": "R97jvvD0vkgY",
        "outputId": "0bf89b14-aee8-44a7-efc4-ca9b5d42ffb3"
      },
      "source": [
        "st = \"Hello, World! \\t\\t\\n\" # 모든 줄 바꿈과 탭(\\n, \\r, \\t)\n",
        "st"
      ],
      "execution_count": null,
      "outputs": [
        {
          "output_type": "execute_result",
          "data": {
            "application/vnd.google.colaboratory.intrinsic+json": {
              "type": "string"
            },
            "text/plain": [
              "'Hello, World! \\t\\t\\n'"
            ]
          },
          "metadata": {
            "tags": []
          },
          "execution_count": 1
        }
      ]
    },
    {
      "cell_type": "code",
      "metadata": {
        "colab": {
          "base_uri": "https://localhost:8080/",
          "height": 35
        },
        "id": "eRSvD4TGwWjn",
        "outputId": "48e10933-2fd4-4aa4-ebf6-d5c3ab747796"
      },
      "source": [
        "st.strip() # 모든 공백 제거"
      ],
      "execution_count": null,
      "outputs": [
        {
          "output_type": "execute_result",
          "data": {
            "application/vnd.google.colaboratory.intrinsic+json": {
              "type": "string"
            },
            "text/plain": [
              "'Hello, World!'"
            ]
          },
          "metadata": {
            "tags": []
          },
          "execution_count": 3
        }
      ]
    },
    {
      "cell_type": "code",
      "metadata": {
        "colab": {
          "base_uri": "https://localhost:8080/",
          "height": 35
        },
        "id": "MuJajNOcwlSR",
        "outputId": "aaed6cee-7c33-435a-e44e-eb96aa5d6c5a"
      },
      "source": [
        "st.lstrip() # 왼쪽 공백 제거"
      ],
      "execution_count": null,
      "outputs": [
        {
          "output_type": "execute_result",
          "data": {
            "application/vnd.google.colaboratory.intrinsic+json": {
              "type": "string"
            },
            "text/plain": [
              "'Hello, World! \\t\\t\\n'"
            ]
          },
          "metadata": {
            "tags": []
          },
          "execution_count": 4
        }
      ]
    },
    {
      "cell_type": "code",
      "metadata": {
        "colab": {
          "base_uri": "https://localhost:8080/",
          "height": 35
        },
        "id": "EVXrt9rNw0Ni",
        "outputId": "7370308d-f195-4e36-91de-ddb6f420d6bd"
      },
      "source": [
        "st.rstrip() # 오른쪽 공백 제거"
      ],
      "execution_count": null,
      "outputs": [
        {
          "output_type": "execute_result",
          "data": {
            "application/vnd.google.colaboratory.intrinsic+json": {
              "type": "string"
            },
            "text/plain": [
              "'Hello, World!'"
            ]
          },
          "metadata": {
            "tags": []
          },
          "execution_count": 5
        }
      ]
    },
    {
      "cell_type": "markdown",
      "metadata": {
        "id": "co8shcJjxMLH"
      },
      "source": [
        "split(delim=\"\") 문자열 자르기 함수"
      ]
    },
    {
      "cell_type": "code",
      "metadata": {
        "colab": {
          "base_uri": "https://localhost:8080/"
        },
        "id": "RBrOm1Q1xVew",
        "outputId": "dc72d188-4cba-4639-9118-fbafaf6d946b"
      },
      "source": [
        "\"Hello, world!\".split() # delim은 구분자로, default 값은 공백"
      ],
      "execution_count": null,
      "outputs": [
        {
          "output_type": "execute_result",
          "data": {
            "text/plain": [
              "['Hello,', 'world!']"
            ]
          },
          "metadata": {
            "tags": []
          },
          "execution_count": 8
        }
      ]
    },
    {
      "cell_type": "code",
      "metadata": {
        "colab": {
          "base_uri": "https://localhost:8080/"
        },
        "id": "8A6L5kGIxnAc",
        "outputId": "b6503e50-791f-4ba7-cec4-7ebb0ec0c4a7"
      },
      "source": [
        "로\"Hello, world!\".split(\",\") # 괄호안에 문자를 넣게 되면 구분자를 괄호 안의 문자(지금은 , ) 로 설정"
      ],
      "execution_count": null,
      "outputs": [
        {
          "output_type": "execute_result",
          "data": {
            "text/plain": [
              "['Hello', ' world!']"
            ]
          },
          "metadata": {
            "tags": []
          },
          "execution_count": 12
        }
      ]
    },
    {
      "cell_type": "code",
      "metadata": {
        "colab": {
          "base_uri": "https://localhost:8080/"
        },
        "id": "ec-kfJngx6je",
        "outputId": "14f56f8d-0006-4dbf-9bca-c4b9c7d458ba"
      },
      "source": [
        "\"www.networksciencelab.com\".split(\".\")"
      ],
      "execution_count": null,
      "outputs": [
        {
          "output_type": "execute_result",
          "data": {
            "text/plain": [
              "['www', 'networksciencelab', 'com']"
            ]
          },
          "metadata": {
            "tags": []
          },
          "execution_count": 13
        }
      ]
    },
    {
      "cell_type": "markdown",
      "metadata": {
        "id": "fmuqNAfQytSE"
      },
      "source": [
        "join(list) 문자열을 연결시키는 함수"
      ]
    },
    {
      "cell_type": "code",
      "metadata": {
        "colab": {
          "base_uri": "https://localhost:8080/",
          "height": 35
        },
        "id": "MFikPWYYyRDT",
        "outputId": "4479c33b-5a3f-45b7-e4fe-515246c6a419"
      },
      "source": [
        "\", \".join([\"alpha\",\"bravo\",\"charlie\",\"delta\"]) # join() 함수 안에 문자열로 이루어진 List를 하나의 문자열로 붙인다 -> 문자열 조각을 재조합"
      ],
      "execution_count": null,
      "outputs": [
        {
          "output_type": "execute_result",
          "data": {
            "application/vnd.google.colaboratory.intrinsic+json": {
              "type": "string"
            },
            "text/plain": [
              "'alpha, bravo, charlie, delta'"
            ]
          },
          "metadata": {
            "tags": []
          },
          "execution_count": 15
        }
      ]
    },
    {
      "cell_type": "code",
      "metadata": {
        "colab": {
          "base_uri": "https://localhost:8080/",
          "height": 35
        },
        "id": "ZlErsqrYzFDr",
        "outputId": "52d2f75a-7c9d-4def-a1f0-38392ca17664"
      },
      "source": [
        "# 1) . 구분자로 자른다\n",
        "a = \"1.617.305.1985\".split(\".\")\n",
        "# 2) a 라는 List를 - 구분자로 붙인다\n",
        "\"-\".join(a)"
      ],
      "execution_count": null,
      "outputs": [
        {
          "output_type": "execute_result",
          "data": {
            "application/vnd.google.colaboratory.intrinsic+json": {
              "type": "string"
            },
            "text/plain": [
              "'1-617-305-1985'"
            ]
          },
          "metadata": {
            "tags": []
          },
          "execution_count": 18
        }
      ]
    },
    {
      "cell_type": "code",
      "metadata": {
        "colab": {
          "base_uri": "https://localhost:8080/",
          "height": 35
        },
        "id": "pe9t4QErzvZU",
        "outputId": "e5ccc842-940c-4168-9ff3-959e149a79b9"
      },
      "source": [
        "# 굳이 변수를 만들어주지 않아도 가능하다\n",
        "\"-\".join(\"1.617.305.1985\".split(\".\"))"
      ],
      "execution_count": null,
      "outputs": [
        {
          "output_type": "execute_result",
          "data": {
            "application/vnd.google.colaboratory.intrinsic+json": {
              "type": "string"
            },
            "text/plain": [
              "'1-617-305-1985'"
            ]
          },
          "metadata": {
            "tags": []
          },
          "execution_count": 19
        }
      ]
    },
    {
      "cell_type": "code",
      "metadata": {
        "colab": {
          "base_uri": "https://localhost:8080/",
          "height": 35
        },
        "id": "1l9WWT9N0age",
        "outputId": "fcd10eac-6bfe-4d07-c175-15b76e16444d"
      },
      "source": [
        "\" \".join(\"This string\\n\\r has many\\t\\tspaces\".split())"
      ],
      "execution_count": null,
      "outputs": [
        {
          "output_type": "execute_result",
          "data": {
            "application/vnd.google.colaboratory.intrinsic+json": {
              "type": "string"
            },
            "text/plain": [
              "'This string has many spaces'"
            ]
          },
          "metadata": {
            "tags": []
          },
          "execution_count": 20
        }
      ]
    },
    {
      "cell_type": "code",
      "metadata": {
        "colab": {
          "base_uri": "https://localhost:8080/",
          "height": 35
        },
        "id": "CgoIcJFK0thh",
        "outputId": "9c79076e-c9e5-4040-8b42-545f87596aaa"
      },
      "source": [
        "# 1) \\n\\r 공백 데이터 기준으로 자르기\n",
        "ls = \"This string\\n\\r has many\\t\\tspaces\".split()\n",
        "# 2) 공백 한칸으로 재조합\n",
        "\" \".join(ls)"
      ],
      "execution_count": null,
      "outputs": [
        {
          "output_type": "execute_result",
          "data": {
            "application/vnd.google.colaboratory.intrinsic+json": {
              "type": "string"
            },
            "text/plain": [
              "'This string has many spaces'"
            ]
          },
          "metadata": {
            "tags": []
          },
          "execution_count": 21
        }
      ]
    },
    {
      "cell_type": "markdown",
      "metadata": {
        "id": "d1QgLi0U1lI4"
      },
      "source": [
        "find(needle) 해당 문자열에 부문 문자열 needle이 처음 등장하는 인덱스(위치)를 반환, 없으면 -1을 반환 (대소문자 구분)"
      ]
    },
    {
      "cell_type": "code",
      "metadata": {
        "colab": {
          "base_uri": "https://localhost:8080/"
        },
        "id": "kl2IShiP1DrI",
        "outputId": "3cbc6838-9e6a-48f3-a00c-3ba7f5a9bfda"
      },
      "source": [
        "\"www.networksciencelab.com\".find(\".com\") # needle이 하나이상이면 첫번째 문자의 위치 반환"
      ],
      "execution_count": null,
      "outputs": [
        {
          "output_type": "execute_result",
          "data": {
            "text/plain": [
              "21"
            ]
          },
          "metadata": {
            "tags": []
          },
          "execution_count": 22
        }
      ]
    },
    {
      "cell_type": "code",
      "metadata": {
        "colab": {
          "base_uri": "https://localhost:8080/"
        },
        "id": "t_CSFeSw2HxO",
        "outputId": "1e3628ff-ecdc-46f6-a63c-b764c0bf356d"
      },
      "source": [
        "\"www.networksciencelab.com\".find(\".Com\") # 대소문자 구분한다는 것 확인"
      ],
      "execution_count": null,
      "outputs": [
        {
          "output_type": "execute_result",
          "data": {
            "text/plain": [
              "-1"
            ]
          },
          "metadata": {
            "tags": []
          },
          "execution_count": 23
        }
      ]
    },
    {
      "cell_type": "markdown",
      "metadata": {
        "id": "ggQ6WEsA2hVR"
      },
      "source": [
        "count(needle) 해당 문자열에서 needle이 등장하는 횟수를 반환하는 함수 (대소문자 구분)"
      ]
    },
    {
      "cell_type": "code",
      "metadata": {
        "colab": {
          "base_uri": "https://localhost:8080/"
        },
        "id": "9swpK91L2a0Y",
        "outputId": "59abca5d-4d3e-4376-a117-f7e96a3871db"
      },
      "source": [
        "\"www.networksciencelab.com\".count(\".\")"
      ],
      "execution_count": null,
      "outputs": [
        {
          "output_type": "execute_result",
          "data": {
            "text/plain": [
              "2"
            ]
          },
          "metadata": {
            "tags": []
          },
          "execution_count": 24
        }
      ]
    },
    {
      "cell_type": "code",
      "metadata": {
        "colab": {
          "base_uri": "https://localhost:8080/"
        },
        "id": "z5wlWLR92wv6",
        "outputId": "4a21421b-1dbf-423c-e2bd-771215b92b3c"
      },
      "source": [
        "\"www.networksciencelab.com\".count(\"w\")"
      ],
      "execution_count": null,
      "outputs": [
        {
          "output_type": "execute_result",
          "data": {
            "text/plain": [
              "4"
            ]
          },
          "metadata": {
            "tags": []
          },
          "execution_count": 26
        }
      ]
    },
    {
      "cell_type": "code",
      "metadata": {
        "colab": {
          "base_uri": "https://localhost:8080/"
        },
        "id": "ERoR5z4T24Hd",
        "outputId": "7bd646d7-f8f7-4350-f03d-2689d323496f"
      },
      "source": [
        "\"www.networksciencelab.com\".count(\"C\") # count() 횟수를 반환하기 때문에 없는 값을 괄호 안에 넣으면 0을 반환"
      ],
      "execution_count": null,
      "outputs": [
        {
          "output_type": "execute_result",
          "data": {
            "text/plain": [
              "0"
            ]
          },
          "metadata": {
            "tags": []
          },
          "execution_count": 27
        }
      ]
    },
    {
      "cell_type": "markdown",
      "metadata": {
        "id": "s-woFvEq3V1-"
      },
      "source": [
        "프레디케이트 함수 -> 문자열 s가 특정 클래스에 속하는지 True, False로 반환. is 로 시작하는 함수는 \"이거 있니?\"라고 묻는 느낌으로 True or False로 값을 반환"
      ]
    },
    {
      "cell_type": "code",
      "metadata": {
        "colab": {
          "base_uri": "https://localhost:8080/"
        },
        "id": "snBemCHn3gYf",
        "outputId": "c8172331-6584-4f75-bb46-e71c03cda100"
      },
      "source": [
        "\"www.networksciencelab.com\".islower() # 모든 알파벳 문자가 소문자인지 체크"
      ],
      "execution_count": null,
      "outputs": [
        {
          "output_type": "execute_result",
          "data": {
            "text/plain": [
              "True"
            ]
          },
          "metadata": {
            "tags": []
          },
          "execution_count": 31
        }
      ]
    },
    {
      "cell_type": "code",
      "metadata": {
        "colab": {
          "base_uri": "https://localhost:8080/"
        },
        "id": "-uZg8stZ34J4",
        "outputId": "215c1aa5-8569-4003-9f13-061a795a0579"
      },
      "source": [
        "\"www.networksciencelab.com\".isupper() # 모든 알파벳 문자가 대문자인지 체크"
      ],
      "execution_count": null,
      "outputs": [
        {
          "output_type": "execute_result",
          "data": {
            "text/plain": [
              "False"
            ]
          },
          "metadata": {
            "tags": []
          },
          "execution_count": 32
        }
      ]
    },
    {
      "cell_type": "code",
      "metadata": {
        "colab": {
          "base_uri": "https://localhost:8080/"
        },
        "id": "taDJhPuB4XV0",
        "outputId": "b4a2189d-7123-4be8-90bf-eba0786fa3db"
      },
      "source": [
        "\"www.networksciencelab.com\".isdigit() # 0~9 사이 정수인지 확인"
      ],
      "execution_count": null,
      "outputs": [
        {
          "output_type": "execute_result",
          "data": {
            "text/plain": [
              "False"
            ]
          },
          "metadata": {
            "tags": []
          },
          "execution_count": 33
        }
      ]
    },
    {
      "cell_type": "code",
      "metadata": {
        "colab": {
          "base_uri": "https://localhost:8080/"
        },
        "id": "RNJ-GRWR4eS5",
        "outputId": "c3effe59-1a77-444e-f345-7368a8361cf7"
      },
      "source": [
        "\"www.networksciencelab.com\".isalpha() # dot(.)을 제거해야만  True 반환"
      ],
      "execution_count": null,
      "outputs": [
        {
          "output_type": "execute_result",
          "data": {
            "text/plain": [
              "False"
            ]
          },
          "metadata": {
            "tags": []
          },
          "execution_count": 34
        }
      ]
    },
    {
      "cell_type": "code",
      "metadata": {
        "colab": {
          "base_uri": "https://localhost:8080/"
        },
        "id": "pWXdRh4h4qOf",
        "outputId": "85c27201-88a3-491c-eb71-b0ae9710f44d"
      },
      "source": [
        "\"wwwnetworksciencelabcom\".isalpha() # 알파벳 체크 -> 숫자, 특수기호등이 있으면 False 반환"
      ],
      "execution_count": null,
      "outputs": [
        {
          "output_type": "execute_result",
          "data": {
            "text/plain": [
              "True"
            ]
          },
          "metadata": {
            "tags": []
          },
          "execution_count": 35
        }
      ]
    },
    {
      "cell_type": "markdown",
      "metadata": {
        "id": "SvZVXAF95J3V"
      },
      "source": [
        "대 소문자 변환 함수 -> 모든 문자 대 소문자 변환 (문자열의 복사본 반환)"
      ]
    },
    {
      "cell_type": "code",
      "metadata": {
        "colab": {
          "base_uri": "https://localhost:8080/",
          "height": 35
        },
        "id": "-Arp-wt14uuG",
        "outputId": "77fe843b-d040-447b-d7d0-ebb6600d9ed4"
      },
      "source": [
        "st = \"www.networksciencelab.com\".upper() # 문자열의 모든 알파뱃을 대문자로 바꿔서 st라는 변수에 저장\n",
        "st"
      ],
      "execution_count": null,
      "outputs": [
        {
          "output_type": "execute_result",
          "data": {
            "application/vnd.google.colaboratory.intrinsic+json": {
              "type": "string"
            },
            "text/plain": [
              "'WWW.NETWORKSCIENCELAB.COM'"
            ]
          },
          "metadata": {
            "tags": []
          },
          "execution_count": 43
        }
      ]
    },
    {
      "cell_type": "code",
      "metadata": {
        "colab": {
          "base_uri": "https://localhost:8080/",
          "height": 35
        },
        "id": "jhJSxpP45aWI",
        "outputId": "4e1e566f-934d-46ea-b1f1-aaa14571531f"
      },
      "source": [
        "st.lower() # 출력값만 변해서 보여준다."
      ],
      "execution_count": null,
      "outputs": [
        {
          "output_type": "execute_result",
          "data": {
            "application/vnd.google.colaboratory.intrinsic+json": {
              "type": "string"
            },
            "text/plain": [
              "'www.networksciencelab.com'"
            ]
          },
          "metadata": {
            "tags": []
          },
          "execution_count": 44
        }
      ]
    },
    {
      "cell_type": "code",
      "metadata": {
        "colab": {
          "base_uri": "https://localhost:8080/",
          "height": 35
        },
        "id": "igUsnlCe5hLi",
        "outputId": "8a4143c7-2661-4463-93bf-5a88df1a3258"
      },
      "source": [
        "st # 변수에 저장하지 않으면 값이 변하지 않는다."
      ],
      "execution_count": null,
      "outputs": [
        {
          "output_type": "execute_result",
          "data": {
            "application/vnd.google.colaboratory.intrinsic+json": {
              "type": "string"
            },
            "text/plain": [
              "'WWW.NETWORKSCIENCELAB.COM'"
            ]
          },
          "metadata": {
            "tags": []
          },
          "execution_count": 46
        }
      ]
    },
    {
      "cell_type": "markdown",
      "metadata": {
        "id": "c0J_ERV_Np0m"
      },
      "source": [
        "2. 올바른 자료구조 선택하기"
      ]
    },
    {
      "cell_type": "markdown",
      "metadata": {
        "id": "uNCyiNUVN2Sg"
      },
      "source": [
        "중복된 아이템이 있는 리스트 -> myList"
      ]
    },
    {
      "cell_type": "code",
      "metadata": {
        "colab": {
          "base_uri": "https://localhost:8080/"
        },
        "id": "oO24omosNwDs",
        "outputId": "a370ea77-46e7-46ef-8ffa-92bf458193f5"
      },
      "source": [
        "myList = \"This string\\n\\r has many\\t\\tspaces\\tThis string\\n\\r has many\\t\\tspaces\".split() # 결괏값이 어떻게 나올지 예상하고 실행하기\n",
        "myList"
      ],
      "execution_count": null,
      "outputs": [
        {
          "output_type": "execute_result",
          "data": {
            "text/plain": [
              "['This',\n",
              " 'string',\n",
              " 'has',\n",
              " 'many',\n",
              " 'spaces',\n",
              " 'This',\n",
              " 'string',\n",
              " 'has',\n",
              " 'many',\n",
              " 'spaces']"
            ]
          },
          "metadata": {
            "tags": []
          },
          "execution_count": 51
        }
      ]
    },
    {
      "cell_type": "markdown",
      "metadata": {
        "id": "3LD0nvWhONFh"
      },
      "source": [
        "list -> set -> 다시 list로 변환"
      ]
    },
    {
      "cell_type": "code",
      "metadata": {
        "colab": {
          "base_uri": "https://localhost:8080/"
        },
        "id": "k5GiluBdOGob",
        "outputId": "04bf1602-4b43-417d-ddc8-4266b7b98ede"
      },
      "source": [
        "# 1) set 변환 (중복 제거를 위해)\n",
        "set(myList)\n",
        "# 2) 다시 List로 변환\n",
        "myList = list(set(myList))"
      ],
      "execution_count": null,
      "outputs": [
        {
          "output_type": "execute_result",
          "data": {
            "text/plain": [
              "{'This', 'has', 'many', 'spaces', 'string'}"
            ]
          },
          "metadata": {
            "tags": []
          },
          "execution_count": 52
        }
      ]
    },
    {
      "cell_type": "code",
      "metadata": {
        "colab": {
          "base_uri": "https://localhost:8080/"
        },
        "id": "b5NIc8RQOjpM",
        "outputId": "37acd0c8-30fe-45d5-e47c-4f847b93c8f6"
      },
      "source": [
        "myList"
      ],
      "execution_count": null,
      "outputs": [
        {
          "output_type": "execute_result",
          "data": {
            "text/plain": [
              "['string', 'spaces', 'has', 'This', 'many']"
            ]
          },
          "metadata": {
            "tags": []
          },
          "execution_count": 56
        }
      ]
    },
    {
      "cell_type": "markdown",
      "metadata": {
        "id": "B4DdxDPfPPw6"
      },
      "source": [
        "List vs Set 회원 명단 조회하기"
      ]
    },
    {
      "cell_type": "code",
      "metadata": {
        "colab": {
          "base_uri": "https://localhost:8080/"
        },
        "id": "DHlkBehxPCbx",
        "outputId": "fee0d43a-9bfc-4756-a91e-a0af9ad3d0d7"
      },
      "source": [
        "bigList = [str(i) for i in range(10000000)] # 리스트 내포\n",
        "\"abc\" in bigList # bigList라는 리스트 안에 abc 데이터 IN(포함) 되어 있는지 확인 # 2초 걸림"
      ],
      "execution_count": null,
      "outputs": [
        {
          "output_type": "execute_result",
          "data": {
            "text/plain": [
              "False"
            ]
          },
          "metadata": {
            "tags": []
          },
          "execution_count": 60
        }
      ]
    },
    {
      "cell_type": "code",
      "metadata": {
        "colab": {
          "base_uri": "https://localhost:8080/"
        },
        "id": "1UwzD6GXP_8Y",
        "outputId": "2f8c5cde-539b-409e-ba7b-abdcc0444568"
      },
      "source": [
        "bigList = set(bigList) # Set으로 변환하면 중복 제거되기 때문에 데이터 조회 시 빠름\n",
        "\"abc\" in bigList # 0초 걸림"
      ],
      "execution_count": null,
      "outputs": [
        {
          "output_type": "execute_result",
          "data": {
            "text/plain": [
              "False"
            ]
          },
          "metadata": {
            "tags": []
          },
          "execution_count": 61
        }
      ]
    },
    {
      "cell_type": "markdown",
      "metadata": {
        "id": "0OGoU6hhRfw7"
      },
      "source": [
        "Dictionary (key : value 로 검색해야할 때 매우 유용)"
      ]
    },
    {
      "cell_type": "code",
      "metadata": {
        "colab": {
          "base_uri": "https://localhost:8080/"
        },
        "id": "8Rpq5VEeQPLN",
        "outputId": "e9f331b7-a52b-4f07-ddeb-90f7e8a2bc0c"
      },
      "source": [
        "# 1) List 준비\n",
        "seq = [\"alpha\",\"bravo\",\"charlie\",\"delta\"] # data들은 values 값이 된다\n",
        "\n",
        "# 2) Dictionary 만들기\n",
        "dict(enumerate(seq)) # LIst의 index 정보를 key값으로, LIst의 data들은 values 값이 된다"
      ],
      "execution_count": null,
      "outputs": [
        {
          "output_type": "execute_result",
          "data": {
            "text/plain": [
              "{0: 'alpha', 1: 'bravo', 2: 'charlie', 3: 'delta'}"
            ]
          },
          "metadata": {
            "tags": []
          },
          "execution_count": 63
        }
      ]
    },
    {
      "cell_type": "markdown",
      "metadata": {
        "id": "rRbJojXcTkr-"
      },
      "source": [
        "List -> Dictionary 만들기 : key 순서열과 value 순서열에 클래스 생성자인 zip(key,value) 사용"
      ]
    },
    {
      "cell_type": "code",
      "metadata": {
        "colab": {
          "base_uri": "https://localhost:8080/"
        },
        "id": "kF8IvVw4Spvs",
        "outputId": "0e6c8250-6621-42a1-c1a5-991edaf31fd4"
      },
      "source": [
        "kseq = \"abcd\" # 문자열 또한, 순서열이다\n",
        "vseq = [\"alpha\",\"bravo\",\"charlie\",\"delta\"]\n",
        "\n",
        "dict(zip(kseq,vseq))"
      ],
      "execution_count": null,
      "outputs": [
        {
          "output_type": "execute_result",
          "data": {
            "text/plain": [
              "{'a': 'alpha', 'b': 'bravo', 'c': 'charlie', 'd': 'delta'}"
            ]
          },
          "metadata": {
            "tags": []
          },
          "execution_count": 64
        }
      ]
    },
    {
      "cell_type": "code",
      "metadata": {
        "colab": {
          "base_uri": "https://localhost:8080/"
        },
        "id": "pOMwfERJUP0K",
        "outputId": "7085ed5e-bd3e-4cb9-8c0d-8653c03dc8cf"
      },
      "source": [
        "kseq = \"aaaa\"\n",
        "vseq = [\"alpha\",\"bravo\",\"charlie\",\"delta\"]\n",
        "\n",
        "dict(zip(kseq,vseq)) # key값이 중복되면 안되기 때문에 a에 List의 value를 순서대로 담다가, 마지막 value만 남는다"
      ],
      "execution_count": null,
      "outputs": [
        {
          "output_type": "execute_result",
          "data": {
            "text/plain": [
              "{'a': 'delta'}"
            ]
          },
          "metadata": {
            "tags": []
          },
          "execution_count": 68
        }
      ]
    },
    {
      "cell_type": "markdown",
      "metadata": {
        "id": "eFkwlCmSaIf5"
      },
      "source": [
        "Counter는 딕셔너리 스타일의 컬렉션에서 다른 컬렉션 안의 아이템 갯수 셀 때 사용"
      ]
    },
    {
      "cell_type": "code",
      "metadata": {
        "colab": {
          "base_uri": "https://localhost:8080/"
        },
        "id": "XR-w4So8UYhA",
        "outputId": "ff06672d-c48d-44e0-e873-dacbb87a39a3"
      },
      "source": [
        "from collections import Counter\n",
        "\n",
        "phrase = \"a plan a man a canal panama\"\n",
        "\n",
        "ls = phrase.split()\n",
        "ls"
      ],
      "execution_count": null,
      "outputs": [
        {
          "output_type": "execute_result",
          "data": {
            "text/plain": [
              "['a', 'plan', 'a', 'man', 'a', 'canal', 'panama']"
            ]
          },
          "metadata": {
            "tags": []
          },
          "execution_count": 84
        }
      ]
    },
    {
      "cell_type": "code",
      "metadata": {
        "colab": {
          "base_uri": "https://localhost:8080/"
        },
        "id": "kx1-YP26cCaP",
        "outputId": "98b2499f-65c0-4b54-8bbf-4423aa9c0cf4"
      },
      "source": [
        "cntr = Counter(ls)\n",
        "cntr"
      ],
      "execution_count": null,
      "outputs": [
        {
          "output_type": "execute_result",
          "data": {
            "text/plain": [
              "Counter({'a': 3, 'canal': 1, 'man': 1, 'panama': 1, 'plan': 1})"
            ]
          },
          "metadata": {
            "tags": []
          },
          "execution_count": 85
        }
      ]
    },
    {
      "cell_type": "code",
      "metadata": {
        "colab": {
          "base_uri": "https://localhost:8080/"
        },
        "id": "wL0t967laok9",
        "outputId": "d2004573-c305-4cbe-bfe5-4882dcaf3ecd"
      },
      "source": [
        "cntr.most_common(3) # 가장 빈번하게 등장한 n개의 아이템과 빈도 추출."
      ],
      "execution_count": null,
      "outputs": [
        {
          "output_type": "execute_result",
          "data": {
            "text/plain": [
              "[('a', 3), ('plan', 1), ('man', 1)]"
            ]
          },
          "metadata": {
            "tags": []
          },
          "execution_count": 81
        }
      ]
    },
    {
      "cell_type": "code",
      "metadata": {
        "colab": {
          "base_uri": "https://localhost:8080/"
        },
        "id": "15ybeNhTa5fs",
        "outputId": "44925ea7-fb9f-4089-f22b-40bbb9e8f308"
      },
      "source": [
        "cntrDict = dict(cntr.most_common()) # key - 추출된 아이템, value - 추출된 아이템의 빈도수\n",
        "cntrDict"
      ],
      "execution_count": null,
      "outputs": [
        {
          "output_type": "execute_result",
          "data": {
            "text/plain": [
              "{'a': 3, 'canal': 1, 'man': 1, 'panama': 1, 'plan': 1}"
            ]
          },
          "metadata": {
            "tags": []
          },
          "execution_count": 86
        }
      ]
    },
    {
      "cell_type": "code",
      "metadata": {
        "colab": {
          "base_uri": "https://localhost:8080/"
        },
        "id": "OouMbhQPcwGY",
        "outputId": "272ebdf5-b1d8-4ff3-f27d-aedc00627746"
      },
      "source": [
        "cntrDict['man']"
      ],
      "execution_count": null,
      "outputs": [
        {
          "output_type": "execute_result",
          "data": {
            "text/plain": [
              "1"
            ]
          },
          "metadata": {
            "tags": []
          },
          "execution_count": 88
        }
      ]
    },
    {
      "cell_type": "markdown",
      "metadata": {
        "id": "ojXukBMad-Yc"
      },
      "source": [
        "Web에 접근하기"
      ]
    },
    {
      "cell_type": "code",
      "metadata": {
        "colab": {
          "base_uri": "https://localhost:8080/"
        },
        "id": "W7VodPL8cyWb",
        "outputId": "4861b115-8ecc-4f42-b471-ccee61c11bff"
      },
      "source": [
        "import urllib.request\n",
        "\n",
        "try : # 만약 오류가 발생하면 except문으로 가라\n",
        "  with urllib.urlopen(\"http://networksciencelab.com\") as doc :\n",
        "    html = doc.read()\n",
        "    print(html)\n",
        "\n",
        "except : # 예외처리\n",
        "  print(\"could not open\")"
      ],
      "execution_count": null,
      "outputs": [
        {
          "output_type": "stream",
          "text": [
            "could not open\n"
          ],
          "name": "stdout"
        }
      ]
    },
    {
      "cell_type": "code",
      "metadata": {
        "colab": {
          "base_uri": "https://localhost:8080/"
        },
        "id": "Ig-s92C8gyxn",
        "outputId": "c8d42172-c6cb-4e3c-9e57-031f3e175dea"
      },
      "source": [
        "import urllib.parse\n",
        "\n",
        "URL = \"http://networksciencelab.com/index.html;param?foo=bar#content\" # url 파싱하여 6개의 아이템으로 구성된 튜플로 분리한다. 스키마 네트워크 주소,파일 시스템 경로,파라미터,쿼리,플래그먼트\n",
        "\n",
        "urllib.parse.urlparse(URL)"
      ],
      "execution_count": null,
      "outputs": [
        {
          "output_type": "execute_result",
          "data": {
            "text/plain": [
              "ParseResult(scheme='http', netloc='networksciencelab.com', path='/index.html', params='param', query='foo=bar', fragment='content')"
            ]
          },
          "metadata": {
            "tags": []
          },
          "execution_count": 91
        }
      ]
    },
    {
      "cell_type": "markdown",
      "metadata": {
        "id": "LOFtd33YoPBw"
      },
      "source": [
        "정규식"
      ]
    },
    {
      "cell_type": "code",
      "metadata": {
        "colab": {
          "base_uri": "https://localhost:8080/"
        },
        "id": "lT8mQoBChNi3",
        "outputId": "f4bf0f79-8c3c-4078-e2f5-3927d94f0e11"
      },
      "source": [
        "a = \"abcdef\\n\"\n",
        "print(a)\n",
        "\n",
        "b = r'abcdef\\n' # r+문자열 - 원천 문자열(raw string)로 인식\n",
        "print(b)"
      ],
      "execution_count": null,
      "outputs": [
        {
          "output_type": "stream",
          "text": [
            "abcdef\n",
            "\n",
            "abcdef\\n\n"
          ],
          "name": "stdout"
        }
      ]
    },
    {
      "cell_type": "code",
      "metadata": {
        "colab": {
          "base_uri": "https://localhost:8080/"
        },
        "id": "TZJP5cUOobdY",
        "outputId": "f60129c2-7daf-495b-9029-a94699cdb58c"
      },
      "source": [
        "import re\n",
        "\n",
        "re.compile(r\"(\\d+)/(\\d+)/(\\d+)\") # raw string -> 0/0/0 1/1/1 3/3/3"
      ],
      "execution_count": null,
      "outputs": [
        {
          "output_type": "execute_result",
          "data": {
            "text/plain": [
              "re.compile(r'(\\d+)/(\\d+)/(\\d+)', re.UNICODE)"
            ]
          },
          "metadata": {
            "tags": []
          },
          "execution_count": 99
        }
      ]
    },
    {
      "cell_type": "code",
      "metadata": {
        "colab": {
          "base_uri": "https://localhost:8080/"
        },
        "id": "tCYJvsKgp9s6",
        "outputId": "ccbab1c0-0766-444b-a609-c3e2fbd17e86"
      },
      "source": [
        "re.compile(\"(\\\\d+)/(\\\\d+)/(\\\\d+)\") # raw string 사용하지 않으면, 역슬래시를 두 번 사용해야 하는 불편함 -> 그래서 보통 r문자를 붙여줌"
      ],
      "execution_count": null,
      "outputs": [
        {
          "output_type": "execute_result",
          "data": {
            "text/plain": [
              "re.compile(r'(\\d+)/(\\d+)/(\\d+)', re.UNICODE)"
            ]
          },
          "metadata": {
            "tags": []
          },
          "execution_count": 100
        }
      ]
    },
    {
      "cell_type": "markdown",
      "metadata": {
        "id": "D2lMuEhkqaVs"
      },
      "source": [
        "re.split() 함수 단어 분석을 위한 기본적인 단어 토크나이저로 사용할 수 있음"
      ]
    },
    {
      "cell_type": "code",
      "metadata": {
        "colab": {
          "base_uri": "https://localhost:8080/"
        },
        "id": "clivcZsxqYkH",
        "outputId": "22dda354-eef9-479d-ebdc-1f922c6519c0"
      },
      "source": [
        "import re\n",
        "\n",
        "re.split(r\"\\W\",\"Hello, world!\") # r'\\W' -> 숫자, 알파벳 제외 한 개채 1개 -> 잘라라"
      ],
      "execution_count": null,
      "outputs": [
        {
          "output_type": "execute_result",
          "data": {
            "text/plain": [
              "['Hello', '', 'world', '']"
            ]
          },
          "metadata": {
            "tags": []
          },
          "execution_count": 101
        }
      ]
    },
    {
      "cell_type": "code",
      "metadata": {
        "colab": {
          "base_uri": "https://localhost:8080/"
        },
        "id": "vtNUDxP9rcoz",
        "outputId": "b9b0f105-df8e-47ab-b214-3c149219ca07"
      },
      "source": [
        "# 인근에 위치한 비문자(non-letter) (,)를 합친다.\n",
        "re.split(r\"\\W+\",\"Hello,, , world!\") # r'\\W+' 알파벳이나 숫자가 아닌 개체 1개 이상 합친다(+)"
      ],
      "execution_count": null,
      "outputs": [
        {
          "output_type": "execute_result",
          "data": {
            "text/plain": [
              "['Hello', 'world', '']"
            ]
          },
          "metadata": {
            "tags": []
          },
          "execution_count": 107
        }
      ]
    },
    {
      "cell_type": "code",
      "metadata": {
        "colab": {
          "base_uri": "https://localhost:8080/"
        },
        "id": "K7hCc4kusFZN",
        "outputId": "bde31940-917f-4b75-ee7a-cba82668f658"
      },
      "source": [
        "mo = re.match(r'\\d+',\"067 055starts with a number\")\n",
        "mo"
      ],
      "execution_count": null,
      "outputs": [
        {
          "output_type": "execute_result",
          "data": {
            "text/plain": [
              "<re.Match object; span=(0, 3), match='067'>"
            ]
          },
          "metadata": {
            "tags": []
          },
          "execution_count": 130
        }
      ]
    },
    {
      "cell_type": "code",
      "metadata": {
        "colab": {
          "base_uri": "https://localhost:8080/",
          "height": 35
        },
        "id": "t0ETpY4etbNs",
        "outputId": "b9c324d0-b7e0-401a-8379-105bc6d0e974"
      },
      "source": [
        "mo.group()"
      ],
      "execution_count": null,
      "outputs": [
        {
          "output_type": "execute_result",
          "data": {
            "application/vnd.google.colaboratory.intrinsic+json": {
              "type": "string"
            },
            "text/plain": [
              "'067'"
            ]
          },
          "metadata": {
            "tags": []
          },
          "execution_count": 131
        }
      ]
    },
    {
      "cell_type": "code",
      "metadata": {
        "colab": {
          "base_uri": "https://localhost:8080/"
        },
        "id": "bTAXAljxt4u_",
        "outputId": "2f932295-c387-411e-9a9a-038adcbbfb8c"
      },
      "source": [
        "print(re.match(r'\\d+',\"Does not starts with a number\")) # 숫자가 없기 때문에 None"
      ],
      "execution_count": null,
      "outputs": [
        {
          "output_type": "stream",
          "text": [
            "None\n"
          ],
          "name": "stdout"
        }
      ]
    },
    {
      "cell_type": "code",
      "metadata": {
        "colab": {
          "base_uri": "https://localhost:8080/"
        },
        "id": "HN29Xbo0uE42",
        "outputId": "9fb73286-c5ca-4920-9346-850a206534c4"
      },
      "source": [
        "# serch() 문자열 일부분이 정규식과 매칭되는지 확인(매칭되는게 앞부분에 없다면 이 함수 사용)\n",
        "# [a-z] : 소문자들만 일치\n",
        "# re.I : 대소문자 구분하지 않음\n",
        "print(re.search(r\"[a-z]+\",\"0010010 Has at least one 010 letter 0010010\"))\n",
        "print(re.search(r\"[a-z]+\",\"0010010 Has at least one 010 letter 0010010\").group())\n",
        "print(re.search(r\"[a-z]+\",\"0010010 Has at least one 010 letter 0010010\",re.I).group())"
      ],
      "execution_count": null,
      "outputs": [
        {
          "output_type": "stream",
          "text": [
            "<re.Match object; span=(9, 11), match='as'>\n",
            "as\n",
            "Has\n"
          ],
          "name": "stdout"
        }
      ]
    },
    {
      "cell_type": "code",
      "metadata": {
        "colab": {
          "base_uri": "https://localhost:8080/",
          "height": 35
        },
        "id": "2XWkzP6_vMgp",
        "outputId": "b3daa7bd-d569-4313-c19b-7efee2c2a788"
      },
      "source": [
        "# serch() 문자열 일부분이 정규식과 매칭되는지 확인(매칭되는게 앞부분에 없다면 이 함수 사용)\n",
        "# [a-z] : 소문자들만 일치\n",
        "re.search(r\"[A-Z]+\",\"0010010 has at least ONE 010 letter 0010010\").group()"
      ],
      "execution_count": null,
      "outputs": [
        {
          "output_type": "execute_result",
          "data": {
            "application/vnd.google.colaboratory.intrinsic+json": {
              "type": "string"
            },
            "text/plain": [
              "'ONE'"
            ]
          },
          "metadata": {
            "tags": []
          },
          "execution_count": 121
        }
      ]
    },
    {
      "cell_type": "code",
      "metadata": {
        "colab": {
          "base_uri": "https://localhost:8080/"
        },
        "id": "anWRW1NQwNWB",
        "outputId": "854dfa24-97e7-481b-d2f7-5cdcf2f18554"
      },
      "source": [
        "# findall : 정규식에 부합하는 모든 문자열 찾기(대소문자 무시하려면 flags에 're.I'를 쓰면 된다) -> 모든 소문자 들어있는 토큰 찾기\n",
        "print(re.findall(r\"[a-z]+\",\"0010010 Has at least one 010 letter 0010010\",re.I))\n",
        "print(re.findall(r\"[a-z]+\",\"0010010 Has at least one 010 letter 0010010\"))"
      ],
      "execution_count": null,
      "outputs": [
        {
          "output_type": "stream",
          "text": [
            "['Has', 'at', 'least', 'one', 'letter']\n",
            "['as', 'at', 'least', 'one', 'letter']\n"
          ],
          "name": "stdout"
        }
      ]
    },
    {
      "cell_type": "code",
      "metadata": {
        "colab": {
          "base_uri": "https://localhost:8080/"
        },
        "id": "9idWp1NExVIb",
        "outputId": "94e0538f-16db-4f02-a27c-16bc3d814b56"
      },
      "source": [
        "# findall : 정규식에 부합하는 모든 문자열 찾기\n",
        "re.findall(r\"\\d+\",\"0010010 Has at least one 010 letter 0010010\")"
      ],
      "execution_count": null,
      "outputs": [
        {
          "output_type": "execute_result",
          "data": {
            "text/plain": [
              "['0010010', '010', '0010010']"
            ]
          },
          "metadata": {
            "tags": []
          },
          "execution_count": 124
        }
      ]
    },
    {
      "cell_type": "code",
      "metadata": {
        "colab": {
          "base_uri": "https://localhost:8080/"
        },
        "id": "O75cA3iYxm59",
        "outputId": "80f77e89-30b3-4e9b-a192-4c9f21190011"
      },
      "source": [
        "# findall : 정규식에 부합하는 모든 문자열 찾기\n",
        "re.findall(r\"\\D+\",\"0010010 Has at least one 010 letter 0010010\")"
      ],
      "execution_count": null,
      "outputs": [
        {
          "output_type": "execute_result",
          "data": {
            "text/plain": [
              "[' Has at least one ', ' letter ']"
            ]
          },
          "metadata": {
            "tags": []
          },
          "execution_count": 125
        }
      ]
    },
    {
      "cell_type": "code",
      "metadata": {
        "colab": {
          "base_uri": "https://localhost:8080/"
        },
        "id": "dqz-iBMSxtZy",
        "outputId": "cb2a50e4-da52-4e24-ea48-3f7dc99ad4ef"
      },
      "source": [
        "# findall : 정규식에 부합하는 모든 문자열 찾기\n",
        "re.findall(r\"[^a-z]+\",\"0010010 Has at least one 010 letter 0010010\")"
      ],
      "execution_count": null,
      "outputs": [
        {
          "output_type": "execute_result",
          "data": {
            "text/plain": [
              "['0010010 H', ' ', ' ', ' ', ' 010 ', ' 0010010']"
            ]
          },
          "metadata": {
            "tags": []
          },
          "execution_count": 126
        }
      ]
    },
    {
      "cell_type": "code",
      "metadata": {
        "colab": {
          "base_uri": "https://localhost:8080/",
          "height": 35
        },
        "id": "C7ZPaKoyx77f",
        "outputId": "ae0ca9d1-f35f-4869-a3a2-876b7da01d58"
      },
      "source": [
        "# sub : string으로 매칭되는 부분 문자열을 repl로 치환\n",
        "re.sub(r\"[a-z]+\",'[...]',\"0010010 Has at least one 010 letter 0010010\",flags=re.I)"
      ],
      "execution_count": null,
      "outputs": [
        {
          "output_type": "execute_result",
          "data": {
            "application/vnd.google.colaboratory.intrinsic+json": {
              "type": "string"
            },
            "text/plain": [
              "'0010010 [...] [...] [...] [...] 010 [...] 0010010'"
            ]
          },
          "metadata": {
            "tags": []
          },
          "execution_count": 129
        }
      ]
    },
    {
      "cell_type": "code",
      "metadata": {
        "colab": {
          "base_uri": "https://localhost:8080/",
          "height": 35
        },
        "id": "gT7utuhcynNX",
        "outputId": "f41e2e84-5d93-479b-bfb9-236fb3d05893"
      },
      "source": [
        "# 010-abcd-0100 -> abcd를 **** 으로 치환\n",
        "re.sub(r\"[a-z]+\",'****',\"010-abcd-0100\",0,flags=re.I)"
      ],
      "execution_count": null,
      "outputs": [
        {
          "output_type": "execute_result",
          "data": {
            "application/vnd.google.colaboratory.intrinsic+json": {
              "type": "string"
            },
            "text/plain": [
              "'010-****-0100'"
            ]
          },
          "metadata": {
            "tags": []
          },
          "execution_count": 133
        }
      ]
    },
    {
      "cell_type": "code",
      "metadata": {
        "colab": {
          "base_uri": "https://localhost:8080/",
          "height": 35
        },
        "id": "Zqt1FhTl5YiG",
        "outputId": "b2b301ce-c614-498c-9ffe-83f19bfe703c"
      },
      "source": [
        "re.sub(r\"\\d+\",\"****\",\"010-abcd-0100\")"
      ],
      "execution_count": null,
      "outputs": [
        {
          "output_type": "execute_result",
          "data": {
            "application/vnd.google.colaboratory.intrinsic+json": {
              "type": "string"
            },
            "text/plain": [
              "'****-abcd-****'"
            ]
          },
          "metadata": {
            "tags": []
          },
          "execution_count": 135
        }
      ]
    },
    {
      "cell_type": "code",
      "metadata": {
        "colab": {
          "base_uri": "https://localhost:8080/",
          "height": 35
        },
        "id": "kCuwP1cC5ni3",
        "outputId": "2ea74d27-d38e-41e2-9a29-7951eedd251c"
      },
      "source": [
        "re.sub(r\"[0-9]+\",\"****\",\"010-abcd-0100\")"
      ],
      "execution_count": null,
      "outputs": [
        {
          "output_type": "execute_result",
          "data": {
            "application/vnd.google.colaboratory.intrinsic+json": {
              "type": "string"
            },
            "text/plain": [
              "'****-abcd-****'"
            ]
          },
          "metadata": {
            "tags": []
          },
          "execution_count": 136
        }
      ]
    },
    {
      "cell_type": "code",
      "metadata": {
        "colab": {
          "base_uri": "https://localhost:8080/",
          "height": 35
        },
        "id": "_OaRc-PT55ZV",
        "outputId": "27175dcd-5715-42b2-c676-e35d962fe311"
      },
      "source": [
        "re.sub(r\"\\W+\",\"****\",\"010-abcd-0100\")"
      ],
      "execution_count": null,
      "outputs": [
        {
          "output_type": "execute_result",
          "data": {
            "application/vnd.google.colaboratory.intrinsic+json": {
              "type": "string"
            },
            "text/plain": [
              "'010****abcd****0100'"
            ]
          },
          "metadata": {
            "tags": []
          },
          "execution_count": 137
        }
      ]
    }
  ]
}