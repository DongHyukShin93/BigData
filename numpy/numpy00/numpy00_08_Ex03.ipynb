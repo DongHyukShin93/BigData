{
 "cells": [
  {
   "cell_type": "code",
   "execution_count": 1,
   "metadata": {},
   "outputs": [],
   "source": [
    "import numpy as np"
   ]
  },
  {
   "cell_type": "code",
   "execution_count": 2,
   "metadata": {},
   "outputs": [],
   "source": [
    "revenue_in_yen = [\n",
    "    300000, 340000, 320000, 360000, \n",
    "    440000, 140000, 180000, 340000, \n",
    "    330000, 290000, 280000, 380000, \n",
    "    170000, 140000, 230000, 390000, \n",
    "    400000, 350000, 380000, 150000, \n",
    "    110000, 240000, 380000, 380000, \n",
    "    340000, 420000, 150000, 130000, \n",
    "    360000, 320000, 250000\n",
    "] # 그냥 리스트형으로 되어있다."
   ]
  },
  {
   "cell_type": "code",
   "execution_count": 53,
   "metadata": {},
   "outputs": [],
   "source": [
    "revenue_in_yen_array = np.array(revenue_in_yen) # Numpy array형으로 바꾼다"
   ]
  },
  {
   "cell_type": "code",
   "execution_count": 62,
   "metadata": {},
   "outputs": [
    {
     "data": {
      "text/plain": [
       "array([300000, 340000, 320000, 360000, 440000, 140000, 180000, 340000,\n",
       "       330000, 290000, 280000, 380000, 170000, 140000, 230000, 390000,\n",
       "       400000, 350000, 380000, 150000, 110000, 240000, 380000, 380000,\n",
       "       340000, 420000, 150000, 130000, 360000, 320000, 250000])"
      ]
     },
     "execution_count": 62,
     "metadata": {},
     "output_type": "execute_result"
    }
   ],
   "source": [
    "revenue_in_yen_array"
   ]
  },
  {
   "cell_type": "code",
   "execution_count": 65,
   "metadata": {},
   "outputs": [],
   "source": [
    "revenue_in_won = revenue_in_yen_array * 10.08 # 곱하기할 때 실수형으로 곱해서 결과에 실수형으로 나옴"
   ]
  },
  {
   "cell_type": "code",
   "execution_count": 108,
   "metadata": {},
   "outputs": [
    {
     "name": "stdout",
     "output_type": "stream",
     "text": [
      "[3024000. 3427200. 3225600. 3628800. 4435200. 1411200. 1814400. 3427200.\n",
      " 3326400. 2923200. 2822400. 3830400. 1713600. 1411200. 2318400. 3931200.\n",
      " 4032000. 3528000. 3830400. 1512000. 1108800. 2419200. 3830400. 3830400.\n",
      " 3427200. 4233600. 1512000. 1310400. 3628800. 3225600. 2520000.]\n"
     ]
    }
   ],
   "source": [
    "print(revenue_in_won)"
   ]
  },
  {
   "cell_type": "code",
   "execution_count": 109,
   "metadata": {},
   "outputs": [
    {
     "name": "stdout",
     "output_type": "stream",
     "text": [
      "최대매출 : 4435200원\n",
      "최소매출 : 1108800원\n",
      "매출평균 : 2923200원\n"
     ]
    }
   ],
   "source": [
    "revenue_in_won_max = np.max(revenue_in_won)\n",
    "revenue_in_won_min = np.min(revenue_in_won)\n",
    "revenue_in_won_avg = np.average(revenue_in_won) # mean = 2,923,200 / average = 2,923,200\n",
    "print(\"최대매출 : %0.0f원\"%revenue_in_won_max)\n",
    "print(\"최소매출 : %0.0f원\"%revenue_in_won_min)\n",
    "print(\"매출평균 : %0.0f원\"%revenue_in_won_avg)"
   ]
  },
  {
   "cell_type": "code",
   "execution_count": 103,
   "metadata": {},
   "outputs": [],
   "source": [
    "result = str(revenue_in_won)"
   ]
  },
  {
   "cell_type": "code",
   "execution_count": 104,
   "metadata": {},
   "outputs": [
    {
     "data": {
      "text/plain": [
       "'[3024000. 3427200. 3225600. 3628800. 4435200. 1411200. 1814400. 3427200.\\n 3326400. 2923200. 2822400. 3830400. 1713600. 1411200. 2318400. 3931200.\\n 4032000. 3528000. 3830400. 1512000. 1108800. 2419200. 3830400. 3830400.\\n 3427200. 4233600. 1512000. 1310400. 3628800. 3225600. 2520000.]'"
      ]
     },
     "execution_count": 104,
     "metadata": {},
     "output_type": "execute_result"
    }
   ],
   "source": [
    "result"
   ]
  },
  {
   "cell_type": "code",
   "execution_count": 105,
   "metadata": {},
   "outputs": [
    {
     "name": "stdout",
     "output_type": "stream",
     "text": [
      "[\n",
      "]\n"
     ]
    }
   ],
   "source": [
    "print(result[0]) # 대괄호도 문자로 인식한다.\n",
    "print(result[-1])"
   ]
  },
  {
   "cell_type": "code",
   "execution_count": 106,
   "metadata": {},
   "outputs": [],
   "source": [
    "result1 = result.replace(\".\",\"원\")"
   ]
  },
  {
   "cell_type": "code",
   "execution_count": 107,
   "metadata": {},
   "outputs": [
    {
     "name": "stdout",
     "output_type": "stream",
     "text": [
      "[3024000원 3427200원 3225600원 3628800원 4435200원 1411200원 1814400원 3427200원\n",
      " 3326400원 2923200원 2822400원 3830400원 1713600원 1411200원 2318400원 3931200원\n",
      " 4032000원 3528000원 3830400원 1512000원 1108800원 2419200원 3830400원 3830400원\n",
      " 3427200원 4233600원 1512000원 1310400원 3628800원 3225600원 2520000원]\n"
     ]
    }
   ],
   "source": [
    "print(result1)"
   ]
  },
  {
   "cell_type": "code",
   "execution_count": 59,
   "metadata": {},
   "outputs": [
    {
     "name": "stdout",
     "output_type": "stream",
     "text": [
      "3024000.0원\t3427200.0원\t3225600.0원\t3628800.0원\t4435200.0원\t1411200.0원\t1814400.0원\t3427200.0원\t3326400.0원\t2923200.0원\t2822400.0원\t3830400.0원\t1713600.0원\t1411200.0원\t2318400.0원\t3931200.0원\t4032000.0원\t3528000.0원\t3830400.0원\t1512000.0원\t1108800.0원\t2419200.0원\t3830400.0원\t3830400.0원\t3427200.0원\t4233600.0원\t1512000.0원\t1310400.0원\t3628800.0원\t3225600.0원\t2520000.0원\t"
     ]
    }
   ],
   "source": [
    "'''\n",
    "for i in result :\n",
    "     #int(i)\n",
    "    print(\"%s원\"%i,end=\"\\t\")\n",
    "'''"
   ]
  },
  {
   "cell_type": "code",
   "execution_count": 60,
   "metadata": {},
   "outputs": [
    {
     "ename": "AttributeError",
     "evalue": "'list' object has no attribute 'replace'",
     "output_type": "error",
     "traceback": [
      "\u001b[1;31m---------------------------------------------------------------------------\u001b[0m",
      "\u001b[1;31mAttributeError\u001b[0m                            Traceback (most recent call last)",
      "\u001b[1;32m<ipython-input-60-d69a4170ec3a>\u001b[0m in \u001b[0;36m<module>\u001b[1;34m()\u001b[0m\n\u001b[1;32m----> 1\u001b[1;33m \u001b[0mresult\u001b[0m\u001b[1;33m.\u001b[0m\u001b[0mreplace\u001b[0m\u001b[1;33m(\u001b[0m\u001b[1;34m\".\"\u001b[0m\u001b[1;33m,\u001b[0m\u001b[1;34m\"원\"\u001b[0m\u001b[1;33m)\u001b[0m\u001b[1;33m\u001b[0m\u001b[0m\n\u001b[0m",
      "\u001b[1;31mAttributeError\u001b[0m: 'list' object has no attribute 'replace'"
     ]
    }
   ],
   "source": [
    "result.replace(\".\",\"원\")"
   ]
  },
  {
   "cell_type": "code",
   "execution_count": 32,
   "metadata": {},
   "outputs": [
    {
     "data": {
      "text/plain": [
       "'\\nfor i in a :\\n    print(format(i,\\',\\'),\"원\",end=\"\\t\")\\n'"
      ]
     },
     "execution_count": 32,
     "metadata": {},
     "output_type": "execute_result"
    }
   ],
   "source": [
    "'''\n",
    "for i in a :\n",
    "    print(format(i,','),\"원\",end=\"\\t\")\n",
    "'''"
   ]
  }
 ],
 "metadata": {
  "kernelspec": {
   "display_name": "Python 3",
   "language": "python",
   "name": "python3"
  },
  "language_info": {
   "codemirror_mode": {
    "name": "ipython",
    "version": 3
   },
   "file_extension": ".py",
   "mimetype": "text/x-python",
   "name": "python",
   "nbconvert_exporter": "python",
   "pygments_lexer": "ipython3",
   "version": "3.6.5"
  }
 },
 "nbformat": 4,
 "nbformat_minor": 2
}
